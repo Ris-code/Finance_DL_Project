{
  "cells": [
    {
      "cell_type": "markdown",
      "metadata": {
        "id": "0UzRe0diWv2w"
      },
      "source": [
        "# **Import Libraries**"
      ]
    },
    {
      "cell_type": "code",
      "execution_count": 1,
      "metadata": {
        "id": "K99uVVXmPtCN"
      },
      "outputs": [],
      "source": [
        "import pandas as pd\n",
        "import numpy as np\n",
        "import matplotlib.pyplot as plt\n",
        "from sklearn.preprocessing import MinMaxScaler\n",
        "from tensorflow.keras.models import Sequential, model_from_json\n",
        "from tensorflow.keras.layers import LSTM, Dense\n",
        "from tensorflow.keras.initializers import Orthogonal, Zeros, GlorotUniform\n",
        "from tensorflow.keras.utils import register_keras_serializable\n",
        "import plotly.graph_objs as go\n",
        "from tensorflow.keras.models import load_model\n",
        "from tensorflow.keras.initializers import Orthogonal"
      ]
    },
    {
      "cell_type": "markdown",
      "metadata": {
        "id": "gqQ8Na7oW2Kg"
      },
      "source": [
        "# **Data Loading**"
      ]
    },
    {
      "cell_type": "code",
      "execution_count": 2,
      "metadata": {
        "colab": {
          "base_uri": "https://localhost:8080/",
          "height": 423
        },
        "id": "wn8r08K6RFt7",
        "outputId": "c01ddcab-3510-4200-e3b9-351583d7cfd7"
      },
      "outputs": [
        {
          "data": {
            "text/html": [
              "<div>\n",
              "<style scoped>\n",
              "    .dataframe tbody tr th:only-of-type {\n",
              "        vertical-align: middle;\n",
              "    }\n",
              "\n",
              "    .dataframe tbody tr th {\n",
              "        vertical-align: top;\n",
              "    }\n",
              "\n",
              "    .dataframe thead th {\n",
              "        text-align: right;\n",
              "    }\n",
              "</style>\n",
              "<table border=\"1\" class=\"dataframe\">\n",
              "  <thead>\n",
              "    <tr style=\"text-align: right;\">\n",
              "      <th></th>\n",
              "      <th>Date</th>\n",
              "      <th>Open</th>\n",
              "      <th>High</th>\n",
              "      <th>Low</th>\n",
              "      <th>Close</th>\n",
              "      <th>Shares Traded</th>\n",
              "      <th>Turnover(in cr)</th>\n",
              "    </tr>\n",
              "  </thead>\n",
              "  <tbody>\n",
              "    <tr>\n",
              "      <th>0</th>\n",
              "      <td>01-Jan-18</td>\n",
              "      <td>10531.70</td>\n",
              "      <td>10537.85</td>\n",
              "      <td>10423.10</td>\n",
              "      <td>10435.55</td>\n",
              "      <td>134532090.0</td>\n",
              "      <td>7546.56</td>\n",
              "    </tr>\n",
              "    <tr>\n",
              "      <th>1</th>\n",
              "      <td>02-Jan-18</td>\n",
              "      <td>10477.55</td>\n",
              "      <td>10495.20</td>\n",
              "      <td>10404.65</td>\n",
              "      <td>10442.20</td>\n",
              "      <td>158092430.0</td>\n",
              "      <td>8665.47</td>\n",
              "    </tr>\n",
              "    <tr>\n",
              "      <th>2</th>\n",
              "      <td>03-Jan-18</td>\n",
              "      <td>10482.65</td>\n",
              "      <td>10503.60</td>\n",
              "      <td>10429.55</td>\n",
              "      <td>10443.20</td>\n",
              "      <td>172516859.0</td>\n",
              "      <td>9541.60</td>\n",
              "    </tr>\n",
              "    <tr>\n",
              "      <th>3</th>\n",
              "      <td>04-Jan-18</td>\n",
              "      <td>10469.40</td>\n",
              "      <td>10513.00</td>\n",
              "      <td>10441.45</td>\n",
              "      <td>10504.80</td>\n",
              "      <td>180257392.0</td>\n",
              "      <td>9561.95</td>\n",
              "    </tr>\n",
              "    <tr>\n",
              "      <th>4</th>\n",
              "      <td>05-Jan-18</td>\n",
              "      <td>10534.25</td>\n",
              "      <td>10566.10</td>\n",
              "      <td>10520.10</td>\n",
              "      <td>10558.85</td>\n",
              "      <td>186469717.0</td>\n",
              "      <td>10306.22</td>\n",
              "    </tr>\n",
              "    <tr>\n",
              "      <th>...</th>\n",
              "      <td>...</td>\n",
              "      <td>...</td>\n",
              "      <td>...</td>\n",
              "      <td>...</td>\n",
              "      <td>...</td>\n",
              "      <td>...</td>\n",
              "      <td>...</td>\n",
              "    </tr>\n",
              "    <tr>\n",
              "      <th>1575</th>\n",
              "      <td>14-May-24</td>\n",
              "      <td>22112.90</td>\n",
              "      <td>22270.05</td>\n",
              "      <td>22081.25</td>\n",
              "      <td>22217.85</td>\n",
              "      <td>230238941.0</td>\n",
              "      <td>23741.66</td>\n",
              "    </tr>\n",
              "    <tr>\n",
              "      <th>1576</th>\n",
              "      <td>15-May-24</td>\n",
              "      <td>22255.60</td>\n",
              "      <td>22297.55</td>\n",
              "      <td>22151.75</td>\n",
              "      <td>22200.55</td>\n",
              "      <td>231935478.0</td>\n",
              "      <td>23815.79</td>\n",
              "    </tr>\n",
              "    <tr>\n",
              "      <th>1577</th>\n",
              "      <td>16-May-24</td>\n",
              "      <td>22319.20</td>\n",
              "      <td>22432.25</td>\n",
              "      <td>22054.55</td>\n",
              "      <td>22403.85</td>\n",
              "      <td>368945092.0</td>\n",
              "      <td>38836.11</td>\n",
              "    </tr>\n",
              "    <tr>\n",
              "      <th>1578</th>\n",
              "      <td>17-May-24</td>\n",
              "      <td>22415.25</td>\n",
              "      <td>22502.15</td>\n",
              "      <td>22345.65</td>\n",
              "      <td>22466.10</td>\n",
              "      <td>242654570.0</td>\n",
              "      <td>27388.67</td>\n",
              "    </tr>\n",
              "    <tr>\n",
              "      <th>1579</th>\n",
              "      <td>18-May-24</td>\n",
              "      <td>22512.85</td>\n",
              "      <td>22520.25</td>\n",
              "      <td>22470.05</td>\n",
              "      <td>22502.00</td>\n",
              "      <td>19064566.0</td>\n",
              "      <td>1572.77</td>\n",
              "    </tr>\n",
              "  </tbody>\n",
              "</table>\n",
              "<p>1580 rows × 7 columns</p>\n",
              "</div>"
            ],
            "text/plain": [
              "           Date      Open      High       Low     Close  Shares Traded  \\\n",
              "0     01-Jan-18  10531.70  10537.85  10423.10  10435.55    134532090.0   \n",
              "1     02-Jan-18  10477.55  10495.20  10404.65  10442.20    158092430.0   \n",
              "2     03-Jan-18  10482.65  10503.60  10429.55  10443.20    172516859.0   \n",
              "3     04-Jan-18  10469.40  10513.00  10441.45  10504.80    180257392.0   \n",
              "4     05-Jan-18  10534.25  10566.10  10520.10  10558.85    186469717.0   \n",
              "...         ...       ...       ...       ...       ...            ...   \n",
              "1575  14-May-24  22112.90  22270.05  22081.25  22217.85    230238941.0   \n",
              "1576  15-May-24  22255.60  22297.55  22151.75  22200.55    231935478.0   \n",
              "1577  16-May-24  22319.20  22432.25  22054.55  22403.85    368945092.0   \n",
              "1578  17-May-24  22415.25  22502.15  22345.65  22466.10    242654570.0   \n",
              "1579  18-May-24  22512.85  22520.25  22470.05  22502.00     19064566.0   \n",
              "\n",
              "      Turnover(in cr)  \n",
              "0             7546.56  \n",
              "1             8665.47  \n",
              "2             9541.60  \n",
              "3             9561.95  \n",
              "4            10306.22  \n",
              "...               ...  \n",
              "1575         23741.66  \n",
              "1576         23815.79  \n",
              "1577         38836.11  \n",
              "1578         27388.67  \n",
              "1579          1572.77  \n",
              "\n",
              "[1580 rows x 7 columns]"
            ]
          },
          "execution_count": 2,
          "metadata": {},
          "output_type": "execute_result"
        }
      ],
      "source": [
        "df = pd.read_csv(\"nifty50.csv\")\n",
        "df"
      ]
    },
    {
      "cell_type": "code",
      "execution_count": 3,
      "metadata": {
        "colab": {
          "base_uri": "https://localhost:8080/"
        },
        "id": "PdqB7JTJVl4y",
        "outputId": "4f1159b3-a3c6-4548-e9e1-ab68f4bf937a"
      },
      "outputs": [
        {
          "name": "stdout",
          "output_type": "stream",
          "text": [
            "Index(['Date', 'Open', 'High', 'Low', 'Close', 'Shares Traded',\n",
            "       'Turnover(in cr)'],\n",
            "      dtype='object')\n"
          ]
        }
      ],
      "source": [
        "print(df.columns)"
      ]
    },
    {
      "cell_type": "markdown",
      "metadata": {
        "id": "NEdqCJjQW8Q4"
      },
      "source": [
        "# **Data Preprocessing**"
      ]
    },
    {
      "cell_type": "code",
      "execution_count": 4,
      "metadata": {
        "id": "dv4C1bkMRTOH"
      },
      "outputs": [],
      "source": [
        "# Parse the Date column to datetime\n",
        "df['Date'] = pd.to_datetime(df['Date'], format='%d-%b-%y')\n",
        "\n",
        "# Set the Date column as the index\n",
        "df.set_index('Date', inplace=True)\n",
        "\n",
        "# Sort the data by date\n",
        "df.sort_index(inplace=True)\n",
        "\n",
        "# Selecting the feature and target columns\n",
        "data = df[['Close']].values\n",
        "\n",
        "# Normalize the data\n",
        "scaler = MinMaxScaler(feature_range=(0, 1))\n",
        "scaled_data = scaler.fit_transform(data)"
      ]
    },
    {
      "cell_type": "markdown",
      "metadata": {
        "id": "1ed0WNFwXA2s"
      },
      "source": [
        "# **Train-Test Split**"
      ]
    },
    {
      "cell_type": "code",
      "execution_count": 5,
      "metadata": {
        "id": "pL9o_1YJVeAW"
      },
      "outputs": [],
      "source": [
        "train_size = int(len(scaled_data) * 0.8)\n",
        "train_data = scaled_data[:train_size]\n",
        "test_data = scaled_data[train_size:]\n",
        "\n",
        "def create_dataset(dataset, time_step=1):\n",
        "    X, Y = [], []\n",
        "    for i in range(len(dataset) - time_step - 1):\n",
        "        a = dataset[i:(i + time_step), 0]\n",
        "        X.append(a)\n",
        "        Y.append(dataset[i + time_step, 0])\n",
        "    return np.array(X), np.array(Y)\n",
        "\n",
        "time_step = 60\n",
        "X_train, y_train = create_dataset(train_data, time_step)\n",
        "X_test, y_test = create_dataset(test_data, time_step)\n",
        "\n",
        "# Reshape input to be [samples, time steps, features] which is required for LSTM\n",
        "X_train = X_train.reshape(X_train.shape[0], X_train.shape[1], 1)\n",
        "X_test = X_test.reshape(X_test.shape[0], X_test.shape[1], 1)"
      ]
    },
    {
      "cell_type": "markdown",
      "metadata": {
        "id": "4T9zYvTbXFcm"
      },
      "source": [
        "# **LSTM Model**"
      ]
    },
    {
      "cell_type": "code",
      "execution_count": 6,
      "metadata": {},
      "outputs": [],
      "source": [
        "@register_keras_serializable()\n",
        "class CustomOrthogonal(Orthogonal):\n",
        "    pass\n",
        "\n",
        "@register_keras_serializable()\n",
        "class CustomZeros(Zeros):\n",
        "    pass\n",
        "\n",
        "@register_keras_serializable()\n",
        "class CustomGlorotUniform(GlorotUniform):\n",
        "    pass\n",
        "\n",
        "@register_keras_serializable()\n",
        "class CustomSequential(Sequential):\n",
        "    pass"
      ]
    },
    {
      "cell_type": "code",
      "execution_count": 7,
      "metadata": {},
      "outputs": [],
      "source": [
        "# Save the model\n",
        "def save_model(model, model_json_path, model_weights_path):\n",
        "    model_json = model.to_json()\n",
        "    with open(model_json_path, \"w\") as json_file:\n",
        "        json_file.write(model_json)\n",
        "    model.save_weights(model_weights_path)"
      ]
    },
    {
      "cell_type": "code",
      "execution_count": 8,
      "metadata": {
        "id": "sfwLty5nXSan"
      },
      "outputs": [],
      "source": [
        "# Define and compile your model\n",
        "model = CustomSequential()\n",
        "model.add(LSTM(units=50, return_sequences=True, input_shape=(60, 1), kernel_initializer=CustomOrthogonal()))\n",
        "model.add(LSTM(units=50, return_sequences=False, kernel_initializer=CustomOrthogonal()))\n",
        "model.add(Dense(units=25, activation='linear', kernel_initializer=CustomGlorotUniform()))\n",
        "model.add(Dense(units=1, activation='linear', kernel_initializer=CustomGlorotUniform()))\n",
        "\n",
        "model.compile(optimizer='adam', loss='mean_squared_error')"
      ]
    },
    {
      "cell_type": "markdown",
      "metadata": {
        "id": "D5dMr738XmTt"
      },
      "source": [
        "# **Training the model**"
      ]
    },
    {
      "cell_type": "code",
      "execution_count": 9,
      "metadata": {
        "colab": {
          "base_uri": "https://localhost:8080/"
        },
        "id": "tGEzPfVUXlxB",
        "outputId": "3922ad36-e3c9-4c9e-fe46-3967980bcb76"
      },
      "outputs": [
        {
          "name": "stdout",
          "output_type": "stream",
          "text": [
            "Epoch 1/100\n",
            "19/19 [==============================] - 11s 116ms/step - loss: 0.0450\n",
            "Epoch 2/100\n",
            "19/19 [==============================] - 2s 98ms/step - loss: 0.0058\n",
            "Epoch 3/100\n",
            "19/19 [==============================] - 2s 90ms/step - loss: 0.0015\n",
            "Epoch 4/100\n",
            "19/19 [==============================] - 2s 84ms/step - loss: 7.6897e-04\n",
            "Epoch 5/100\n",
            "19/19 [==============================] - 2s 87ms/step - loss: 6.6371e-04\n",
            "Epoch 6/100\n",
            "19/19 [==============================] - 2s 83ms/step - loss: 6.5748e-04\n",
            "Epoch 7/100\n",
            "19/19 [==============================] - 2s 84ms/step - loss: 6.5663e-04\n",
            "Epoch 8/100\n",
            "19/19 [==============================] - 2s 85ms/step - loss: 6.3426e-04\n",
            "Epoch 9/100\n",
            "19/19 [==============================] - 2s 79ms/step - loss: 6.2254e-04\n",
            "Epoch 10/100\n",
            "19/19 [==============================] - 2s 88ms/step - loss: 6.0951e-04\n",
            "Epoch 11/100\n",
            "19/19 [==============================] - 2s 81ms/step - loss: 6.0869e-04\n",
            "Epoch 12/100\n",
            "19/19 [==============================] - 2s 82ms/step - loss: 5.8582e-04\n",
            "Epoch 13/100\n",
            "19/19 [==============================] - 2s 88ms/step - loss: 5.8939e-04\n",
            "Epoch 14/100\n",
            "19/19 [==============================] - 2s 81ms/step - loss: 5.7029e-04\n",
            "Epoch 15/100\n",
            "19/19 [==============================] - 2s 86ms/step - loss: 5.8120e-04\n",
            "Epoch 16/100\n",
            "19/19 [==============================] - 2s 86ms/step - loss: 6.0200e-04\n",
            "Epoch 17/100\n",
            "19/19 [==============================] - 2s 91ms/step - loss: 5.4982e-04\n",
            "Epoch 18/100\n",
            "19/19 [==============================] - 2s 100ms/step - loss: 5.3417e-04\n",
            "Epoch 19/100\n",
            "19/19 [==============================] - 2s 98ms/step - loss: 5.1663e-04\n",
            "Epoch 20/100\n",
            "19/19 [==============================] - 2s 93ms/step - loss: 5.4612e-04\n",
            "Epoch 21/100\n",
            "19/19 [==============================] - 2s 90ms/step - loss: 5.4593e-04\n",
            "Epoch 22/100\n",
            "19/19 [==============================] - 2s 86ms/step - loss: 4.9822e-04\n",
            "Epoch 23/100\n",
            "19/19 [==============================] - 2s 90ms/step - loss: 4.7591e-04\n",
            "Epoch 24/100\n",
            "19/19 [==============================] - 2s 87ms/step - loss: 4.6876e-04\n",
            "Epoch 25/100\n",
            "19/19 [==============================] - 2s 85ms/step - loss: 4.8046e-04\n",
            "Epoch 26/100\n",
            "19/19 [==============================] - 2s 89ms/step - loss: 4.6415e-04\n",
            "Epoch 27/100\n",
            "19/19 [==============================] - 2s 85ms/step - loss: 4.5513e-04\n",
            "Epoch 28/100\n",
            "19/19 [==============================] - 2s 81ms/step - loss: 4.5052e-04\n",
            "Epoch 29/100\n",
            "19/19 [==============================] - 2s 84ms/step - loss: 4.3708e-04\n",
            "Epoch 30/100\n",
            "19/19 [==============================] - 2s 91ms/step - loss: 4.6546e-04\n",
            "Epoch 31/100\n",
            "19/19 [==============================] - 2s 81ms/step - loss: 4.3484e-04\n",
            "Epoch 32/100\n",
            "19/19 [==============================] - 2s 84ms/step - loss: 4.1929e-04\n",
            "Epoch 33/100\n",
            "19/19 [==============================] - 2s 92ms/step - loss: 4.2141e-04\n",
            "Epoch 34/100\n",
            "19/19 [==============================] - 2s 83ms/step - loss: 4.4872e-04\n",
            "Epoch 35/100\n",
            "19/19 [==============================] - 2s 86ms/step - loss: 4.0731e-04\n",
            "Epoch 36/100\n",
            "19/19 [==============================] - 2s 86ms/step - loss: 4.0358e-04\n",
            "Epoch 37/100\n",
            "19/19 [==============================] - 2s 81ms/step - loss: 3.9347e-04\n",
            "Epoch 38/100\n",
            "19/19 [==============================] - 2s 93ms/step - loss: 4.0407e-04\n",
            "Epoch 39/100\n",
            "19/19 [==============================] - 2s 84ms/step - loss: 3.9428e-04\n",
            "Epoch 40/100\n",
            "19/19 [==============================] - 2s 86ms/step - loss: 3.8319e-04\n",
            "Epoch 41/100\n",
            "19/19 [==============================] - 2s 84ms/step - loss: 3.8340e-04\n",
            "Epoch 42/100\n",
            "19/19 [==============================] - 2s 83ms/step - loss: 4.1142e-04\n",
            "Epoch 43/100\n",
            "19/19 [==============================] - 2s 93ms/step - loss: 3.9567e-04\n",
            "Epoch 44/100\n",
            "19/19 [==============================] - 2s 81ms/step - loss: 3.7605e-04\n",
            "Epoch 45/100\n",
            "19/19 [==============================] - 2s 81ms/step - loss: 3.6063e-04\n",
            "Epoch 46/100\n",
            "19/19 [==============================] - 2s 90ms/step - loss: 3.7288e-04\n",
            "Epoch 47/100\n",
            "19/19 [==============================] - 2s 81ms/step - loss: 4.2777e-04\n",
            "Epoch 48/100\n",
            "19/19 [==============================] - 2s 83ms/step - loss: 3.9917e-04\n",
            "Epoch 49/100\n",
            "19/19 [==============================] - 2s 85ms/step - loss: 3.5548e-04\n",
            "Epoch 50/100\n",
            "19/19 [==============================] - 2s 80ms/step - loss: 3.4816e-04\n",
            "Epoch 51/100\n",
            "19/19 [==============================] - 2s 83ms/step - loss: 3.4201e-04\n",
            "Epoch 52/100\n",
            "19/19 [==============================] - 2s 84ms/step - loss: 3.4817e-04\n",
            "Epoch 53/100\n",
            "19/19 [==============================] - 2s 90ms/step - loss: 3.5506e-04\n",
            "Epoch 54/100\n",
            "19/19 [==============================] - 2s 84ms/step - loss: 3.4584e-04\n",
            "Epoch 55/100\n",
            "19/19 [==============================] - 2s 83ms/step - loss: 3.3320e-04\n",
            "Epoch 56/100\n",
            "19/19 [==============================] - 2s 91ms/step - loss: 3.8194e-04\n",
            "Epoch 57/100\n",
            "19/19 [==============================] - 2s 84ms/step - loss: 3.4714e-04\n",
            "Epoch 58/100\n",
            "19/19 [==============================] - 2s 84ms/step - loss: 3.2991e-04\n",
            "Epoch 59/100\n",
            "19/19 [==============================] - 2s 93ms/step - loss: 3.0929e-04\n",
            "Epoch 60/100\n",
            "19/19 [==============================] - 2s 80ms/step - loss: 3.1779e-04\n",
            "Epoch 61/100\n",
            "19/19 [==============================] - 2s 86ms/step - loss: 3.0781e-04\n",
            "Epoch 62/100\n",
            "19/19 [==============================] - 2s 100ms/step - loss: 3.1898e-04\n",
            "Epoch 63/100\n",
            "19/19 [==============================] - 2s 84ms/step - loss: 3.1391e-04\n",
            "Epoch 64/100\n",
            "19/19 [==============================] - 2s 88ms/step - loss: 2.9767e-04\n",
            "Epoch 65/100\n",
            "19/19 [==============================] - 2s 87ms/step - loss: 3.0052e-04\n",
            "Epoch 66/100\n",
            "19/19 [==============================] - 2s 82ms/step - loss: 3.0619e-04\n",
            "Epoch 67/100\n",
            "19/19 [==============================] - 2s 87ms/step - loss: 2.8802e-04\n",
            "Epoch 68/100\n",
            "19/19 [==============================] - 2s 80ms/step - loss: 2.8184e-04\n",
            "Epoch 69/100\n",
            "19/19 [==============================] - 2s 84ms/step - loss: 3.0136e-04\n",
            "Epoch 70/100\n",
            "19/19 [==============================] - 2s 84ms/step - loss: 3.5179e-04\n",
            "Epoch 71/100\n",
            "19/19 [==============================] - 1s 78ms/step - loss: 3.1011e-04\n",
            "Epoch 72/100\n",
            "19/19 [==============================] - 2s 104ms/step - loss: 2.8676e-04\n",
            "Epoch 73/100\n",
            "19/19 [==============================] - 2s 84ms/step - loss: 2.8616e-04\n",
            "Epoch 74/100\n",
            "19/19 [==============================] - 2s 81ms/step - loss: 3.5005e-04\n",
            "Epoch 75/100\n",
            "19/19 [==============================] - 2s 90ms/step - loss: 2.8155e-04\n",
            "Epoch 76/100\n",
            "19/19 [==============================] - 2s 84ms/step - loss: 3.0714e-04\n",
            "Epoch 77/100\n",
            "19/19 [==============================] - 2s 83ms/step - loss: 3.0252e-04\n",
            "Epoch 78/100\n",
            "19/19 [==============================] - 2s 93ms/step - loss: 2.7449e-04\n",
            "Epoch 79/100\n",
            "19/19 [==============================] - 2s 81ms/step - loss: 2.6803e-04\n",
            "Epoch 80/100\n",
            "19/19 [==============================] - 2s 84ms/step - loss: 2.7343e-04\n",
            "Epoch 81/100\n",
            "19/19 [==============================] - 2s 92ms/step - loss: 2.6611e-04\n",
            "Epoch 82/100\n",
            "19/19 [==============================] - 2s 81ms/step - loss: 2.6522e-04\n",
            "Epoch 83/100\n",
            "19/19 [==============================] - 2s 83ms/step - loss: 2.8125e-04\n",
            "Epoch 84/100\n",
            "19/19 [==============================] - 2s 89ms/step - loss: 2.4918e-04\n",
            "Epoch 85/100\n",
            "19/19 [==============================] - 2s 81ms/step - loss: 2.5313e-04\n",
            "Epoch 86/100\n",
            "19/19 [==============================] - 2s 85ms/step - loss: 2.6667e-04\n",
            "Epoch 87/100\n",
            "19/19 [==============================] - 2s 86ms/step - loss: 2.5172e-04\n",
            "Epoch 88/100\n",
            "19/19 [==============================] - 2s 87ms/step - loss: 2.8151e-04\n",
            "Epoch 89/100\n",
            "19/19 [==============================] - 2s 86ms/step - loss: 2.4067e-04\n",
            "Epoch 90/100\n",
            "19/19 [==============================] - 2s 86ms/step - loss: 2.3399e-04\n",
            "Epoch 91/100\n",
            "19/19 [==============================] - 2s 89ms/step - loss: 2.3262e-04\n",
            "Epoch 92/100\n",
            "19/19 [==============================] - 2s 84ms/step - loss: 2.2737e-04\n",
            "Epoch 93/100\n",
            "19/19 [==============================] - 2s 91ms/step - loss: 2.3854e-04\n",
            "Epoch 94/100\n",
            "19/19 [==============================] - 2s 95ms/step - loss: 2.6690e-04\n",
            "Epoch 95/100\n",
            "19/19 [==============================] - 2s 86ms/step - loss: 2.5818e-04\n",
            "Epoch 96/100\n",
            "19/19 [==============================] - 2s 93ms/step - loss: 2.3920e-04\n",
            "Epoch 97/100\n",
            "19/19 [==============================] - 2s 88ms/step - loss: 2.3307e-04\n",
            "Epoch 98/100\n",
            "19/19 [==============================] - 2s 81ms/step - loss: 2.2947e-04\n",
            "Epoch 99/100\n",
            "19/19 [==============================] - 2s 92ms/step - loss: 2.2863e-04\n",
            "Epoch 100/100\n",
            "19/19 [==============================] - 2s 84ms/step - loss: 2.3335e-04\n"
          ]
        },
        {
          "data": {
            "text/plain": [
              "<keras.callbacks.History at 0x22c495bf100>"
            ]
          },
          "execution_count": 9,
          "metadata": {},
          "output_type": "execute_result"
        }
      ],
      "source": [
        "# Train the model\n",
        "model.fit(X_train, y_train, batch_size=64, epochs=100)"
      ]
    },
    {
      "cell_type": "markdown",
      "metadata": {
        "id": "Cfti4CJnYMBa"
      },
      "source": [
        "# **Evaluating The Model**"
      ]
    },
    {
      "cell_type": "code",
      "execution_count": 10,
      "metadata": {
        "colab": {
          "base_uri": "https://localhost:8080/"
        },
        "id": "V8w9NMXkYLun",
        "outputId": "762d58c1-f194-44fe-97b9-aa631787c6ff"
      },
      "outputs": [
        {
          "name": "stdout",
          "output_type": "stream",
          "text": [
            "8/8 [==============================] - 1s 12ms/step\n",
            "Mean Squared Error: 37520.969168622185\n"
          ]
        }
      ],
      "source": [
        "# Predicting on the test data\n",
        "predictions = model.predict(X_test)\n",
        "predictions = scaler.inverse_transform(predictions)\n",
        "\n",
        "# Inverse transform the y_test to compare with the predictions\n",
        "y_test = scaler.inverse_transform(y_test.reshape(-1, 1))\n",
        "\n",
        "# Calculate the mean squared error\n",
        "mse = np.mean((predictions - y_test)**2)\n",
        "print(f'Mean Squared Error: {mse}')"
      ]
    },
    {
      "cell_type": "code",
      "execution_count": 11,
      "metadata": {
        "colab": {
          "base_uri": "https://localhost:8080/",
          "height": 564
        },
        "id": "LsTHZvB9YSex",
        "outputId": "16b79c8a-a74d-4f1c-a7e0-3424ccfbe532"
      },
      "outputs": [
        {
          "data": {
            "image/png": "[encoded data removed]",
            "text/plain": [
              "<Figure size 864x432 with 1 Axes>"
            ]
          },
          "metadata": {
            "needs_background": "light"
          },
          "output_type": "display_data"
        }
      ],
      "source": [
        "# Plotting the results\n",
        "plt.figure(figsize=(12,6))\n",
        "plt.plot(y_test, label='Actual Price')\n",
        "plt.plot(predictions, label='Predicted Price')\n",
        "plt.title('Nifty 50 Price Prediction')\n",
        "plt.xlabel('Days')\n",
        "plt.ylabel('Price')\n",
        "plt.legend()\n",
        "plt.show()"
      ]
    },
    {
      "cell_type": "markdown",
      "metadata": {
        "id": "vse43PLVafi8"
      },
      "source": [
        "# **Predicting the next 5 days**"
      ]
    },
    {
      "cell_type": "code",
      "execution_count": 12,
      "metadata": {
        "id": "whn2ldVK0bS-"
      },
      "outputs": [
        {
          "name": "stdout",
          "output_type": "stream",
          "text": [
            "1/1 [==============================] - 0s 46ms/step\n",
            "1/1 [==============================] - 0s 46ms/step\n",
            "1/1 [==============================] - 0s 46ms/step\n",
            "1/1 [==============================] - 0s 33ms/step\n",
            "1/1 [==============================] - 0s 31ms/step\n",
            "[array([[22135.906]], dtype=float32), array([[22188.494]], dtype=float32), array([[22209.92]], dtype=float32), array([[22212.893]], dtype=float32), array([[22204.203]], dtype=float32)]\n"
          ]
        }
      ],
      "source": [
        "next_5_days_predictions = []\n",
        "last_sequence = X_test[-1:, :, :]\n",
        "for _ in range(5):\n",
        "    prediction = model.predict(last_sequence)\n",
        "    next_5_days_predictions.append(scaler.inverse_transform(prediction))\n",
        "    # Remove the first element from last_sequence and add the prediction at its last position\n",
        "    last_sequence = np.concatenate([last_sequence[:, 1:, :], prediction.reshape(1, 1, 1)], axis=1)\n",
        "\n",
        "print(next_5_days_predictions)"
      ]
    },
    {
      "cell_type": "code",
      "execution_count": 13,
      "metadata": {
        "id": "4QzwnMp80ivi"
      },
      "outputs": [
        {
          "data": {
            "application/vnd.plotly.v1+json": {
              "config": {
                "plotlyServerURL": "https://plot.ly"
              },
              "data": [
                {
                  "line": {
                    "color": "blue"
                  },
                  "mode": "lines",
                  "name": "Actual Price",
                  "type": "scatter",
                  "x": [
                    "2023-05-11T00:00:00",
                    "2023-05-12T00:00:00",
                    "2023-05-15T00:00:00",
                    "2023-05-16T00:00:00",
                    "2023-05-17T00:00:00",
                    "2023-05-18T00:00:00",
                    "2023-05-19T00:00:00",
                    "2023-05-22T00:00:00",
                    "2023-05-23T00:00:00",
                    "2023-05-24T00:00:00",
                    "2023-05-25T00:00:00",
                    "2023-05-26T00:00:00",
                    "2023-05-29T00:00:00",
                    "2023-05-30T00:00:00",
                    "2023-05-31T00:00:00",
                    "2023-06-01T00:00:00",
                    "2023-06-02T00:00:00",
                    "2023-06-05T00:00:00",
                    "2023-06-06T00:00:00",
                    "2023-06-07T00:00:00",
                    "2023-06-08T00:00:00",
                    "2023-06-09T00:00:00",
                    "2023-06-12T00:00:00",
                    "2023-06-13T00:00:00",
                    "2023-06-14T00:00:00",
                    "2023-06-15T00:00:00",
                    "2023-06-16T00:00:00",
                    "2023-06-19T00:00:00",
                    "2023-06-20T00:00:00",
                    "2023-06-21T00:00:00",
                    "2023-06-22T00:00:00",
                    "2023-06-23T00:00:00",
                    "2023-06-26T00:00:00",
                    "2023-06-27T00:00:00",
                    "2023-06-28T00:00:00",
                    "2023-06-30T00:00:00",
                    "2023-07-03T00:00:00",
                    "2023-07-04T00:00:00",
                    "2023-07-05T00:00:00",
                    "2023-07-06T00:00:00",
                    "2023-07-07T00:00:00",
                    "2023-07-10T00:00:00",
                    "2023-07-11T00:00:00",
                    "2023-07-12T00:00:00",
                    "2023-07-13T00:00:00",
                    "2023-07-14T00:00:00",
                    "2023-07-17T00:00:00",
                    "2023-07-18T00:00:00",
                    "2023-07-19T00:00:00",
                    "2023-07-20T00:00:00",
                    "2023-07-21T00:00:00",
                    "2023-07-24T00:00:00",
                    "2023-07-25T00:00:00",
                    "2023-07-26T00:00:00",
                    "2023-07-27T00:00:00",
                    "2023-07-28T00:00:00",
                    "2023-07-31T00:00:00",
                    "2023-08-01T00:00:00",
                    "2023-08-02T00:00:00",
                    "2023-08-03T00:00:00",
                    "2023-08-04T00:00:00",
                    "2023-08-07T00:00:00",
                    "2023-08-08T00:00:00",
                    "2023-08-09T00:00:00",
                    "2023-08-10T00:00:00",
                    "2023-08-11T00:00:00",
                    "2023-08-14T00:00:00",
                    "2023-08-16T00:00:00",
                    "2023-08-17T00:00:00",
                    "2023-08-18T00:00:00",
                    "2023-08-21T00:00:00",
                    "2023-08-22T00:00:00",
                    "2023-08-23T00:00:00",
                    "2023-08-24T00:00:00",
                    "2023-08-25T00:00:00",
                    "2023-08-28T00:00:00",
                    "2023-08-29T00:00:00",
                    "2023-08-30T00:00:00",
                    "2023-08-31T00:00:00",
                    "2023-09-01T00:00:00",
                    "2023-09-04T00:00:00",
                    "2023-09-05T00:00:00",
                    "2023-09-06T00:00:00",
                    "2023-09-07T00:00:00",
                    "2023-09-08T00:00:00",
                    "2023-09-11T00:00:00",
                    "2023-09-12T00:00:00",
                    "2023-09-13T00:00:00",
                    "2023-09-14T00:00:00",
                    "2023-09-15T00:00:00",
                    "2023-09-18T00:00:00",
                    "2023-09-20T00:00:00",
                    "2023-09-21T00:00:00",
                    "2023-09-22T00:00:00",
                    "2023-09-25T00:00:00",
                    "2023-09-26T00:00:00",
                    "2023-09-27T00:00:00",
                    "2023-09-28T00:00:00",
                    "2023-09-29T00:00:00",
                    "2023-10-03T00:00:00",
                    "2023-10-04T00:00:00",
                    "2023-10-05T00:00:00",
                    "2023-10-06T00:00:00",
                    "2023-10-09T00:00:00",
                    "2023-10-10T00:00:00",
                    "2023-10-11T00:00:00",
                    "2023-10-12T00:00:00",
                    "2023-10-13T00:00:00",
                    "2023-10-16T00:00:00",
                    "2023-10-17T00:00:00",
                    "2023-10-18T00:00:00",
                    "2023-10-19T00:00:00",
                    "2023-10-20T00:00:00",
                    "2023-10-23T00:00:00",
                    "2023-10-25T00:00:00",
                    "2023-10-26T00:00:00",
                    "2023-10-27T00:00:00",
                    "2023-10-30T00:00:00",
                    "2023-10-31T00:00:00",
                    "2023-11-01T00:00:00",
                    "2023-11-02T00:00:00",
                    "2023-11-03T00:00:00",
                    "2023-11-06T00:00:00",
                    "2023-11-07T00:00:00",
                    "2023-11-08T00:00:00",
                    "2023-11-09T00:00:00",
                    "2023-11-10T00:00:00",
                    "2023-11-12T00:00:00",
                    "2023-11-13T00:00:00",
                    "2023-11-15T00:00:00",
                    "2023-11-16T00:00:00",
                    "2023-11-17T00:00:00",
                    "2023-11-20T00:00:00",
                    "2023-11-21T00:00:00",
                    "2023-11-22T00:00:00",
                    "2023-11-23T00:00:00",
                    "2023-11-24T00:00:00",
                    "2023-11-28T00:00:00",
                    "2023-11-29T00:00:00",
                    "2023-11-30T00:00:00",
                    "2023-12-01T00:00:00",
                    "2023-12-04T00:00:00",
                    "2023-12-05T00:00:00",
                    "2023-12-06T00:00:00",
                    "2023-12-07T00:00:00",
                    "2023-12-08T00:00:00",
                    "2023-12-11T00:00:00",
                    "2023-12-12T00:00:00",
                    "2023-12-13T00:00:00",
                    "2023-12-14T00:00:00",
                    "2023-12-15T00:00:00",
                    "2023-12-18T00:00:00",
                    "2023-12-19T00:00:00",
                    "2023-12-20T00:00:00",
                    "2023-12-21T00:00:00",
                    "2023-12-22T00:00:00",
                    "2023-12-26T00:00:00",
                    "2023-12-27T00:00:00",
                    "2023-12-28T00:00:00",
                    "2023-12-29T00:00:00",
                    "2024-01-01T00:00:00",
                    "2024-01-02T00:00:00",
                    "2024-01-03T00:00:00",
                    "2024-01-04T00:00:00",
                    "2024-01-05T00:00:00",
                    "2024-01-08T00:00:00",
                    "2024-01-09T00:00:00",
                    "2024-01-10T00:00:00",
                    "2024-01-11T00:00:00",
                    "2024-01-12T00:00:00",
                    "2024-01-15T00:00:00",
                    "2024-01-16T00:00:00",
                    "2024-01-17T00:00:00",
                    "2024-01-18T00:00:00",
                    "2024-01-19T00:00:00",
                    "2024-01-20T00:00:00",
                    "2024-01-23T00:00:00",
                    "2024-01-24T00:00:00",
                    "2024-01-25T00:00:00",
                    "2024-01-29T00:00:00",
                    "2024-01-30T00:00:00",
                    "2024-01-31T00:00:00",
                    "2024-02-01T00:00:00",
                    "2024-02-02T00:00:00",
                    "2024-02-05T00:00:00",
                    "2024-02-06T00:00:00",
                    "2024-02-07T00:00:00",
                    "2024-02-08T00:00:00",
                    "2024-02-09T00:00:00",
                    "2024-02-12T00:00:00",
                    "2024-02-13T00:00:00",
                    "2024-02-14T00:00:00",
                    "2024-02-15T00:00:00",
                    "2024-02-16T00:00:00",
                    "2024-02-19T00:00:00",
                    "2024-02-20T00:00:00",
                    "2024-02-21T00:00:00",
                    "2024-02-22T00:00:00",
                    "2024-02-23T00:00:00",
                    "2024-02-26T00:00:00",
                    "2024-02-27T00:00:00",
                    "2024-02-28T00:00:00",
                    "2024-02-29T00:00:00",
                    "2024-03-01T00:00:00",
                    "2024-03-02T00:00:00",
                    "2024-03-04T00:00:00",
                    "2024-03-05T00:00:00",
                    "2024-03-06T00:00:00",
                    "2024-03-07T00:00:00",
                    "2024-03-11T00:00:00",
                    "2024-03-12T00:00:00",
                    "2024-03-13T00:00:00",
                    "2024-03-14T00:00:00",
                    "2024-03-15T00:00:00",
                    "2024-03-18T00:00:00",
                    "2024-03-19T00:00:00",
                    "2024-03-20T00:00:00",
                    "2024-03-21T00:00:00",
                    "2024-03-22T00:00:00",
                    "2024-03-26T00:00:00",
                    "2024-03-27T00:00:00",
                    "2024-03-28T00:00:00",
                    "2024-04-01T00:00:00",
                    "2024-04-02T00:00:00",
                    "2024-04-03T00:00:00",
                    "2024-04-04T00:00:00",
                    "2024-04-05T00:00:00",
                    "2024-04-08T00:00:00",
                    "2024-04-09T00:00:00",
                    "2024-04-10T00:00:00",
                    "2024-04-12T00:00:00",
                    "2024-04-15T00:00:00",
                    "2024-04-16T00:00:00",
                    "2024-04-18T00:00:00",
                    "2024-04-19T00:00:00",
                    "2024-04-22T00:00:00",
                    "2024-04-23T00:00:00",
                    "2024-04-24T00:00:00",
                    "2024-04-25T00:00:00",
                    "2024-04-26T00:00:00",
                    "2024-04-29T00:00:00",
                    "2024-04-30T00:00:00",
                    "2024-05-02T00:00:00",
                    "2024-05-03T00:00:00",
                    "2024-05-06T00:00:00",
                    "2024-05-07T00:00:00",
                    "2024-05-08T00:00:00",
                    "2024-05-09T00:00:00",
                    "2024-05-10T00:00:00",
                    "2024-05-13T00:00:00",
                    "2024-05-14T00:00:00",
                    "2024-05-15T00:00:00",
                    "2024-05-16T00:00:00",
                    "2024-05-17T00:00:00",
                    "2024-05-18T00:00:00"
                  ],
                  "y": [
                    18315.1,
                    18297,
                    18314.8,
                    18398.85,
                    18286.5,
                    18181.75,
                    18129.95,
                    18203.4,
                    18314.4,
                    18348,
                    18285.4,
                    18321.15,
                    18499.35,
                    18598.65,
                    18633.85,
                    18534.4,
                    18487.75,
                    18534.1,
                    18593.85,
                    18599,
                    18726.4,
                    18634.55,
                    18563.4,
                    18601.5,
                    18716.15,
                    18755.9,
                    18688.1,
                    18826,
                    18755.45,
                    18816.7,
                    18856.85,
                    18771.25,
                    18665.5,
                    18691.2,
                    18817.4,
                    18972.1,
                    19189.05,
                    19322.55,
                    19389,
                    19398.5,
                    19497.3,
                    19331.8,
                    19355.9,
                    19439.4,
                    19384.3,
                    19413.75,
                    19564.5,
                    19711.45,
                    19749.25,
                    19833.15,
                    19979.15,
                    19745,
                    19672.35,
                    19680.6,
                    19778.3,
                    19659.9,
                    19646.05,
                    19753.8,
                    19733.55,
                    19526.55,
                    19381.65,
                    19517,
                    19597.3,
                    19570.85,
                    19632.55,
                    19543.1,
                    19428.3,
                    19434.55,
                    19465,
                    19365.25,
                    19310.15,
                    19393.6,
                    19396.45,
                    19444,
                    19386.7,
                    19265.8,
                    19306.05,
                    19342.65,
                    19347.45,
                    19253.8,
                    19435.3,
                    19528.8,
                    19574.9,
                    19611.05,
                    19727.05,
                    19819.95,
                    19996.35,
                    19993.2,
                    20070,
                    20103.1,
                    20192.35,
                    20133.3,
                    19901.4,
                    19742.35,
                    19674.25,
                    19674.55,
                    19664.7,
                    19716.45,
                    19523.55,
                    19638.3,
                    19528.75,
                    19436.1,
                    19545.75,
                    19653.5,
                    19512.35,
                    19689.85,
                    19811.35,
                    19794,
                    19751.05,
                    19731.75,
                    19811.5,
                    19671.1,
                    19624.7,
                    19542.65,
                    19281.75,
                    19122.15,
                    18857.25,
                    19047.25,
                    19140.9,
                    19079.6,
                    18989.15,
                    19133.25,
                    19230.6,
                    19411.75,
                    19406.7,
                    19443.5,
                    19395.3,
                    19425.35,
                    19525.55,
                    19443.55,
                    19675.45,
                    19765.2,
                    19731.8,
                    19694,
                    19783.4,
                    19811.85,
                    19802,
                    19794.7,
                    19889.7,
                    20096.6,
                    20133.15,
                    20267.9,
                    20686.8,
                    20855.1,
                    20937.7,
                    20901.15,
                    20969.4,
                    20997.1,
                    20906.4,
                    20926.35,
                    21182.7,
                    21456.65,
                    21418.65,
                    21453.1,
                    21150.15,
                    21255.05,
                    21349.4,
                    21441.35,
                    21654.75,
                    21778.7,
                    21731.4,
                    21741.9,
                    21665.8,
                    21517.35,
                    21658.6,
                    21710.8,
                    21513,
                    21544.85,
                    21618.7,
                    21647.2,
                    21894.55,
                    22097.45,
                    22032.3,
                    21571.95,
                    21462.25,
                    21622.4,
                    21571.8,
                    21238.8,
                    21453.95,
                    21352.6,
                    21737.6,
                    21522.1,
                    21725.7,
                    21697.45,
                    21853.8,
                    21771.7,
                    21929.4,
                    21930.5,
                    21717.95,
                    21782.5,
                    21616.05,
                    21743.25,
                    21840.05,
                    21910.75,
                    22040.7,
                    22122.25,
                    22196.95,
                    22055.05,
                    22217.45,
                    22212.7,
                    22122.05,
                    22198.35,
                    21951.15,
                    21982.8,
                    22338.75,
                    22378.4,
                    22405.6,
                    22356.3,
                    22474.05,
                    22493.55,
                    22332.65,
                    22335.7,
                    21997.7,
                    22146.65,
                    22023.35,
                    22055.7,
                    21817.45,
                    21839.1,
                    22011.95,
                    22096.75,
                    22004.7,
                    22123.65,
                    22326.9,
                    22462,
                    22453.3,
                    22434.65,
                    22514.65,
                    22513.7,
                    22666.3,
                    22642.75,
                    22753.8,
                    22519.4,
                    22272.5,
                    22147.9,
                    21995.85,
                    22147,
                    22336.4,
                    22368,
                    22402.4,
                    22570.35,
                    22419.95,
                    22643.4,
                    22604.85,
                    22648.2,
                    22475.85,
                    22442.7,
                    22302.5,
                    22302.5,
                    21957.5,
                    22055.2,
                    22104.05,
                    22217.85,
                    22200.55,
                    22403.85,
                    22466.1
                  ]
                },
                {
                  "line": {
                    "color": "orange"
                  },
                  "mode": "lines",
                  "name": "Predicted Price",
                  "type": "scatter",
                  "x": [
                    "2023-05-11T00:00:00",
                    "2023-05-12T00:00:00",
                    "2023-05-15T00:00:00",
                    "2023-05-16T00:00:00",
                    "2023-05-17T00:00:00",
                    "2023-05-18T00:00:00",
                    "2023-05-19T00:00:00",
                    "2023-05-22T00:00:00",
                    "2023-05-23T00:00:00",
                    "2023-05-24T00:00:00",
                    "2023-05-25T00:00:00",
                    "2023-05-26T00:00:00",
                    "2023-05-29T00:00:00",
                    "2023-05-30T00:00:00",
                    "2023-05-31T00:00:00",
                    "2023-06-01T00:00:00",
                    "2023-06-02T00:00:00",
                    "2023-06-05T00:00:00",
                    "2023-06-06T00:00:00",
                    "2023-06-07T00:00:00",
                    "2023-06-08T00:00:00",
                    "2023-06-09T00:00:00",
                    "2023-06-12T00:00:00",
                    "2023-06-13T00:00:00",
                    "2023-06-14T00:00:00",
                    "2023-06-15T00:00:00",
                    "2023-06-16T00:00:00",
                    "2023-06-19T00:00:00",
                    "2023-06-20T00:00:00",
                    "2023-06-21T00:00:00",
                    "2023-06-22T00:00:00",
                    "2023-06-23T00:00:00",
                    "2023-06-26T00:00:00",
                    "2023-06-27T00:00:00",
                    "2023-06-28T00:00:00",
                    "2023-06-30T00:00:00",
                    "2023-07-03T00:00:00",
                    "2023-07-04T00:00:00",
                    "2023-07-05T00:00:00",
                    "2023-07-06T00:00:00",
                    "2023-07-07T00:00:00",
                    "2023-07-10T00:00:00",
                    "2023-07-11T00:00:00",
                    "2023-07-12T00:00:00",
                    "2023-07-13T00:00:00",
                    "2023-07-14T00:00:00",
                    "2023-07-17T00:00:00",
                    "2023-07-18T00:00:00",
                    "2023-07-19T00:00:00",
                    "2023-07-20T00:00:00",
                    "2023-07-21T00:00:00",
                    "2023-07-24T00:00:00",
                    "2023-07-25T00:00:00",
                    "2023-07-26T00:00:00",
                    "2023-07-27T00:00:00",
                    "2023-07-28T00:00:00",
                    "2023-07-31T00:00:00",
                    "2023-08-01T00:00:00",
                    "2023-08-02T00:00:00",
                    "2023-08-03T00:00:00",
                    "2023-08-04T00:00:00",
                    "2023-08-07T00:00:00",
                    "2023-08-08T00:00:00",
                    "2023-08-09T00:00:00",
                    "2023-08-10T00:00:00",
                    "2023-08-11T00:00:00",
                    "2023-08-14T00:00:00",
                    "2023-08-16T00:00:00",
                    "2023-08-17T00:00:00",
                    "2023-08-18T00:00:00",
                    "2023-08-21T00:00:00",
                    "2023-08-22T00:00:00",
                    "2023-08-23T00:00:00",
                    "2023-08-24T00:00:00",
                    "2023-08-25T00:00:00",
                    "2023-08-28T00:00:00",
                    "2023-08-29T00:00:00",
                    "2023-08-30T00:00:00",
                    "2023-08-31T00:00:00",
                    "2023-09-01T00:00:00",
                    "2023-09-04T00:00:00",
                    "2023-09-05T00:00:00",
                    "2023-09-06T00:00:00",
                    "2023-09-07T00:00:00",
                    "2023-09-08T00:00:00",
                    "2023-09-11T00:00:00",
                    "2023-09-12T00:00:00",
                    "2023-09-13T00:00:00",
                    "2023-09-14T00:00:00",
                    "2023-09-15T00:00:00",
                    "2023-09-18T00:00:00",
                    "2023-09-20T00:00:00",
                    "2023-09-21T00:00:00",
                    "2023-09-22T00:00:00",
                    "2023-09-25T00:00:00",
                    "2023-09-26T00:00:00",
                    "2023-09-27T00:00:00",
                    "2023-09-28T00:00:00",
                    "2023-09-29T00:00:00",
                    "2023-10-03T00:00:00",
                    "2023-10-04T00:00:00",
                    "2023-10-05T00:00:00",
                    "2023-10-06T00:00:00",
                    "2023-10-09T00:00:00",
                    "2023-10-10T00:00:00",
                    "2023-10-11T00:00:00",
                    "2023-10-12T00:00:00",
                    "2023-10-13T00:00:00",
                    "2023-10-16T00:00:00",
                    "2023-10-17T00:00:00",
                    "2023-10-18T00:00:00",
                    "2023-10-19T00:00:00",
                    "2023-10-20T00:00:00",
                    "2023-10-23T00:00:00",
                    "2023-10-25T00:00:00",
                    "2023-10-26T00:00:00",
                    "2023-10-27T00:00:00",
                    "2023-10-30T00:00:00",
                    "2023-10-31T00:00:00",
                    "2023-11-01T00:00:00",
                    "2023-11-02T00:00:00",
                    "2023-11-03T00:00:00",
                    "2023-11-06T00:00:00",
                    "2023-11-07T00:00:00",
                    "2023-11-08T00:00:00",
                    "2023-11-09T00:00:00",
                    "2023-11-10T00:00:00",
                    "2023-11-12T00:00:00",
                    "2023-11-13T00:00:00",
                    "2023-11-15T00:00:00",
                    "2023-11-16T00:00:00",
                    "2023-11-17T00:00:00",
                    "2023-11-20T00:00:00",
                    "2023-11-21T00:00:00",
                    "2023-11-22T00:00:00",
                    "2023-11-23T00:00:00",
                    "2023-11-24T00:00:00",
                    "2023-11-28T00:00:00",
                    "2023-11-29T00:00:00",
                    "2023-11-30T00:00:00",
                    "2023-12-01T00:00:00",
                    "2023-12-04T00:00:00",
                    "2023-12-05T00:00:00",
                    "2023-12-06T00:00:00",
                    "2023-12-07T00:00:00",
                    "2023-12-08T00:00:00",
                    "2023-12-11T00:00:00",
                    "2023-12-12T00:00:00",
                    "2023-12-13T00:00:00",
                    "2023-12-14T00:00:00",
                    "2023-12-15T00:00:00",
                    "2023-12-18T00:00:00",
                    "2023-12-19T00:00:00",
                    "2023-12-20T00:00:00",
                    "2023-12-21T00:00:00",
                    "2023-12-22T00:00:00",
                    "2023-12-26T00:00:00",
                    "2023-12-27T00:00:00",
                    "2023-12-28T00:00:00",
                    "2023-12-29T00:00:00",
                    "2024-01-01T00:00:00",
                    "2024-01-02T00:00:00",
                    "2024-01-03T00:00:00",
                    "2024-01-04T00:00:00",
                    "2024-01-05T00:00:00",
                    "2024-01-08T00:00:00",
                    "2024-01-09T00:00:00",
                    "2024-01-10T00:00:00",
                    "2024-01-11T00:00:00",
                    "2024-01-12T00:00:00",
                    "2024-01-15T00:00:00",
                    "2024-01-16T00:00:00",
                    "2024-01-17T00:00:00",
                    "2024-01-18T00:00:00",
                    "2024-01-19T00:00:00",
                    "2024-01-20T00:00:00",
                    "2024-01-23T00:00:00",
                    "2024-01-24T00:00:00",
                    "2024-01-25T00:00:00",
                    "2024-01-29T00:00:00",
                    "2024-01-30T00:00:00",
                    "2024-01-31T00:00:00",
                    "2024-02-01T00:00:00",
                    "2024-02-02T00:00:00",
                    "2024-02-05T00:00:00",
                    "2024-02-06T00:00:00",
                    "2024-02-07T00:00:00",
                    "2024-02-08T00:00:00",
                    "2024-02-09T00:00:00",
                    "2024-02-12T00:00:00",
                    "2024-02-13T00:00:00",
                    "2024-02-14T00:00:00",
                    "2024-02-15T00:00:00",
                    "2024-02-16T00:00:00",
                    "2024-02-19T00:00:00",
                    "2024-02-20T00:00:00",
                    "2024-02-21T00:00:00",
                    "2024-02-22T00:00:00",
                    "2024-02-23T00:00:00",
                    "2024-02-26T00:00:00",
                    "2024-02-27T00:00:00",
                    "2024-02-28T00:00:00",
                    "2024-02-29T00:00:00",
                    "2024-03-01T00:00:00",
                    "2024-03-02T00:00:00",
                    "2024-03-04T00:00:00",
                    "2024-03-05T00:00:00",
                    "2024-03-06T00:00:00",
                    "2024-03-07T00:00:00",
                    "2024-03-11T00:00:00",
                    "2024-03-12T00:00:00",
                    "2024-03-13T00:00:00",
                    "2024-03-14T00:00:00",
                    "2024-03-15T00:00:00",
                    "2024-03-18T00:00:00",
                    "2024-03-19T00:00:00",
                    "2024-03-20T00:00:00",
                    "2024-03-21T00:00:00",
                    "2024-03-22T00:00:00",
                    "2024-03-26T00:00:00",
                    "2024-03-27T00:00:00",
                    "2024-03-28T00:00:00",
                    "2024-04-01T00:00:00",
                    "2024-04-02T00:00:00",
                    "2024-04-03T00:00:00",
                    "2024-04-04T00:00:00",
                    "2024-04-05T00:00:00",
                    "2024-04-08T00:00:00",
                    "2024-04-09T00:00:00",
                    "2024-04-10T00:00:00",
                    "2024-04-12T00:00:00",
                    "2024-04-15T00:00:00",
                    "2024-04-16T00:00:00",
                    "2024-04-18T00:00:00",
                    "2024-04-19T00:00:00",
                    "2024-04-22T00:00:00",
                    "2024-04-23T00:00:00",
                    "2024-04-24T00:00:00",
                    "2024-04-25T00:00:00",
                    "2024-04-26T00:00:00",
                    "2024-04-29T00:00:00",
                    "2024-04-30T00:00:00",
                    "2024-05-02T00:00:00",
                    "2024-05-03T00:00:00",
                    "2024-05-06T00:00:00",
                    "2024-05-07T00:00:00",
                    "2024-05-08T00:00:00",
                    "2024-05-09T00:00:00",
                    "2024-05-10T00:00:00",
                    "2024-05-13T00:00:00",
                    "2024-05-14T00:00:00",
                    "2024-05-15T00:00:00",
                    "2024-05-16T00:00:00",
                    "2024-05-17T00:00:00",
                    "2024-05-18T00:00:00"
                  ],
                  "y": [
                    18372.502,
                    18395.17,
                    18407.654,
                    18415.654,
                    18438.967,
                    18436.441,
                    18396.596,
                    18333.887,
                    18290.98,
                    18294.523,
                    18330.352,
                    18361.787,
                    18394.703,
                    18464.479,
                    18560.822,
                    18657.9,
                    18708.602,
                    18711.66,
                    18698.262,
                    18691.057,
                    18688.094,
                    18718.977,
                    18736.549,
                    18727.072,
                    18715.188,
                    18731.93,
                    18768.668,
                    18791.299,
                    18836.744,
                    18864.57,
                    18892.959,
                    18923.752,
                    18926.654,
                    18888.457,
                    18843.85,
                    18835.943,
                    18886.238,
                    19009.38,
                    19175.607,
                    19343.14,
                    19474.191,
                    19578.43,
                    19597.652,
                    19572.18,
                    19545.646,
                    19506.879,
                    19477.77,
                    19497.842,
                    19575.078,
                    19673.805,
                    19783.31,
                    19909.545,
                    19952.293,
                    19924.352,
                    19865.756,
                    19827.256,
                    19775.61,
                    19727.828,
                    19721.521,
                    19732.963,
                    19700.303,
                    19619.342,
                    19568.607,
                    19564.525,
                    19580.164,
                    19620.924,
                    19643.146,
                    19623.277,
                    19588.709,
                    19561.242,
                    19517.904,
                    19463.984,
                    19438.98,
                    19434.973,
                    19456.213,
                    19471.717,
                    19451.545,
                    19428.996,
                    19418.47,
                    19417.48,
                    19398.363,
                    19421.523,
                    19482.72,
                    19561.145,
                    19639.51,
                    19728.246,
                    19822.74,
                    19940.79,
                    20038.586,
                    20120.613,
                    20179.46,
                    20231.838,
                    20248.848,
                    20181.477,
                    20045.605,
                    19888.436,
                    19757.482,
                    19669.885,
                    19642.17,
                    19606.293,
                    19610.68,
                    19608.229,
                    19583.514,
                    19583.56,
                    19623.396,
                    19638.764,
                    19685.906,
                    19766.902,
                    19840.775,
                    19882.375,
                    19891.107,
                    19898.805,
                    19864.725,
                    19805.342,
                    19724.592,
                    19585.33,
                    19411.09,
                    19194.635,
                    19059.146,
                    19020.652,
                    19030.709,
                    19047.633,
                    19105.217,
                    19195.684,
                    19328.906,
                    19451.266,
                    19548.684,
                    19595.264,
                    19609.076,
                    19623.531,
                    19609.553,
                    19641.76,
                    19708.56,
                    19767.97,
                    19799.883,
                    19831.87,
                    19860.836,
                    19877.557,
                    19881.338,
                    19901.113,
                    19976.043,
                    20069.113,
                    20184.871,
                    20392.021,
                    20635.715,
                    20859.35,
                    21004.807,
                    21087.43,
                    21116.75,
                    21080.443,
                    21020.613,
                    21027.506,
                    21135.34,
                    21256.117,
                    21365.525,
                    21359.383,
                    21326.258,
                    21308.092,
                    21324.656,
                    21412.004,
                    21545.975,
                    21657.57,
                    21733.463,
                    21749.004,
                    21687.562,
                    21639.746,
                    21620.545,
                    21566.396,
                    21520.654,
                    21510.635,
                    21529.674,
                    21628.074,
                    21796.393,
                    21939.75,
                    21909.477,
                    21772.15,
                    21654.549,
                    21557.328,
                    21406.252,
                    21330.902,
                    21284.06,
                    21373.719,
                    21451.05,
                    21566.076,
                    21661.922,
                    21767.162,
                    21824.254,
                    21884.303,
                    21924.967,
                    21884.29,
                    21829.95,
                    21732.22,
                    21672.826,
                    21671.826,
                    21720.625,
                    21819.719,
                    21942.092,
                    22065.953,
                    22118.494,
                    22166.059,
                    22191.37,
                    22171.283,
                    22153.008,
                    22068.424,
                    21983.236,
                    22015.816,
                    22106.777,
                    22214.957,
                    22292.09,
                    22366.877,
                    22423.008,
                    22408.303,
                    22362.297,
                    22215.37,
                    22099.904,
                    21992.182,
                    21929.096,
                    21841.746,
                    21777.89,
                    21792.158,
                    21867.113,
                    21931.92,
                    22012.062,
                    22134.094,
                    22280.365,
                    22396.242,
                    22459.229,
                    22496.951,
                    22505.326,
                    22534.771,
                    22554.705,
                    22593.91,
                    22563.406,
                    22438.96,
                    22266.174,
                    22071.945,
                    21962.133,
                    21976.611,
                    22062.871,
                    22179.662,
                    22332.658,
                    22422.305,
                    22520.965,
                    22581.305,
                    22616.387,
                    22576.717,
                    22499.055,
                    22379.775,
                    22270.418,
                    22098.12,
                    21972.395,
                    21916.168,
                    21944.992,
                    22008.873,
                    22135.906
                  ]
                },
                {
                  "line": {
                    "color": "red"
                  },
                  "mode": "lines",
                  "name": "Next Day 1",
                  "type": "scatter",
                  "x": [
                    "2024-05-18T00:00:00",
                    "2024-05-19T00:00:00"
                  ],
                  "y": [
                    22135.90625,
                    22135.90625
                  ]
                },
                {
                  "line": {
                    "color": "green"
                  },
                  "mode": "lines",
                  "name": "Next Day 2",
                  "type": "scatter",
                  "x": [
                    "2024-05-19T00:00:00",
                    "2024-05-20T00:00:00"
                  ],
                  "y": [
                    22135.90625,
                    22188.494140625
                  ]
                },
                {
                  "line": {
                    "color": "blue"
                  },
                  "mode": "lines",
                  "name": "Next Day 3",
                  "type": "scatter",
                  "x": [
                    "2024-05-20T00:00:00",
                    "2024-05-21T00:00:00"
                  ],
                  "y": [
                    22188.494140625,
                    22209.919921875
                  ]
                },
                {
                  "line": {
                    "color": "orange"
                  },
                  "mode": "lines",
                  "name": "Next Day 4",
                  "type": "scatter",
                  "x": [
                    "2024-05-21T00:00:00",
                    "2024-05-22T00:00:00"
                  ],
                  "y": [
                    22209.919921875,
                    22212.892578125
                  ]
                },
                {
                  "line": {
                    "color": "purple"
                  },
                  "mode": "lines",
                  "name": "Next Day 5",
                  "type": "scatter",
                  "x": [
                    "2024-05-22T00:00:00",
                    "2024-05-23T00:00:00"
                  ],
                  "y": [
                    22212.892578125,
                    22204.203125
                  ]
                }
              ],
              "layout": {
                "legend": {
                  "orientation": "h"
                },
                "showlegend": true,
                "template": {
                  "data": {
                    "bar": [
                      {
                        "error_x": {
                          "color": "#2a3f5f"
                        },
                        "error_y": {
                          "color": "#2a3f5f"
                        },
                        "marker": {
                          "line": {
                            "color": "#E5ECF6",
                            "width": 0.5
                          },
                          "pattern": {
                            "fillmode": "overlay",
                            "size": 10,
                            "solidity": 0.2
                          }
                        },
                        "type": "bar"
                      }
                    ],
                    "barpolar": [
                      {
                        "marker": {
                          "line": {
                            "color": "#E5ECF6",
                            "width": 0.5
                          },
                          "pattern": {
                            "fillmode": "overlay",
                            "size": 10,
                            "solidity": 0.2
                          }
                        },
                        "type": "barpolar"
                      }
                    ],
                    "carpet": [
                      {
                        "aaxis": {
                          "endlinecolor": "#2a3f5f",
                          "gridcolor": "white",
                          "linecolor": "white",
                          "minorgridcolor": "white",
                          "startlinecolor": "#2a3f5f"
                        },
                        "baxis": {
                          "endlinecolor": "#2a3f5f",
                          "gridcolor": "white",
                          "linecolor": "white",
                          "minorgridcolor": "white",
                          "startlinecolor": "#2a3f5f"
                        },
                        "type": "carpet"
                      }
                    ],
                    "choropleth": [
                      {
                        "colorbar": {
                          "outlinewidth": 0,
                          "ticks": ""
                        },
                        "type": "choropleth"
                      }
                    ],
                    "contour": [
                      {
                        "colorbar": {
                          "outlinewidth": 0,
                          "ticks": ""
                        },
                        "colorscale": [
                          [
                            0,
                            "#0d0887"
                          ],
                          [
                            0.1111111111111111,
                            "#46039f"
                          ],
                          [
                            0.2222222222222222,
                            "#7201a8"
                          ],
                          [
                            0.3333333333333333,
                            "#9c179e"
                          ],
                          [
                            0.4444444444444444,
                            "#bd3786"
                          ],
                          [
                            0.5555555555555556,
                            "#d8576b"
                          ],
                          [
                            0.6666666666666666,
                            "#ed7953"
                          ],
                          [
                            0.7777777777777778,
                            "#fb9f3a"
                          ],
                          [
                            0.8888888888888888,
                            "#fdca26"
                          ],
                          [
                            1,
                            "#f0f921"
                          ]
                        ],
                        "type": "contour"
                      }
                    ],
                    "contourcarpet": [
                      {
                        "colorbar": {
                          "outlinewidth": 0,
                          "ticks": ""
                        },
                        "type": "contourcarpet"
                      }
                    ],
                    "heatmap": [
                      {
                        "colorbar": {
                          "outlinewidth": 0,
                          "ticks": ""
                        },
                        "colorscale": [
                          [
                            0,
                            "#0d0887"
                          ],
                          [
                            0.1111111111111111,
                            "#46039f"
                          ],
                          [
                            0.2222222222222222,
                            "#7201a8"
                          ],
                          [
                            0.3333333333333333,
                            "#9c179e"
                          ],
                          [
                            0.4444444444444444,
                            "#bd3786"
                          ],
                          [
                            0.5555555555555556,
                            "#d8576b"
                          ],
                          [
                            0.6666666666666666,
                            "#ed7953"
                          ],
                          [
                            0.7777777777777778,
                            "#fb9f3a"
                          ],
                          [
                            0.8888888888888888,
                            "#fdca26"
                          ],
                          [
                            1,
                            "#f0f921"
                          ]
                        ],
                        "type": "heatmap"
                      }
                    ],
                    "heatmapgl": [
                      {
                        "colorbar": {
                          "outlinewidth": 0,
                          "ticks": ""
                        },
                        "colorscale": [
                          [
                            0,
                            "#0d0887"
                          ],
                          [
                            0.1111111111111111,
                            "#46039f"
                          ],
                          [
                            0.2222222222222222,
                            "#7201a8"
                          ],
                          [
                            0.3333333333333333,
                            "#9c179e"
                          ],
                          [
                            0.4444444444444444,
                            "#bd3786"
                          ],
                          [
                            0.5555555555555556,
                            "#d8576b"
                          ],
                          [
                            0.6666666666666666,
                            "#ed7953"
                          ],
                          [
                            0.7777777777777778,
                            "#fb9f3a"
                          ],
                          [
                            0.8888888888888888,
                            "#fdca26"
                          ],
                          [
                            1,
                            "#f0f921"
                          ]
                        ],
                        "type": "heatmapgl"
                      }
                    ],
                    "histogram": [
                      {
                        "marker": {
                          "pattern": {
                            "fillmode": "overlay",
                            "size": 10,
                            "solidity": 0.2
                          }
                        },
                        "type": "histogram"
                      }
                    ],
                    "histogram2d": [
                      {
                        "colorbar": {
                          "outlinewidth": 0,
                          "ticks": ""
                        },
                        "colorscale": [
                          [
                            0,
                            "#0d0887"
                          ],
                          [
                            0.1111111111111111,
                            "#46039f"
                          ],
                          [
                            0.2222222222222222,
                            "#7201a8"
                          ],
                          [
                            0.3333333333333333,
                            "#9c179e"
                          ],
                          [
                            0.4444444444444444,
                            "#bd3786"
                          ],
                          [
                            0.5555555555555556,
                            "#d8576b"
                          ],
                          [
                            0.6666666666666666,
                            "#ed7953"
                          ],
                          [
                            0.7777777777777778,
                            "#fb9f3a"
                          ],
                          [
                            0.8888888888888888,
                            "#fdca26"
                          ],
                          [
                            1,
                            "#f0f921"
                          ]
                        ],
                        "type": "histogram2d"
                      }
                    ],
                    "histogram2dcontour": [
                      {
                        "colorbar": {
                          "outlinewidth": 0,
                          "ticks": ""
                        },
                        "colorscale": [
                          [
                            0,
                            "#0d0887"
                          ],
                          [
                            0.1111111111111111,
                            "#46039f"
                          ],
                          [
                            0.2222222222222222,
                            "#7201a8"
                          ],
                          [
                            0.3333333333333333,
                            "#9c179e"
                          ],
                          [
                            0.4444444444444444,
                            "#bd3786"
                          ],
                          [
                            0.5555555555555556,
                            "#d8576b"
                          ],
                          [
                            0.6666666666666666,
                            "#ed7953"
                          ],
                          [
                            0.7777777777777778,
                            "#fb9f3a"
                          ],
                          [
                            0.8888888888888888,
                            "#fdca26"
                          ],
                          [
                            1,
                            "#f0f921"
                          ]
                        ],
                        "type": "histogram2dcontour"
                      }
                    ],
                    "mesh3d": [
                      {
                        "colorbar": {
                          "outlinewidth": 0,
                          "ticks": ""
                        },
                        "type": "mesh3d"
                      }
                    ],
                    "parcoords": [
                      {
                        "line": {
                          "colorbar": {
                            "outlinewidth": 0,
                            "ticks": ""
                          }
                        },
                        "type": "parcoords"
                      }
                    ],
                    "pie": [
                      {
                        "automargin": true,
                        "type": "pie"
                      }
                    ],
                    "scatter": [
                      {
                        "fillpattern": {
                          "fillmode": "overlay",
                          "size": 10,
                          "solidity": 0.2
                        },
                        "type": "scatter"
                      }
                    ],
                    "scatter3d": [
                      {
                        "line": {
                          "colorbar": {
                            "outlinewidth": 0,
                            "ticks": ""
                          }
                        },
                        "marker": {
                          "colorbar": {
                            "outlinewidth": 0,
                            "ticks": ""
                          }
                        },
                        "type": "scatter3d"
                      }
                    ],
                    "scattercarpet": [
                      {
                        "marker": {
                          "colorbar": {
                            "outlinewidth": 0,
                            "ticks": ""
                          }
                        },
                        "type": "scattercarpet"
                      }
                    ],
                    "scattergeo": [
                      {
                        "marker": {
                          "colorbar": {
                            "outlinewidth": 0,
                            "ticks": ""
                          }
                        },
                        "type": "scattergeo"
                      }
                    ],
                    "scattergl": [
                      {
                        "marker": {
                          "colorbar": {
                            "outlinewidth": 0,
                            "ticks": ""
                          }
                        },
                        "type": "scattergl"
                      }
                    ],
                    "scattermapbox": [
                      {
                        "marker": {
                          "colorbar": {
                            "outlinewidth": 0,
                            "ticks": ""
                          }
                        },
                        "type": "scattermapbox"
                      }
                    ],
                    "scatterpolar": [
                      {
                        "marker": {
                          "colorbar": {
                            "outlinewidth": 0,
                            "ticks": ""
                          }
                        },
                        "type": "scatterpolar"
                      }
                    ],
                    "scatterpolargl": [
                      {
                        "marker": {
                          "colorbar": {
                            "outlinewidth": 0,
                            "ticks": ""
                          }
                        },
                        "type": "scatterpolargl"
                      }
                    ],
                    "scatterternary": [
                      {
                        "marker": {
                          "colorbar": {
                            "outlinewidth": 0,
                            "ticks": ""
                          }
                        },
                        "type": "scatterternary"
                      }
                    ],
                    "surface": [
                      {
                        "colorbar": {
                          "outlinewidth": 0,
                          "ticks": ""
                        },
                        "colorscale": [
                          [
                            0,
                            "#0d0887"
                          ],
                          [
                            0.1111111111111111,
                            "#46039f"
                          ],
                          [
                            0.2222222222222222,
                            "#7201a8"
                          ],
                          [
                            0.3333333333333333,
                            "#9c179e"
                          ],
                          [
                            0.4444444444444444,
                            "#bd3786"
                          ],
                          [
                            0.5555555555555556,
                            "#d8576b"
                          ],
                          [
                            0.6666666666666666,
                            "#ed7953"
                          ],
                          [
                            0.7777777777777778,
                            "#fb9f3a"
                          ],
                          [
                            0.8888888888888888,
                            "#fdca26"
                          ],
                          [
                            1,
                            "#f0f921"
                          ]
                        ],
                        "type": "surface"
                      }
                    ],
                    "table": [
                      {
                        "cells": {
                          "fill": {
                            "color": "#EBF0F8"
                          },
                          "line": {
                            "color": "white"
                          }
                        },
                        "header": {
                          "fill": {
                            "color": "#C8D4E3"
                          },
                          "line": {
                            "color": "white"
                          }
                        },
                        "type": "table"
                      }
                    ]
                  },
                  "layout": {
                    "annotationdefaults": {
                      "arrowcolor": "#2a3f5f",
                      "arrowhead": 0,
                      "arrowwidth": 1
                    },
                    "autotypenumbers": "strict",
                    "coloraxis": {
                      "colorbar": {
                        "outlinewidth": 0,
                        "ticks": ""
                      }
                    },
                    "colorscale": {
                      "diverging": [
                        [
                          0,
                          "#8e0152"
                        ],
                        [
                          0.1,
                          "#c51b7d"
                        ],
                        [
                          0.2,
                          "#de77ae"
                        ],
                        [
                          0.3,
                          "#f1b6da"
                        ],
                        [
                          0.4,
                          "#fde0ef"
                        ],
                        [
                          0.5,
                          "#f7f7f7"
                        ],
                        [
                          0.6,
                          "#e6f5d0"
                        ],
                        [
                          0.7,
                          "#b8e186"
                        ],
                        [
                          0.8,
                          "#7fbc41"
                        ],
                        [
                          0.9,
                          "#4d9221"
                        ],
                        [
                          1,
                          "#276419"
                        ]
                      ],
                      "sequential": [
                        [
                          0,
                          "#0d0887"
                        ],
                        [
                          0.1111111111111111,
                          "#46039f"
                        ],
                        [
                          0.2222222222222222,
                          "#7201a8"
                        ],
                        [
                          0.3333333333333333,
                          "#9c179e"
                        ],
                        [
                          0.4444444444444444,
                          "#bd3786"
                        ],
                        [
                          0.5555555555555556,
                          "#d8576b"
                        ],
                        [
                          0.6666666666666666,
                          "#ed7953"
                        ],
                        [
                          0.7777777777777778,
                          "#fb9f3a"
                        ],
                        [
                          0.8888888888888888,
                          "#fdca26"
                        ],
                        [
                          1,
                          "#f0f921"
                        ]
                      ],
                      "sequentialminus": [
                        [
                          0,
                          "#0d0887"
                        ],
                        [
                          0.1111111111111111,
                          "#46039f"
                        ],
                        [
                          0.2222222222222222,
                          "#7201a8"
                        ],
                        [
                          0.3333333333333333,
                          "#9c179e"
                        ],
                        [
                          0.4444444444444444,
                          "#bd3786"
                        ],
                        [
                          0.5555555555555556,
                          "#d8576b"
                        ],
                        [
                          0.6666666666666666,
                          "#ed7953"
                        ],
                        [
                          0.7777777777777778,
                          "#fb9f3a"
                        ],
                        [
                          0.8888888888888888,
                          "#fdca26"
                        ],
                        [
                          1,
                          "#f0f921"
                        ]
                      ]
                    },
                    "colorway": [
                      "#636efa",
                      "#EF553B",
                      "#00cc96",
                      "#ab63fa",
                      "#FFA15A",
                      "#19d3f3",
                      "#FF6692",
                      "#B6E880",
                      "#FF97FF",
                      "#FECB52"
                    ],
                    "font": {
                      "color": "#2a3f5f"
                    },
                    "geo": {
                      "bgcolor": "white",
                      "lakecolor": "white",
                      "landcolor": "#E5ECF6",
                      "showlakes": true,
                      "showland": true,
                      "subunitcolor": "white"
                    },
                    "hoverlabel": {
                      "align": "left"
                    },
                    "hovermode": "closest",
                    "mapbox": {
                      "style": "light"
                    },
                    "paper_bgcolor": "white",
                    "plot_bgcolor": "#E5ECF6",
                    "polar": {
                      "angularaxis": {
                        "gridcolor": "white",
                        "linecolor": "white",
                        "ticks": ""
                      },
                      "bgcolor": "#E5ECF6",
                      "radialaxis": {
                        "gridcolor": "white",
                        "linecolor": "white",
                        "ticks": ""
                      }
                    },
                    "scene": {
                      "xaxis": {
                        "backgroundcolor": "#E5ECF6",
                        "gridcolor": "white",
                        "gridwidth": 2,
                        "linecolor": "white",
                        "showbackground": true,
                        "ticks": "",
                        "zerolinecolor": "white"
                      },
                      "yaxis": {
                        "backgroundcolor": "#E5ECF6",
                        "gridcolor": "white",
                        "gridwidth": 2,
                        "linecolor": "white",
                        "showbackground": true,
                        "ticks": "",
                        "zerolinecolor": "white"
                      },
                      "zaxis": {
                        "backgroundcolor": "#E5ECF6",
                        "gridcolor": "white",
                        "gridwidth": 2,
                        "linecolor": "white",
                        "showbackground": true,
                        "ticks": "",
                        "zerolinecolor": "white"
                      }
                    },
                    "shapedefaults": {
                      "line": {
                        "color": "#2a3f5f"
                      }
                    },
                    "ternary": {
                      "aaxis": {
                        "gridcolor": "white",
                        "linecolor": "white",
                        "ticks": ""
                      },
                      "baxis": {
                        "gridcolor": "white",
                        "linecolor": "white",
                        "ticks": ""
                      },
                      "bgcolor": "#E5ECF6",
                      "caxis": {
                        "gridcolor": "white",
                        "linecolor": "white",
                        "ticks": ""
                      }
                    },
                    "title": {
                      "x": 0.05
                    },
                    "xaxis": {
                      "automargin": true,
                      "gridcolor": "white",
                      "linecolor": "white",
                      "ticks": "",
                      "title": {
                        "standoff": 15
                      },
                      "zerolinecolor": "white",
                      "zerolinewidth": 2
                    },
                    "yaxis": {
                      "automargin": true,
                      "gridcolor": "white",
                      "linecolor": "white",
                      "ticks": "",
                      "title": {
                        "standoff": 15
                      },
                      "zerolinecolor": "white",
                      "zerolinewidth": 2
                    }
                  }
                },
                "title": {
                  "text": "Actual vs. Predicted Prices with Next 5 Days Predictions"
                },
                "xaxis": {
                  "title": {
                    "text": "Date"
                  }
                },
                "yaxis": {
                  "title": {
                    "text": "Price"
                  }
                }
              }
            }
          },
          "metadata": {},
          "output_type": "display_data"
        }
      ],
      "source": [
        "# Define a list of colors\n",
        "colors = ['red', 'green', 'blue', 'orange', 'purple']\n",
        "\n",
        "# Plotting actual and predicted prices\n",
        "actual_trace = go.Scatter(x=df.index[-len(y_test):], y=y_test.flatten(), mode='lines', name='Actual Price', line=dict(color='blue'))\n",
        "predicted_trace = go.Scatter(x=df.index[-len(predictions):], y=predictions.flatten(), mode='lines', name='Predicted Price', line=dict(color='orange'))\n",
        "\n",
        "# Calculate the next 5 dates after the last date in the dataset\n",
        "last_date = df.index[-1]\n",
        "next_5_days_index = pd.date_range(last_date + pd.Timedelta(days=1), periods=5)\n",
        "\n",
        "# Plotting prices for the next 5 days\n",
        "next_5_days_trace = []\n",
        "predict_price = predictions[-1][0]\n",
        "for i, price in enumerate(next_5_days_predictions, start=1):\n",
        "    next_day_trace = go.Scatter(x=[last_date, next_5_days_index[i-1]], y=[predict_price, price[0][0]], mode='lines', name=f'Next Day {i}', line=dict(color=colors[i-1]))\n",
        "    next_5_days_trace.append(next_day_trace)\n",
        "    last_date = next_5_days_index[i-1]\n",
        "    predict_price = price[0][0]\n",
        "\n",
        "# print(next_5_days_trace)\n",
        "# Combine all traces\n",
        "traces = [actual_trace, predicted_trace]+next_5_days_trace\n",
        "# Define layout\n",
        "layout = go.Layout(title='Actual vs. Predicted Prices with Next 5 Days Predictions',\n",
        "                   xaxis=dict(title='Date'),\n",
        "                   yaxis=dict(title='Price'),\n",
        "                   legend=dict(orientation='h'),\n",
        "                   showlegend=True)\n",
        "\n",
        "# Create figure\n",
        "fig = go.Figure(data=traces, layout=layout)\n",
        "\n",
        "# Show interactive plot\n",
        "fig.show()\n"
      ]
    },
    {
      "cell_type": "markdown",
      "metadata": {},
      "source": [
        "# **Save the Model**"
      ]
    },
    {
      "cell_type": "code",
      "execution_count": 14,
      "metadata": {
        "id": "Br-iRvEFu6Ui"
      },
      "outputs": [],
      "source": [
        "# # model_path = \"model.h5\"\n",
        "# # model.save(model_path)\n",
        "\n",
        "# # Save the model architecture to JSON\n",
        "# model_json = model.to_json()\n",
        "# with open(\"model.json\", \"w\") as json_file:\n",
        "#     json_file.write(model_json)\n",
        "\n",
        "# # Save the weights to HDF5\n",
        "# model.save_weights(\"model_weights.h5\")\n",
        "save_model(model, \"model.json\", \"model_weights.h5\")"
      ]
    }
  ],
  "metadata": {
    "colab": {
      "provenance": []
    },
    "kernelspec": {
      "display_name": "Python 3",
      "name": "python3"
    },
    "language_info": {
      "codemirror_mode": {
        "name": "ipython",
        "version": 3
      },
      "file_extension": ".py",
      "mimetype": "text/x-python",
      "name": "python",
      "nbconvert_exporter": "python",
      "pygments_lexer": "ipython3",
      "version": "3.10.5"
    }
  },
  "nbformat": 4,
  "nbformat_minor": 0
}
