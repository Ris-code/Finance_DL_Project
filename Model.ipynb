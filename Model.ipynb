{
  "cells": [
    {
      "cell_type": "markdown",
      "metadata": {
        "id": "0UzRe0diWv2w"
      },
      "source": [
        "# **Import Libraries**"
      ]
    },
    {
      "cell_type": "code",
      "execution_count": 1,
      "metadata": {
        "id": "K99uVVXmPtCN"
      },
      "outputs": [],
      "source": [
        "import pandas as pd\n",
        "import numpy as np\n",
        "import matplotlib.pyplot as plt\n",
        "from sklearn.preprocessing import MinMaxScaler\n",
        "from tensorflow.keras.models import Sequential\n",
        "from tensorflow.keras.layers import LSTM, Dense, Dropout\n",
        "import plotly.graph_objs as go\n",
        "from tensorflow.keras.models import load_model"
      ]
    },
    {
      "cell_type": "markdown",
      "metadata": {
        "id": "gqQ8Na7oW2Kg"
      },
      "source": [
        "# **Data Loading**"
      ]
    },
    {
      "cell_type": "code",
      "execution_count": 2,
      "metadata": {
        "colab": {
          "base_uri": "https://localhost:8080/",
          "height": 423
        },
        "id": "wn8r08K6RFt7",
        "outputId": "c01ddcab-3510-4200-e3b9-351583d7cfd7"
      },
      "outputs": [
        {
          "data": {
            "text/html": [
              "<div>\n",
              "<style scoped>\n",
              "    .dataframe tbody tr th:only-of-type {\n",
              "        vertical-align: middle;\n",
              "    }\n",
              "\n",
              "    .dataframe tbody tr th {\n",
              "        vertical-align: top;\n",
              "    }\n",
              "\n",
              "    .dataframe thead th {\n",
              "        text-align: right;\n",
              "    }\n",
              "</style>\n",
              "<table border=\"1\" class=\"dataframe\">\n",
              "  <thead>\n",
              "    <tr style=\"text-align: right;\">\n",
              "      <th></th>\n",
              "      <th>Date</th>\n",
              "      <th>Open</th>\n",
              "      <th>High</th>\n",
              "      <th>Low</th>\n",
              "      <th>Close</th>\n",
              "      <th>Shares Traded</th>\n",
              "      <th>Turnover(in cr)</th>\n",
              "    </tr>\n",
              "  </thead>\n",
              "  <tbody>\n",
              "    <tr>\n",
              "      <th>0</th>\n",
              "      <td>01-Jan-18</td>\n",
              "      <td>10531.70</td>\n",
              "      <td>10537.85</td>\n",
              "      <td>10423.10</td>\n",
              "      <td>10435.55</td>\n",
              "      <td>134532090.0</td>\n",
              "      <td>7546.56</td>\n",
              "    </tr>\n",
              "    <tr>\n",
              "      <th>1</th>\n",
              "      <td>02-Jan-18</td>\n",
              "      <td>10477.55</td>\n",
              "      <td>10495.20</td>\n",
              "      <td>10404.65</td>\n",
              "      <td>10442.20</td>\n",
              "      <td>158092430.0</td>\n",
              "      <td>8665.47</td>\n",
              "    </tr>\n",
              "    <tr>\n",
              "      <th>2</th>\n",
              "      <td>03-Jan-18</td>\n",
              "      <td>10482.65</td>\n",
              "      <td>10503.60</td>\n",
              "      <td>10429.55</td>\n",
              "      <td>10443.20</td>\n",
              "      <td>172516859.0</td>\n",
              "      <td>9541.60</td>\n",
              "    </tr>\n",
              "    <tr>\n",
              "      <th>3</th>\n",
              "      <td>04-Jan-18</td>\n",
              "      <td>10469.40</td>\n",
              "      <td>10513.00</td>\n",
              "      <td>10441.45</td>\n",
              "      <td>10504.80</td>\n",
              "      <td>180257392.0</td>\n",
              "      <td>9561.95</td>\n",
              "    </tr>\n",
              "    <tr>\n",
              "      <th>4</th>\n",
              "      <td>05-Jan-18</td>\n",
              "      <td>10534.25</td>\n",
              "      <td>10566.10</td>\n",
              "      <td>10520.10</td>\n",
              "      <td>10558.85</td>\n",
              "      <td>186469717.0</td>\n",
              "      <td>10306.22</td>\n",
              "    </tr>\n",
              "    <tr>\n",
              "      <th>...</th>\n",
              "      <td>...</td>\n",
              "      <td>...</td>\n",
              "      <td>...</td>\n",
              "      <td>...</td>\n",
              "      <td>...</td>\n",
              "      <td>...</td>\n",
              "      <td>...</td>\n",
              "    </tr>\n",
              "    <tr>\n",
              "      <th>1575</th>\n",
              "      <td>14-May-24</td>\n",
              "      <td>22112.90</td>\n",
              "      <td>22270.05</td>\n",
              "      <td>22081.25</td>\n",
              "      <td>22217.85</td>\n",
              "      <td>230238941.0</td>\n",
              "      <td>23741.66</td>\n",
              "    </tr>\n",
              "    <tr>\n",
              "      <th>1576</th>\n",
              "      <td>15-May-24</td>\n",
              "      <td>22255.60</td>\n",
              "      <td>22297.55</td>\n",
              "      <td>22151.75</td>\n",
              "      <td>22200.55</td>\n",
              "      <td>231935478.0</td>\n",
              "      <td>23815.79</td>\n",
              "    </tr>\n",
              "    <tr>\n",
              "      <th>1577</th>\n",
              "      <td>16-May-24</td>\n",
              "      <td>22319.20</td>\n",
              "      <td>22432.25</td>\n",
              "      <td>22054.55</td>\n",
              "      <td>22403.85</td>\n",
              "      <td>368945092.0</td>\n",
              "      <td>38836.11</td>\n",
              "    </tr>\n",
              "    <tr>\n",
              "      <th>1578</th>\n",
              "      <td>17-May-24</td>\n",
              "      <td>22415.25</td>\n",
              "      <td>22502.15</td>\n",
              "      <td>22345.65</td>\n",
              "      <td>22466.10</td>\n",
              "      <td>242654570.0</td>\n",
              "      <td>27388.67</td>\n",
              "    </tr>\n",
              "    <tr>\n",
              "      <th>1579</th>\n",
              "      <td>18-May-24</td>\n",
              "      <td>22512.85</td>\n",
              "      <td>22520.25</td>\n",
              "      <td>22470.05</td>\n",
              "      <td>22502.00</td>\n",
              "      <td>19064566.0</td>\n",
              "      <td>1572.77</td>\n",
              "    </tr>\n",
              "  </tbody>\n",
              "</table>\n",
              "<p>1580 rows × 7 columns</p>\n",
              "</div>"
            ],
            "text/plain": [
              "           Date      Open      High       Low     Close  Shares Traded  \\\n",
              "0     01-Jan-18  10531.70  10537.85  10423.10  10435.55    134532090.0   \n",
              "1     02-Jan-18  10477.55  10495.20  10404.65  10442.20    158092430.0   \n",
              "2     03-Jan-18  10482.65  10503.60  10429.55  10443.20    172516859.0   \n",
              "3     04-Jan-18  10469.40  10513.00  10441.45  10504.80    180257392.0   \n",
              "4     05-Jan-18  10534.25  10566.10  10520.10  10558.85    186469717.0   \n",
              "...         ...       ...       ...       ...       ...            ...   \n",
              "1575  14-May-24  22112.90  22270.05  22081.25  22217.85    230238941.0   \n",
              "1576  15-May-24  22255.60  22297.55  22151.75  22200.55    231935478.0   \n",
              "1577  16-May-24  22319.20  22432.25  22054.55  22403.85    368945092.0   \n",
              "1578  17-May-24  22415.25  22502.15  22345.65  22466.10    242654570.0   \n",
              "1579  18-May-24  22512.85  22520.25  22470.05  22502.00     19064566.0   \n",
              "\n",
              "      Turnover(in cr)  \n",
              "0             7546.56  \n",
              "1             8665.47  \n",
              "2             9541.60  \n",
              "3             9561.95  \n",
              "4            10306.22  \n",
              "...               ...  \n",
              "1575         23741.66  \n",
              "1576         23815.79  \n",
              "1577         38836.11  \n",
              "1578         27388.67  \n",
              "1579          1572.77  \n",
              "\n",
              "[1580 rows x 7 columns]"
            ]
          },
          "execution_count": 2,
          "metadata": {},
          "output_type": "execute_result"
        }
      ],
      "source": [
        "df = pd.read_csv(\"nifty50.csv\")\n",
        "df"
      ]
    },
    {
      "cell_type": "code",
      "execution_count": 3,
      "metadata": {
        "colab": {
          "base_uri": "https://localhost:8080/"
        },
        "id": "PdqB7JTJVl4y",
        "outputId": "4f1159b3-a3c6-4548-e9e1-ab68f4bf937a"
      },
      "outputs": [
        {
          "name": "stdout",
          "output_type": "stream",
          "text": [
            "Index(['Date', 'Open', 'High', 'Low', 'Close', 'Shares Traded',\n",
            "       'Turnover(in cr)'],\n",
            "      dtype='object')\n"
          ]
        }
      ],
      "source": [
        "print(df.columns)"
      ]
    },
    {
      "cell_type": "markdown",
      "metadata": {
        "id": "NEdqCJjQW8Q4"
      },
      "source": [
        "# **Data Preprocessing**"
      ]
    },
    {
      "cell_type": "code",
      "execution_count": 4,
      "metadata": {
        "id": "dv4C1bkMRTOH"
      },
      "outputs": [],
      "source": [
        "# Parse the Date column to datetime\n",
        "df['Date'] = pd.to_datetime(df['Date'], format='%d-%b-%y')\n",
        "\n",
        "# Set the Date column as the index\n",
        "df.set_index('Date', inplace=True)\n",
        "\n",
        "# Sort the data by date\n",
        "df.sort_index(inplace=True)\n",
        "\n",
        "# Selecting the feature and target columns\n",
        "data = df[['Close']].values\n",
        "\n",
        "# Normalize the data\n",
        "scaler = MinMaxScaler(feature_range=(0, 1))\n",
        "scaled_data = scaler.fit_transform(data)"
      ]
    },
    {
      "cell_type": "markdown",
      "metadata": {
        "id": "1ed0WNFwXA2s"
      },
      "source": [
        "# **Train-Test Split**"
      ]
    },
    {
      "cell_type": "code",
      "execution_count": 5,
      "metadata": {
        "id": "pL9o_1YJVeAW"
      },
      "outputs": [],
      "source": [
        "train_size = int(len(scaled_data) * 0.8)\n",
        "train_data = scaled_data[:train_size]\n",
        "test_data = scaled_data[train_size:]\n",
        "\n",
        "def create_dataset(dataset, time_step=1):\n",
        "    X, Y = [], []\n",
        "    for i in range(len(dataset) - time_step - 1):\n",
        "        a = dataset[i:(i + time_step), 0]\n",
        "        X.append(a)\n",
        "        Y.append(dataset[i + time_step, 0])\n",
        "    return np.array(X), np.array(Y)\n",
        "\n",
        "time_step = 60\n",
        "X_train, y_train = create_dataset(train_data, time_step)\n",
        "X_test, y_test = create_dataset(test_data, time_step)\n",
        "\n",
        "# Reshape input to be [samples, time steps, features] which is required for LSTM\n",
        "X_train = X_train.reshape(X_train.shape[0], X_train.shape[1], 1)\n",
        "X_test = X_test.reshape(X_test.shape[0], X_test.shape[1], 1)"
      ]
    },
    {
      "cell_type": "markdown",
      "metadata": {
        "id": "4T9zYvTbXFcm"
      },
      "source": [
        "# **LSTM Model**"
      ]
    },
    {
      "cell_type": "code",
      "execution_count": 6,
      "metadata": {
        "id": "sfwLty5nXSan"
      },
      "outputs": [],
      "source": [
        "# Build the LSTM model\n",
        "model = Sequential()\n",
        "model.add(LSTM(50, return_sequences=True, input_shape=(time_step, 1)))\n",
        "model.add(LSTM(50, return_sequences=False))\n",
        "model.add(Dense(25))\n",
        "model.add(Dense(1))\n",
        "\n",
        "# Compile the model\n",
        "model.compile(optimizer='adam', loss='mean_squared_error')"
      ]
    },
    {
      "cell_type": "markdown",
      "metadata": {
        "id": "D5dMr738XmTt"
      },
      "source": [
        "# **Training the model**"
      ]
    },
    {
      "cell_type": "code",
      "execution_count": 7,
      "metadata": {
        "colab": {
          "base_uri": "https://localhost:8080/"
        },
        "id": "tGEzPfVUXlxB",
        "outputId": "3922ad36-e3c9-4c9e-fe46-3967980bcb76"
      },
      "outputs": [
        {
          "name": "stdout",
          "output_type": "stream",
          "text": [
            "Epoch 1/100\n",
            "19/19 [==============================] - 6s 98ms/step - loss: 0.0353\n",
            "Epoch 2/100\n",
            "19/19 [==============================] - 2s 91ms/step - loss: 0.0037\n",
            "Epoch 3/100\n",
            "19/19 [==============================] - 2s 86ms/step - loss: 0.0010\n",
            "Epoch 4/100\n",
            "19/19 [==============================] - 1s 69ms/step - loss: 6.7564e-04\n",
            "Epoch 5/100\n",
            "19/19 [==============================] - 1s 79ms/step - loss: 6.3237e-04\n",
            "Epoch 6/100\n",
            "19/19 [==============================] - 1s 79ms/step - loss: 6.3062e-04\n",
            "Epoch 7/100\n",
            "19/19 [==============================] - 2s 96ms/step - loss: 6.3716e-04\n",
            "Epoch 8/100\n",
            "19/19 [==============================] - 2s 94ms/step - loss: 6.1797e-04\n",
            "Epoch 9/100\n",
            "19/19 [==============================] - 2s 82ms/step - loss: 5.8060e-04\n",
            "Epoch 10/100\n",
            "19/19 [==============================] - 1s 70ms/step - loss: 5.6343e-04\n",
            "Epoch 11/100\n",
            "19/19 [==============================] - 1s 77ms/step - loss: 5.5805e-04\n",
            "Epoch 12/100\n",
            "19/19 [==============================] - 1s 73ms/step - loss: 5.4798e-04\n",
            "Epoch 13/100\n",
            "19/19 [==============================] - 2s 94ms/step - loss: 5.4886e-04\n",
            "Epoch 14/100\n",
            "19/19 [==============================] - 1s 76ms/step - loss: 5.4211e-04\n",
            "Epoch 15/100\n",
            "19/19 [==============================] - 1s 73ms/step - loss: 5.4142e-04\n",
            "Epoch 16/100\n",
            "19/19 [==============================] - 1s 72ms/step - loss: 5.1672e-04\n",
            "Epoch 17/100\n",
            "19/19 [==============================] - 1s 67ms/step - loss: 5.0692e-04\n",
            "Epoch 18/100\n",
            "19/19 [==============================] - 1s 66ms/step - loss: 4.9477e-04\n",
            "Epoch 19/100\n",
            "19/19 [==============================] - 1s 69ms/step - loss: 4.8711e-04\n",
            "Epoch 20/100\n",
            "19/19 [==============================] - 1s 66ms/step - loss: 4.6858e-04\n",
            "Epoch 21/100\n",
            "19/19 [==============================] - 1s 66ms/step - loss: 4.9321e-04\n",
            "Epoch 22/100\n",
            "19/19 [==============================] - 1s 62ms/step - loss: 4.9892e-04\n",
            "Epoch 23/100\n",
            "19/19 [==============================] - 1s 69ms/step - loss: 4.3951e-04\n",
            "Epoch 24/100\n",
            "19/19 [==============================] - 1s 69ms/step - loss: 4.2914e-04\n",
            "Epoch 25/100\n",
            "19/19 [==============================] - 2s 92ms/step - loss: 4.0502e-04\n",
            "Epoch 26/100\n",
            "19/19 [==============================] - 2s 80ms/step - loss: 3.9627e-04\n",
            "Epoch 27/100\n",
            "19/19 [==============================] - 2s 122ms/step - loss: 4.0238e-04\n",
            "Epoch 28/100\n",
            "19/19 [==============================] - 2s 111ms/step - loss: 3.8421e-04\n",
            "Epoch 29/100\n",
            "19/19 [==============================] - 2s 105ms/step - loss: 3.8210e-04\n",
            "Epoch 30/100\n",
            "19/19 [==============================] - 2s 95ms/step - loss: 3.7158e-04\n",
            "Epoch 31/100\n",
            "19/19 [==============================] - 2s 95ms/step - loss: 3.7844e-04\n",
            "Epoch 32/100\n",
            "19/19 [==============================] - 2s 97ms/step - loss: 3.9133e-04\n",
            "Epoch 33/100\n",
            "19/19 [==============================] - 2s 93ms/step - loss: 4.0767e-04\n",
            "Epoch 34/100\n",
            "19/19 [==============================] - 2s 89ms/step - loss: 4.4825e-04\n",
            "Epoch 35/100\n",
            "19/19 [==============================] - 1s 76ms/step - loss: 4.3446e-04\n",
            "Epoch 36/100\n",
            "19/19 [==============================] - 2s 94ms/step - loss: 3.6996e-04\n",
            "Epoch 37/100\n",
            "19/19 [==============================] - 2s 99ms/step - loss: 3.4435e-04\n",
            "Epoch 38/100\n",
            "19/19 [==============================] - 2s 93ms/step - loss: 3.5237e-04\n",
            "Epoch 39/100\n",
            "19/19 [==============================] - 2s 96ms/step - loss: 3.4286e-04\n",
            "Epoch 40/100\n",
            "19/19 [==============================] - 2s 91ms/step - loss: 3.4775e-04\n",
            "Epoch 41/100\n",
            "19/19 [==============================] - 1s 75ms/step - loss: 3.4446e-04\n",
            "Epoch 42/100\n",
            "19/19 [==============================] - 1s 66ms/step - loss: 3.1238e-04\n",
            "Epoch 43/100\n",
            "19/19 [==============================] - 1s 66ms/step - loss: 3.2355e-04\n",
            "Epoch 44/100\n",
            "19/19 [==============================] - 1s 66ms/step - loss: 3.5192e-04\n",
            "Epoch 45/100\n",
            "19/19 [==============================] - 2s 90ms/step - loss: 3.2812e-04\n",
            "Epoch 46/100\n",
            "19/19 [==============================] - 2s 111ms/step - loss: 3.0521e-04\n",
            "Epoch 47/100\n",
            "19/19 [==============================] - 2s 109ms/step - loss: 3.1517e-04\n",
            "Epoch 48/100\n",
            "19/19 [==============================] - 2s 117ms/step - loss: 3.0023e-04\n",
            "Epoch 49/100\n",
            "19/19 [==============================] - 2s 92ms/step - loss: 2.9567e-04\n",
            "Epoch 50/100\n",
            "19/19 [==============================] - 2s 104ms/step - loss: 2.9687e-04\n",
            "Epoch 51/100\n",
            "19/19 [==============================] - 2s 96ms/step - loss: 2.8633e-04\n",
            "Epoch 52/100\n",
            "19/19 [==============================] - 2s 94ms/step - loss: 2.9760e-04\n",
            "Epoch 53/100\n",
            "19/19 [==============================] - 2s 98ms/step - loss: 3.0789e-04\n",
            "Epoch 54/100\n",
            "19/19 [==============================] - 2s 96ms/step - loss: 2.7499e-04\n",
            "Epoch 55/100\n",
            "19/19 [==============================] - 2s 99ms/step - loss: 2.9037e-04\n",
            "Epoch 56/100\n",
            "19/19 [==============================] - 2s 97ms/step - loss: 2.9067e-04\n",
            "Epoch 57/100\n",
            "19/19 [==============================] - 2s 92ms/step - loss: 2.8718e-04\n",
            "Epoch 58/100\n",
            "19/19 [==============================] - 2s 100ms/step - loss: 2.6388e-04\n",
            "Epoch 59/100\n",
            "19/19 [==============================] - 2s 94ms/step - loss: 2.9127e-04\n",
            "Epoch 60/100\n",
            "19/19 [==============================] - 2s 92ms/step - loss: 3.1974e-04\n",
            "Epoch 61/100\n",
            "19/19 [==============================] - 2s 96ms/step - loss: 2.5916e-04\n",
            "Epoch 62/100\n",
            "19/19 [==============================] - 2s 94ms/step - loss: 2.7344e-04\n",
            "Epoch 63/100\n",
            "19/19 [==============================] - 2s 90ms/step - loss: 2.5450e-04\n",
            "Epoch 64/100\n",
            "19/19 [==============================] - 2s 87ms/step - loss: 2.4780e-04\n",
            "Epoch 65/100\n",
            "19/19 [==============================] - 2s 85ms/step - loss: 2.4218e-04\n",
            "Epoch 66/100\n",
            "19/19 [==============================] - 2s 85ms/step - loss: 2.3715e-04\n",
            "Epoch 67/100\n",
            "19/19 [==============================] - 2s 83ms/step - loss: 2.4391e-04\n",
            "Epoch 68/100\n",
            "19/19 [==============================] - 2s 93ms/step - loss: 2.3462e-04\n",
            "Epoch 69/100\n",
            "19/19 [==============================] - 2s 84ms/step - loss: 2.2261e-04\n",
            "Epoch 70/100\n",
            "19/19 [==============================] - 2s 87ms/step - loss: 2.3088e-04\n",
            "Epoch 71/100\n",
            "19/19 [==============================] - 2s 87ms/step - loss: 2.3672e-04\n",
            "Epoch 72/100\n",
            "19/19 [==============================] - 2s 84ms/step - loss: 2.1299e-04\n",
            "Epoch 73/100\n",
            "19/19 [==============================] - 2s 85ms/step - loss: 2.1836e-04\n",
            "Epoch 74/100\n",
            "19/19 [==============================] - 2s 96ms/step - loss: 2.0297e-04\n",
            "Epoch 75/100\n",
            "19/19 [==============================] - 2s 84ms/step - loss: 2.1893e-04\n",
            "Epoch 76/100\n",
            "19/19 [==============================] - 2s 79ms/step - loss: 2.3043e-04\n",
            "Epoch 77/100\n",
            "19/19 [==============================] - 2s 84ms/step - loss: 2.4323e-04\n",
            "Epoch 78/100\n",
            "19/19 [==============================] - 2s 82ms/step - loss: 2.3925e-04\n",
            "Epoch 79/100\n",
            "19/19 [==============================] - 2s 84ms/step - loss: 2.8060e-04\n",
            "Epoch 80/100\n",
            "19/19 [==============================] - 2s 82ms/step - loss: 2.0598e-04\n",
            "Epoch 81/100\n",
            "19/19 [==============================] - 1s 68ms/step - loss: 1.9155e-04\n",
            "Epoch 82/100\n",
            "19/19 [==============================] - 1s 79ms/step - loss: 2.0469e-04\n",
            "Epoch 83/100\n",
            "19/19 [==============================] - 2s 87ms/step - loss: 2.2165e-04\n",
            "Epoch 84/100\n",
            "19/19 [==============================] - 1s 74ms/step - loss: 1.9355e-04\n",
            "Epoch 85/100\n",
            "19/19 [==============================] - 2s 82ms/step - loss: 1.8797e-04\n",
            "Epoch 86/100\n",
            "19/19 [==============================] - 2s 84ms/step - loss: 1.8285e-04\n",
            "Epoch 87/100\n",
            "19/19 [==============================] - 2s 120ms/step - loss: 1.8927e-04\n",
            "Epoch 88/100\n",
            "19/19 [==============================] - 2s 116ms/step - loss: 1.9813e-04\n",
            "Epoch 89/100\n",
            "19/19 [==============================] - 2s 83ms/step - loss: 1.9283e-04\n",
            "Epoch 90/100\n",
            "19/19 [==============================] - 2s 80ms/step - loss: 2.0342e-04\n",
            "Epoch 91/100\n",
            "19/19 [==============================] - 2s 81ms/step - loss: 1.7512e-04\n",
            "Epoch 92/100\n",
            "19/19 [==============================] - 1s 79ms/step - loss: 1.7568e-04\n",
            "Epoch 93/100\n",
            "19/19 [==============================] - 2s 81ms/step - loss: 1.9772e-04\n",
            "Epoch 94/100\n",
            "19/19 [==============================] - 2s 80ms/step - loss: 1.9921e-04\n",
            "Epoch 95/100\n",
            "19/19 [==============================] - 2s 84ms/step - loss: 2.0359e-04\n",
            "Epoch 96/100\n",
            "19/19 [==============================] - 2s 82ms/step - loss: 1.7006e-04\n",
            "Epoch 97/100\n",
            "19/19 [==============================] - 2s 79ms/step - loss: 1.6646e-04\n",
            "Epoch 98/100\n",
            "19/19 [==============================] - 2s 81ms/step - loss: 1.8371e-04\n",
            "Epoch 99/100\n",
            "19/19 [==============================] - 1s 79ms/step - loss: 1.6712e-04\n",
            "Epoch 100/100\n",
            "19/19 [==============================] - 2s 81ms/step - loss: 1.6299e-04\n"
          ]
        },
        {
          "data": {
            "text/plain": [
              "<keras.callbacks.History at 0x237f5bcef80>"
            ]
          },
          "execution_count": 7,
          "metadata": {},
          "output_type": "execute_result"
        }
      ],
      "source": [
        "# Train the model\n",
        "model.fit(X_train, y_train, batch_size=64, epochs=100)"
      ]
    },
    {
      "cell_type": "markdown",
      "metadata": {
        "id": "Cfti4CJnYMBa"
      },
      "source": [
        "# **Evaluating The Model**"
      ]
    },
    {
      "cell_type": "code",
      "execution_count": 8,
      "metadata": {
        "colab": {
          "base_uri": "https://localhost:8080/"
        },
        "id": "V8w9NMXkYLun",
        "outputId": "762d58c1-f194-44fe-97b9-aa631787c6ff"
      },
      "outputs": [
        {
          "name": "stdout",
          "output_type": "stream",
          "text": [
            "8/8 [==============================] - 3s 18ms/step\n",
            "Mean Squared Error: 34383.39571810134\n"
          ]
        }
      ],
      "source": [
        "# Predicting on the test data\n",
        "predictions = model.predict(X_test)\n",
        "predictions = scaler.inverse_transform(predictions)\n",
        "\n",
        "# Inverse transform the y_test to compare with the predictions\n",
        "y_test = scaler.inverse_transform(y_test.reshape(-1, 1))\n",
        "\n",
        "# Calculate the mean squared error\n",
        "mse = np.mean((predictions - y_test)**2)\n",
        "print(f'Mean Squared Error: {mse}')"
      ]
    },
    {
      "cell_type": "code",
      "execution_count": 9,
      "metadata": {
        "colab": {
          "base_uri": "https://localhost:8080/",
          "height": 564
        },
        "id": "LsTHZvB9YSex",
        "outputId": "16b79c8a-a74d-4f1c-a7e0-3424ccfbe532"
      },
      "outputs": [
        {
          "data": {
            "image/png": "[encoded data removed]",
            "text/plain": [
              "<Figure size 864x432 with 1 Axes>"
            ]
          },
          "metadata": {
            "needs_background": "light"
          },
          "output_type": "display_data"
        }
      ],
      "source": [
        "# Plotting the results\n",
        "plt.figure(figsize=(12,6))\n",
        "plt.plot(y_test, label='Actual Price')\n",
        "plt.plot(predictions, label='Predicted Price')\n",
        "plt.title('Nifty 50 Price Prediction')\n",
        "plt.xlabel('Days')\n",
        "plt.ylabel('Price')\n",
        "plt.legend()\n",
        "plt.show()"
      ]
    },
    {
      "cell_type": "markdown",
      "metadata": {
        "id": "vse43PLVafi8"
      },
      "source": [
        "# **Predicting the next 5 days**"
      ]
    },
    {
      "cell_type": "code",
      "execution_count": 10,
      "metadata": {
        "id": "whn2ldVK0bS-"
      },
      "outputs": [
        {
          "name": "stdout",
          "output_type": "stream",
          "text": [
            "1/1 [==============================] - 0s 62ms/step\n",
            "1/1 [==============================] - 0s 106ms/step\n",
            "1/1 [==============================] - 0s 36ms/step\n",
            "1/1 [==============================] - 0s 30ms/step\n",
            "1/1 [==============================] - 0s 52ms/step\n",
            "[array([[22231.201]], dtype=float32), array([[22224.53]], dtype=float32), array([[22160.328]], dtype=float32), array([[22064.186]], dtype=float32), array([[21950.416]], dtype=float32)]\n"
          ]
        }
      ],
      "source": [
        "next_5_days_predictions = []\n",
        "last_sequence = X_test[-1:, :, :]\n",
        "for _ in range(5):\n",
        "    prediction = model.predict(last_sequence)\n",
        "    next_5_days_predictions.append(scaler.inverse_transform(prediction))\n",
        "    # Remove the first element from last_sequence and add the prediction at its last position\n",
        "    last_sequence = np.concatenate([last_sequence[:, 1:, :], prediction.reshape(1, 1, 1)], axis=1)\n",
        "\n",
        "print(next_5_days_predictions)"
      ]
    },
    {
      "cell_type": "code",
      "execution_count": 11,
      "metadata": {
        "id": "4QzwnMp80ivi"
      },
      "outputs": [
        {
          "data": {
            "application/vnd.plotly.v1+json": {
              "config": {
                "plotlyServerURL": "https://plot.ly"
              },
              "data": [
                {
                  "line": {
                    "color": "blue"
                  },
                  "mode": "lines",
                  "name": "Actual Price",
                  "type": "scatter",
                  "x": [
                    "2023-05-11T00:00:00",
                    "2023-05-12T00:00:00",
                    "2023-05-15T00:00:00",
                    "2023-05-16T00:00:00",
                    "2023-05-17T00:00:00",
                    "2023-05-18T00:00:00",
                    "2023-05-19T00:00:00",
                    "2023-05-22T00:00:00",
                    "2023-05-23T00:00:00",
                    "2023-05-24T00:00:00",
                    "2023-05-25T00:00:00",
                    "2023-05-26T00:00:00",
                    "2023-05-29T00:00:00",
                    "2023-05-30T00:00:00",
                    "2023-05-31T00:00:00",
                    "2023-06-01T00:00:00",
                    "2023-06-02T00:00:00",
                    "2023-06-05T00:00:00",
                    "2023-06-06T00:00:00",
                    "2023-06-07T00:00:00",
                    "2023-06-08T00:00:00",
                    "2023-06-09T00:00:00",
                    "2023-06-12T00:00:00",
                    "2023-06-13T00:00:00",
                    "2023-06-14T00:00:00",
                    "2023-06-15T00:00:00",
                    "2023-06-16T00:00:00",
                    "2023-06-19T00:00:00",
                    "2023-06-20T00:00:00",
                    "2023-06-21T00:00:00",
                    "2023-06-22T00:00:00",
                    "2023-06-23T00:00:00",
                    "2023-06-26T00:00:00",
                    "2023-06-27T00:00:00",
                    "2023-06-28T00:00:00",
                    "2023-06-30T00:00:00",
                    "2023-07-03T00:00:00",
                    "2023-07-04T00:00:00",
                    "2023-07-05T00:00:00",
                    "2023-07-06T00:00:00",
                    "2023-07-07T00:00:00",
                    "2023-07-10T00:00:00",
                    "2023-07-11T00:00:00",
                    "2023-07-12T00:00:00",
                    "2023-07-13T00:00:00",
                    "2023-07-14T00:00:00",
                    "2023-07-17T00:00:00",
                    "2023-07-18T00:00:00",
                    "2023-07-19T00:00:00",
                    "2023-07-20T00:00:00",
                    "2023-07-21T00:00:00",
                    "2023-07-24T00:00:00",
                    "2023-07-25T00:00:00",
                    "2023-07-26T00:00:00",
                    "2023-07-27T00:00:00",
                    "2023-07-28T00:00:00",
                    "2023-07-31T00:00:00",
                    "2023-08-01T00:00:00",
                    "2023-08-02T00:00:00",
                    "2023-08-03T00:00:00",
                    "2023-08-04T00:00:00",
                    "2023-08-07T00:00:00",
                    "2023-08-08T00:00:00",
                    "2023-08-09T00:00:00",
                    "2023-08-10T00:00:00",
                    "2023-08-11T00:00:00",
                    "2023-08-14T00:00:00",
                    "2023-08-16T00:00:00",
                    "2023-08-17T00:00:00",
                    "2023-08-18T00:00:00",
                    "2023-08-21T00:00:00",
                    "2023-08-22T00:00:00",
                    "2023-08-23T00:00:00",
                    "2023-08-24T00:00:00",
                    "2023-08-25T00:00:00",
                    "2023-08-28T00:00:00",
                    "2023-08-29T00:00:00",
                    "2023-08-30T00:00:00",
                    "2023-08-31T00:00:00",
                    "2023-09-01T00:00:00",
                    "2023-09-04T00:00:00",
                    "2023-09-05T00:00:00",
                    "2023-09-06T00:00:00",
                    "2023-09-07T00:00:00",
                    "2023-09-08T00:00:00",
                    "2023-09-11T00:00:00",
                    "2023-09-12T00:00:00",
                    "2023-09-13T00:00:00",
                    "2023-09-14T00:00:00",
                    "2023-09-15T00:00:00",
                    "2023-09-18T00:00:00",
                    "2023-09-20T00:00:00",
                    "2023-09-21T00:00:00",
                    "2023-09-22T00:00:00",
                    "2023-09-25T00:00:00",
                    "2023-09-26T00:00:00",
                    "2023-09-27T00:00:00",
                    "2023-09-28T00:00:00",
                    "2023-09-29T00:00:00",
                    "2023-10-03T00:00:00",
                    "2023-10-04T00:00:00",
                    "2023-10-05T00:00:00",
                    "2023-10-06T00:00:00",
                    "2023-10-09T00:00:00",
                    "2023-10-10T00:00:00",
                    "2023-10-11T00:00:00",
                    "2023-10-12T00:00:00",
                    "2023-10-13T00:00:00",
                    "2023-10-16T00:00:00",
                    "2023-10-17T00:00:00",
                    "2023-10-18T00:00:00",
                    "2023-10-19T00:00:00",
                    "2023-10-20T00:00:00",
                    "2023-10-23T00:00:00",
                    "2023-10-25T00:00:00",
                    "2023-10-26T00:00:00",
                    "2023-10-27T00:00:00",
                    "2023-10-30T00:00:00",
                    "2023-10-31T00:00:00",
                    "2023-11-01T00:00:00",
                    "2023-11-02T00:00:00",
                    "2023-11-03T00:00:00",
                    "2023-11-06T00:00:00",
                    "2023-11-07T00:00:00",
                    "2023-11-08T00:00:00",
                    "2023-11-09T00:00:00",
                    "2023-11-10T00:00:00",
                    "2023-11-12T00:00:00",
                    "2023-11-13T00:00:00",
                    "2023-11-15T00:00:00",
                    "2023-11-16T00:00:00",
                    "2023-11-17T00:00:00",
                    "2023-11-20T00:00:00",
                    "2023-11-21T00:00:00",
                    "2023-11-22T00:00:00",
                    "2023-11-23T00:00:00",
                    "2023-11-24T00:00:00",
                    "2023-11-28T00:00:00",
                    "2023-11-29T00:00:00",
                    "2023-11-30T00:00:00",
                    "2023-12-01T00:00:00",
                    "2023-12-04T00:00:00",
                    "2023-12-05T00:00:00",
                    "2023-12-06T00:00:00",
                    "2023-12-07T00:00:00",
                    "2023-12-08T00:00:00",
                    "2023-12-11T00:00:00",
                    "2023-12-12T00:00:00",
                    "2023-12-13T00:00:00",
                    "2023-12-14T00:00:00",
                    "2023-12-15T00:00:00",
                    "2023-12-18T00:00:00",
                    "2023-12-19T00:00:00",
                    "2023-12-20T00:00:00",
                    "2023-12-21T00:00:00",
                    "2023-12-22T00:00:00",
                    "2023-12-26T00:00:00",
                    "2023-12-27T00:00:00",
                    "2023-12-28T00:00:00",
                    "2023-12-29T00:00:00",
                    "2024-01-01T00:00:00",
                    "2024-01-02T00:00:00",
                    "2024-01-03T00:00:00",
                    "2024-01-04T00:00:00",
                    "2024-01-05T00:00:00",
                    "2024-01-08T00:00:00",
                    "2024-01-09T00:00:00",
                    "2024-01-10T00:00:00",
                    "2024-01-11T00:00:00",
                    "2024-01-12T00:00:00",
                    "2024-01-15T00:00:00",
                    "2024-01-16T00:00:00",
                    "2024-01-17T00:00:00",
                    "2024-01-18T00:00:00",
                    "2024-01-19T00:00:00",
                    "2024-01-20T00:00:00",
                    "2024-01-23T00:00:00",
                    "2024-01-24T00:00:00",
                    "2024-01-25T00:00:00",
                    "2024-01-29T00:00:00",
                    "2024-01-30T00:00:00",
                    "2024-01-31T00:00:00",
                    "2024-02-01T00:00:00",
                    "2024-02-02T00:00:00",
                    "2024-02-05T00:00:00",
                    "2024-02-06T00:00:00",
                    "2024-02-07T00:00:00",
                    "2024-02-08T00:00:00",
                    "2024-02-09T00:00:00",
                    "2024-02-12T00:00:00",
                    "2024-02-13T00:00:00",
                    "2024-02-14T00:00:00",
                    "2024-02-15T00:00:00",
                    "2024-02-16T00:00:00",
                    "2024-02-19T00:00:00",
                    "2024-02-20T00:00:00",
                    "2024-02-21T00:00:00",
                    "2024-02-22T00:00:00",
                    "2024-02-23T00:00:00",
                    "2024-02-26T00:00:00",
                    "2024-02-27T00:00:00",
                    "2024-02-28T00:00:00",
                    "2024-02-29T00:00:00",
                    "2024-03-01T00:00:00",
                    "2024-03-02T00:00:00",
                    "2024-03-04T00:00:00",
                    "2024-03-05T00:00:00",
                    "2024-03-06T00:00:00",
                    "2024-03-07T00:00:00",
                    "2024-03-11T00:00:00",
                    "2024-03-12T00:00:00",
                    "2024-03-13T00:00:00",
                    "2024-03-14T00:00:00",
                    "2024-03-15T00:00:00",
                    "2024-03-18T00:00:00",
                    "2024-03-19T00:00:00",
                    "2024-03-20T00:00:00",
                    "2024-03-21T00:00:00",
                    "2024-03-22T00:00:00",
                    "2024-03-26T00:00:00",
                    "2024-03-27T00:00:00",
                    "2024-03-28T00:00:00",
                    "2024-04-01T00:00:00",
                    "2024-04-02T00:00:00",
                    "2024-04-03T00:00:00",
                    "2024-04-04T00:00:00",
                    "2024-04-05T00:00:00",
                    "2024-04-08T00:00:00",
                    "2024-04-09T00:00:00",
                    "2024-04-10T00:00:00",
                    "2024-04-12T00:00:00",
                    "2024-04-15T00:00:00",
                    "2024-04-16T00:00:00",
                    "2024-04-18T00:00:00",
                    "2024-04-19T00:00:00",
                    "2024-04-22T00:00:00",
                    "2024-04-23T00:00:00",
                    "2024-04-24T00:00:00",
                    "2024-04-25T00:00:00",
                    "2024-04-26T00:00:00",
                    "2024-04-29T00:00:00",
                    "2024-04-30T00:00:00",
                    "2024-05-02T00:00:00",
                    "2024-05-03T00:00:00",
                    "2024-05-06T00:00:00",
                    "2024-05-07T00:00:00",
                    "2024-05-08T00:00:00",
                    "2024-05-09T00:00:00",
                    "2024-05-10T00:00:00",
                    "2024-05-13T00:00:00",
                    "2024-05-14T00:00:00",
                    "2024-05-15T00:00:00",
                    "2024-05-16T00:00:00",
                    "2024-05-17T00:00:00",
                    "2024-05-18T00:00:00"
                  ],
                  "y": [
                    18315.1,
                    18297,
                    18314.8,
                    18398.85,
                    18286.5,
                    18181.75,
                    18129.95,
                    18203.4,
                    18314.4,
                    18348,
                    18285.4,
                    18321.15,
                    18499.35,
                    18598.65,
                    18633.85,
                    18534.4,
                    18487.75,
                    18534.1,
                    18593.85,
                    18599,
                    18726.4,
                    18634.55,
                    18563.4,
                    18601.5,
                    18716.15,
                    18755.9,
                    18688.1,
                    18826,
                    18755.45,
                    18816.7,
                    18856.85,
                    18771.25,
                    18665.5,
                    18691.2,
                    18817.4,
                    18972.1,
                    19189.05,
                    19322.55,
                    19389,
                    19398.5,
                    19497.3,
                    19331.8,
                    19355.9,
                    19439.4,
                    19384.3,
                    19413.75,
                    19564.5,
                    19711.45,
                    19749.25,
                    19833.15,
                    19979.15,
                    19745,
                    19672.35,
                    19680.6,
                    19778.3,
                    19659.9,
                    19646.05,
                    19753.8,
                    19733.55,
                    19526.55,
                    19381.65,
                    19517,
                    19597.3,
                    19570.85,
                    19632.55,
                    19543.1,
                    19428.3,
                    19434.55,
                    19465,
                    19365.25,
                    19310.15,
                    19393.6,
                    19396.45,
                    19444,
                    19386.7,
                    19265.8,
                    19306.05,
                    19342.65,
                    19347.45,
                    19253.8,
                    19435.3,
                    19528.8,
                    19574.9,
                    19611.05,
                    19727.05,
                    19819.95,
                    19996.35,
                    19993.2,
                    20070,
                    20103.1,
                    20192.35,
                    20133.3,
                    19901.4,
                    19742.35,
                    19674.25,
                    19674.55,
                    19664.7,
                    19716.45,
                    19523.55,
                    19638.3,
                    19528.75,
                    19436.1,
                    19545.75,
                    19653.5,
                    19512.35,
                    19689.85,
                    19811.35,
                    19794,
                    19751.05,
                    19731.75,
                    19811.5,
                    19671.1,
                    19624.7,
                    19542.65,
                    19281.75,
                    19122.15,
                    18857.25,
                    19047.25,
                    19140.9,
                    19079.6,
                    18989.15,
                    19133.25,
                    19230.6,
                    19411.75,
                    19406.7,
                    19443.5,
                    19395.3,
                    19425.35,
                    19525.55,
                    19443.55,
                    19675.45,
                    19765.2,
                    19731.8,
                    19694,
                    19783.4,
                    19811.85,
                    19802,
                    19794.7,
                    19889.7,
                    20096.6,
                    20133.15,
                    20267.9,
                    20686.8,
                    20855.1,
                    20937.7,
                    20901.15,
                    20969.4,
                    20997.1,
                    20906.4,
                    20926.35,
                    21182.7,
                    21456.65,
                    21418.65,
                    21453.1,
                    21150.15,
                    21255.05,
                    21349.4,
                    21441.35,
                    21654.75,
                    21778.7,
                    21731.4,
                    21741.9,
                    21665.8,
                    21517.35,
                    21658.6,
                    21710.8,
                    21513,
                    21544.85,
                    21618.7,
                    21647.2,
                    21894.55,
                    22097.45,
                    22032.3,
                    21571.95,
                    21462.25,
                    21622.4,
                    21571.8,
                    21238.8,
                    21453.95,
                    21352.6,
                    21737.6,
                    21522.1,
                    21725.7,
                    21697.45,
                    21853.8,
                    21771.7,
                    21929.4,
                    21930.5,
                    21717.95,
                    21782.5,
                    21616.05,
                    21743.25,
                    21840.05,
                    21910.75,
                    22040.7,
                    22122.25,
                    22196.95,
                    22055.05,
                    22217.45,
                    22212.7,
                    22122.05,
                    22198.35,
                    21951.15,
                    21982.8,
                    22338.75,
                    22378.4,
                    22405.6,
                    22356.3,
                    22474.05,
                    22493.55,
                    22332.65,
                    22335.7,
                    21997.7,
                    22146.65,
                    22023.35,
                    22055.7,
                    21817.45,
                    21839.1,
                    22011.95,
                    22096.75,
                    22004.7,
                    22123.65,
                    22326.9,
                    22462,
                    22453.3,
                    22434.65,
                    22514.65,
                    22513.7,
                    22666.3,
                    22642.75,
                    22753.8,
                    22519.4,
                    22272.5,
                    22147.9,
                    21995.85,
                    22147,
                    22336.4,
                    22368,
                    22402.4,
                    22570.35,
                    22419.95,
                    22643.4,
                    22604.85,
                    22648.2,
                    22475.85,
                    22442.7,
                    22302.5,
                    22302.5,
                    21957.5,
                    22055.2,
                    22104.05,
                    22217.85,
                    22200.55,
                    22403.85,
                    22466.1
                  ]
                },
                {
                  "line": {
                    "color": "orange"
                  },
                  "mode": "lines",
                  "name": "Predicted Price",
                  "type": "scatter",
                  "x": [
                    "2023-05-11T00:00:00",
                    "2023-05-12T00:00:00",
                    "2023-05-15T00:00:00",
                    "2023-05-16T00:00:00",
                    "2023-05-17T00:00:00",
                    "2023-05-18T00:00:00",
                    "2023-05-19T00:00:00",
                    "2023-05-22T00:00:00",
                    "2023-05-23T00:00:00",
                    "2023-05-24T00:00:00",
                    "2023-05-25T00:00:00",
                    "2023-05-26T00:00:00",
                    "2023-05-29T00:00:00",
                    "2023-05-30T00:00:00",
                    "2023-05-31T00:00:00",
                    "2023-06-01T00:00:00",
                    "2023-06-02T00:00:00",
                    "2023-06-05T00:00:00",
                    "2023-06-06T00:00:00",
                    "2023-06-07T00:00:00",
                    "2023-06-08T00:00:00",
                    "2023-06-09T00:00:00",
                    "2023-06-12T00:00:00",
                    "2023-06-13T00:00:00",
                    "2023-06-14T00:00:00",
                    "2023-06-15T00:00:00",
                    "2023-06-16T00:00:00",
                    "2023-06-19T00:00:00",
                    "2023-06-20T00:00:00",
                    "2023-06-21T00:00:00",
                    "2023-06-22T00:00:00",
                    "2023-06-23T00:00:00",
                    "2023-06-26T00:00:00",
                    "2023-06-27T00:00:00",
                    "2023-06-28T00:00:00",
                    "2023-06-30T00:00:00",
                    "2023-07-03T00:00:00",
                    "2023-07-04T00:00:00",
                    "2023-07-05T00:00:00",
                    "2023-07-06T00:00:00",
                    "2023-07-07T00:00:00",
                    "2023-07-10T00:00:00",
                    "2023-07-11T00:00:00",
                    "2023-07-12T00:00:00",
                    "2023-07-13T00:00:00",
                    "2023-07-14T00:00:00",
                    "2023-07-17T00:00:00",
                    "2023-07-18T00:00:00",
                    "2023-07-19T00:00:00",
                    "2023-07-20T00:00:00",
                    "2023-07-21T00:00:00",
                    "2023-07-24T00:00:00",
                    "2023-07-25T00:00:00",
                    "2023-07-26T00:00:00",
                    "2023-07-27T00:00:00",
                    "2023-07-28T00:00:00",
                    "2023-07-31T00:00:00",
                    "2023-08-01T00:00:00",
                    "2023-08-02T00:00:00",
                    "2023-08-03T00:00:00",
                    "2023-08-04T00:00:00",
                    "2023-08-07T00:00:00",
                    "2023-08-08T00:00:00",
                    "2023-08-09T00:00:00",
                    "2023-08-10T00:00:00",
                    "2023-08-11T00:00:00",
                    "2023-08-14T00:00:00",
                    "2023-08-16T00:00:00",
                    "2023-08-17T00:00:00",
                    "2023-08-18T00:00:00",
                    "2023-08-21T00:00:00",
                    "2023-08-22T00:00:00",
                    "2023-08-23T00:00:00",
                    "2023-08-24T00:00:00",
                    "2023-08-25T00:00:00",
                    "2023-08-28T00:00:00",
                    "2023-08-29T00:00:00",
                    "2023-08-30T00:00:00",
                    "2023-08-31T00:00:00",
                    "2023-09-01T00:00:00",
                    "2023-09-04T00:00:00",
                    "2023-09-05T00:00:00",
                    "2023-09-06T00:00:00",
                    "2023-09-07T00:00:00",
                    "2023-09-08T00:00:00",
                    "2023-09-11T00:00:00",
                    "2023-09-12T00:00:00",
                    "2023-09-13T00:00:00",
                    "2023-09-14T00:00:00",
                    "2023-09-15T00:00:00",
                    "2023-09-18T00:00:00",
                    "2023-09-20T00:00:00",
                    "2023-09-21T00:00:00",
                    "2023-09-22T00:00:00",
                    "2023-09-25T00:00:00",
                    "2023-09-26T00:00:00",
                    "2023-09-27T00:00:00",
                    "2023-09-28T00:00:00",
                    "2023-09-29T00:00:00",
                    "2023-10-03T00:00:00",
                    "2023-10-04T00:00:00",
                    "2023-10-05T00:00:00",
                    "2023-10-06T00:00:00",
                    "2023-10-09T00:00:00",
                    "2023-10-10T00:00:00",
                    "2023-10-11T00:00:00",
                    "2023-10-12T00:00:00",
                    "2023-10-13T00:00:00",
                    "2023-10-16T00:00:00",
                    "2023-10-17T00:00:00",
                    "2023-10-18T00:00:00",
                    "2023-10-19T00:00:00",
                    "2023-10-20T00:00:00",
                    "2023-10-23T00:00:00",
                    "2023-10-25T00:00:00",
                    "2023-10-26T00:00:00",
                    "2023-10-27T00:00:00",
                    "2023-10-30T00:00:00",
                    "2023-10-31T00:00:00",
                    "2023-11-01T00:00:00",
                    "2023-11-02T00:00:00",
                    "2023-11-03T00:00:00",
                    "2023-11-06T00:00:00",
                    "2023-11-07T00:00:00",
                    "2023-11-08T00:00:00",
                    "2023-11-09T00:00:00",
                    "2023-11-10T00:00:00",
                    "2023-11-12T00:00:00",
                    "2023-11-13T00:00:00",
                    "2023-11-15T00:00:00",
                    "2023-11-16T00:00:00",
                    "2023-11-17T00:00:00",
                    "2023-11-20T00:00:00",
                    "2023-11-21T00:00:00",
                    "2023-11-22T00:00:00",
                    "2023-11-23T00:00:00",
                    "2023-11-24T00:00:00",
                    "2023-11-28T00:00:00",
                    "2023-11-29T00:00:00",
                    "2023-11-30T00:00:00",
                    "2023-12-01T00:00:00",
                    "2023-12-04T00:00:00",
                    "2023-12-05T00:00:00",
                    "2023-12-06T00:00:00",
                    "2023-12-07T00:00:00",
                    "2023-12-08T00:00:00",
                    "2023-12-11T00:00:00",
                    "2023-12-12T00:00:00",
                    "2023-12-13T00:00:00",
                    "2023-12-14T00:00:00",
                    "2023-12-15T00:00:00",
                    "2023-12-18T00:00:00",
                    "2023-12-19T00:00:00",
                    "2023-12-20T00:00:00",
                    "2023-12-21T00:00:00",
                    "2023-12-22T00:00:00",
                    "2023-12-26T00:00:00",
                    "2023-12-27T00:00:00",
                    "2023-12-28T00:00:00",
                    "2023-12-29T00:00:00",
                    "2024-01-01T00:00:00",
                    "2024-01-02T00:00:00",
                    "2024-01-03T00:00:00",
                    "2024-01-04T00:00:00",
                    "2024-01-05T00:00:00",
                    "2024-01-08T00:00:00",
                    "2024-01-09T00:00:00",
                    "2024-01-10T00:00:00",
                    "2024-01-11T00:00:00",
                    "2024-01-12T00:00:00",
                    "2024-01-15T00:00:00",
                    "2024-01-16T00:00:00",
                    "2024-01-17T00:00:00",
                    "2024-01-18T00:00:00",
                    "2024-01-19T00:00:00",
                    "2024-01-20T00:00:00",
                    "2024-01-23T00:00:00",
                    "2024-01-24T00:00:00",
                    "2024-01-25T00:00:00",
                    "2024-01-29T00:00:00",
                    "2024-01-30T00:00:00",
                    "2024-01-31T00:00:00",
                    "2024-02-01T00:00:00",
                    "2024-02-02T00:00:00",
                    "2024-02-05T00:00:00",
                    "2024-02-06T00:00:00",
                    "2024-02-07T00:00:00",
                    "2024-02-08T00:00:00",
                    "2024-02-09T00:00:00",
                    "2024-02-12T00:00:00",
                    "2024-02-13T00:00:00",
                    "2024-02-14T00:00:00",
                    "2024-02-15T00:00:00",
                    "2024-02-16T00:00:00",
                    "2024-02-19T00:00:00",
                    "2024-02-20T00:00:00",
                    "2024-02-21T00:00:00",
                    "2024-02-22T00:00:00",
                    "2024-02-23T00:00:00",
                    "2024-02-26T00:00:00",
                    "2024-02-27T00:00:00",
                    "2024-02-28T00:00:00",
                    "2024-02-29T00:00:00",
                    "2024-03-01T00:00:00",
                    "2024-03-02T00:00:00",
                    "2024-03-04T00:00:00",
                    "2024-03-05T00:00:00",
                    "2024-03-06T00:00:00",
                    "2024-03-07T00:00:00",
                    "2024-03-11T00:00:00",
                    "2024-03-12T00:00:00",
                    "2024-03-13T00:00:00",
                    "2024-03-14T00:00:00",
                    "2024-03-15T00:00:00",
                    "2024-03-18T00:00:00",
                    "2024-03-19T00:00:00",
                    "2024-03-20T00:00:00",
                    "2024-03-21T00:00:00",
                    "2024-03-22T00:00:00",
                    "2024-03-26T00:00:00",
                    "2024-03-27T00:00:00",
                    "2024-03-28T00:00:00",
                    "2024-04-01T00:00:00",
                    "2024-04-02T00:00:00",
                    "2024-04-03T00:00:00",
                    "2024-04-04T00:00:00",
                    "2024-04-05T00:00:00",
                    "2024-04-08T00:00:00",
                    "2024-04-09T00:00:00",
                    "2024-04-10T00:00:00",
                    "2024-04-12T00:00:00",
                    "2024-04-15T00:00:00",
                    "2024-04-16T00:00:00",
                    "2024-04-18T00:00:00",
                    "2024-04-19T00:00:00",
                    "2024-04-22T00:00:00",
                    "2024-04-23T00:00:00",
                    "2024-04-24T00:00:00",
                    "2024-04-25T00:00:00",
                    "2024-04-26T00:00:00",
                    "2024-04-29T00:00:00",
                    "2024-04-30T00:00:00",
                    "2024-05-02T00:00:00",
                    "2024-05-03T00:00:00",
                    "2024-05-06T00:00:00",
                    "2024-05-07T00:00:00",
                    "2024-05-08T00:00:00",
                    "2024-05-09T00:00:00",
                    "2024-05-10T00:00:00",
                    "2024-05-13T00:00:00",
                    "2024-05-14T00:00:00",
                    "2024-05-15T00:00:00",
                    "2024-05-16T00:00:00",
                    "2024-05-17T00:00:00",
                    "2024-05-18T00:00:00"
                  ],
                  "y": [
                    18203.74,
                    18248.844,
                    18275,
                    18292.404,
                    18336.045,
                    18323.146,
                    18250.236,
                    18162.148,
                    18136.45,
                    18194.588,
                    18278.602,
                    18313.572,
                    18330.797,
                    18407.672,
                    18514.332,
                    18600.715,
                    18596.543,
                    18535.322,
                    18493.559,
                    18500.455,
                    18526.754,
                    18608.54,
                    18638.973,
                    18608.477,
                    18583.527,
                    18619.643,
                    18681.1,
                    18698.04,
                    18751.908,
                    18763.436,
                    18780.438,
                    18807.41,
                    18787.795,
                    18712.238,
                    18658.24,
                    18690.383,
                    18811.656,
                    19014.26,
                    19221.502,
                    19368.822,
                    19427.312,
                    19461.787,
                    19389.18,
                    19314.924,
                    19307.3,
                    19306.422,
                    19328.717,
                    19423.139,
                    19573.57,
                    19698.957,
                    19797.418,
                    19903.54,
                    19852.803,
                    19728.863,
                    19630.045,
                    19627.113,
                    19611.598,
                    19599.512,
                    19646.91,
                    19688.736,
                    19618.459,
                    19471.896,
                    19419.37,
                    19459.074,
                    19506.91,
                    19567.588,
                    19564.89,
                    19485.658,
                    19411.332,
                    19381.396,
                    19336.203,
                    19283.041,
                    19289.34,
                    19317.844,
                    19366.24,
                    19375.86,
                    19312.088,
                    19264.635,
                    19257.506,
                    19271.037,
                    19246.252,
                    19300.74,
                    19402.186,
                    19498.752,
                    19566.78,
                    19643.23,
                    19726.404,
                    19851.512,
                    19931.953,
                    19992.852,
                    20030.732,
                    20081.66,
                    20086.693,
                    19968.1,
                    19786.549,
                    19633.967,
                    19565.764,
                    19563.96,
                    19621.215,
                    19594.355,
                    19603.207,
                    19567.766,
                    19486.992,
                    19469.852,
                    19527.982,
                    19523.44,
                    19577.29,
                    19679.426,
                    19744.236,
                    19744.525,
                    19707.533,
                    19705.076,
                    19651.275,
                    19583.799,
                    19506.08,
                    19345.408,
                    19158.766,
                    18930.664,
                    18878.184,
                    18961.969,
                    19043.271,
                    19053.965,
                    19095.498,
                    19166.293,
                    19291.748,
                    19374.02,
                    19414.621,
                    19392.412,
                    19363.838,
                    19386.43,
                    19381.691,
                    19476.947,
                    19610.6,
                    19689.416,
                    19697.87,
                    19714.988,
                    19737.975,
                    19748.56,
                    19747.488,
                    19786.545,
                    19918.03,
                    20043.309,
                    20173.123,
                    20435.152,
                    20699.82,
                    20878.61,
                    20917.64,
                    20907.748,
                    20887.629,
                    20828.146,
                    20794.395,
                    20911.115,
                    21165.184,
                    21342.373,
                    21429.203,
                    21294.488,
                    21184.951,
                    21172.242,
                    21245.475,
                    21422.094,
                    21615.887,
                    21702.615,
                    21709.537,
                    21638.65,
                    21495.59,
                    21458.15,
                    21502.053,
                    21467.943,
                    21444.25,
                    21472.168,
                    21520.73,
                    21672.582,
                    21884.217,
                    21982.15,
                    21766.514,
                    21479.746,
                    21369.816,
                    21353.578,
                    21234.36,
                    21249.24,
                    21262.314,
                    21458.113,
                    21524.729,
                    21609.443,
                    21635.951,
                    21694.135,
                    21687.596,
                    21730.947,
                    21767.428,
                    21683.027,
                    21627.555,
                    21530.111,
                    21530.531,
                    21617.592,
                    21735.924,
                    21875.893,
                    21994.9,
                    22080.287,
                    22037.035,
                    22038.799,
                    22046.117,
                    22008.299,
                    22011.096,
                    21910.766,
                    21842.486,
                    21991.71,
                    22170.746,
                    22293.756,
                    22311.525,
                    22332.045,
                    22343.533,
                    22263.92,
                    22190.31,
                    21991.443,
                    21920.975,
                    21875.523,
                    21887.65,
                    21807.865,
                    21749.498,
                    21808.717,
                    21921.58,
                    21954.916,
                    21996.508,
                    22109.018,
                    22249.504,
                    22321.867,
                    22319.521,
                    22322.936,
                    22321.521,
                    22393.215,
                    22447.502,
                    22528.178,
                    22468.434,
                    22272.395,
                    22064.45,
                    21883.66,
                    21882.404,
                    22048.256,
                    22220.316,
                    22332.39,
                    22442.871,
                    22413.072,
                    22443.037,
                    22447.516,
                    22456.596,
                    22376.684,
                    22289.076,
                    22175.48,
                    22114.105,
                    21942.596,
                    21872.22,
                    21900.941,
                    22014.252,
                    22099.695,
                    22231.2
                  ]
                },
                {
                  "line": {
                    "color": "red"
                  },
                  "mode": "lines",
                  "name": "Next Day 1",
                  "type": "scatter",
                  "x": [
                    "2024-05-18T00:00:00",
                    "2024-05-19T00:00:00"
                  ],
                  "y": [
                    22231.19921875,
                    22231.201171875
                  ]
                },
                {
                  "line": {
                    "color": "green"
                  },
                  "mode": "lines",
                  "name": "Next Day 2",
                  "type": "scatter",
                  "x": [
                    "2024-05-19T00:00:00",
                    "2024-05-20T00:00:00"
                  ],
                  "y": [
                    22231.201171875,
                    22224.529296875
                  ]
                },
                {
                  "line": {
                    "color": "blue"
                  },
                  "mode": "lines",
                  "name": "Next Day 3",
                  "type": "scatter",
                  "x": [
                    "2024-05-20T00:00:00",
                    "2024-05-21T00:00:00"
                  ],
                  "y": [
                    22224.529296875,
                    22160.328125
                  ]
                },
                {
                  "line": {
                    "color": "orange"
                  },
                  "mode": "lines",
                  "name": "Next Day 4",
                  "type": "scatter",
                  "x": [
                    "2024-05-21T00:00:00",
                    "2024-05-22T00:00:00"
                  ],
                  "y": [
                    22160.328125,
                    22064.185546875
                  ]
                },
                {
                  "line": {
                    "color": "purple"
                  },
                  "mode": "lines",
                  "name": "Next Day 5",
                  "type": "scatter",
                  "x": [
                    "2024-05-22T00:00:00",
                    "2024-05-23T00:00:00"
                  ],
                  "y": [
                    22064.185546875,
                    21950.416015625
                  ]
                }
              ],
              "layout": {
                "legend": {
                  "orientation": "h"
                },
                "showlegend": true,
                "template": {
                  "data": {
                    "bar": [
                      {
                        "error_x": {
                          "color": "#2a3f5f"
                        },
                        "error_y": {
                          "color": "#2a3f5f"
                        },
                        "marker": {
                          "line": {
                            "color": "#E5ECF6",
                            "width": 0.5
                          },
                          "pattern": {
                            "fillmode": "overlay",
                            "size": 10,
                            "solidity": 0.2
                          }
                        },
                        "type": "bar"
                      }
                    ],
                    "barpolar": [
                      {
                        "marker": {
                          "line": {
                            "color": "#E5ECF6",
                            "width": 0.5
                          },
                          "pattern": {
                            "fillmode": "overlay",
                            "size": 10,
                            "solidity": 0.2
                          }
                        },
                        "type": "barpolar"
                      }
                    ],
                    "carpet": [
                      {
                        "aaxis": {
                          "endlinecolor": "#2a3f5f",
                          "gridcolor": "white",
                          "linecolor": "white",
                          "minorgridcolor": "white",
                          "startlinecolor": "#2a3f5f"
                        },
                        "baxis": {
                          "endlinecolor": "#2a3f5f",
                          "gridcolor": "white",
                          "linecolor": "white",
                          "minorgridcolor": "white",
                          "startlinecolor": "#2a3f5f"
                        },
                        "type": "carpet"
                      }
                    ],
                    "choropleth": [
                      {
                        "colorbar": {
                          "outlinewidth": 0,
                          "ticks": ""
                        },
                        "type": "choropleth"
                      }
                    ],
                    "contour": [
                      {
                        "colorbar": {
                          "outlinewidth": 0,
                          "ticks": ""
                        },
                        "colorscale": [
                          [
                            0,
                            "#0d0887"
                          ],
                          [
                            0.1111111111111111,
                            "#46039f"
                          ],
                          [
                            0.2222222222222222,
                            "#7201a8"
                          ],
                          [
                            0.3333333333333333,
                            "#9c179e"
                          ],
                          [
                            0.4444444444444444,
                            "#bd3786"
                          ],
                          [
                            0.5555555555555556,
                            "#d8576b"
                          ],
                          [
                            0.6666666666666666,
                            "#ed7953"
                          ],
                          [
                            0.7777777777777778,
                            "#fb9f3a"
                          ],
                          [
                            0.8888888888888888,
                            "#fdca26"
                          ],
                          [
                            1,
                            "#f0f921"
                          ]
                        ],
                        "type": "contour"
                      }
                    ],
                    "contourcarpet": [
                      {
                        "colorbar": {
                          "outlinewidth": 0,
                          "ticks": ""
                        },
                        "type": "contourcarpet"
                      }
                    ],
                    "heatmap": [
                      {
                        "colorbar": {
                          "outlinewidth": 0,
                          "ticks": ""
                        },
                        "colorscale": [
                          [
                            0,
                            "#0d0887"
                          ],
                          [
                            0.1111111111111111,
                            "#46039f"
                          ],
                          [
                            0.2222222222222222,
                            "#7201a8"
                          ],
                          [
                            0.3333333333333333,
                            "#9c179e"
                          ],
                          [
                            0.4444444444444444,
                            "#bd3786"
                          ],
                          [
                            0.5555555555555556,
                            "#d8576b"
                          ],
                          [
                            0.6666666666666666,
                            "#ed7953"
                          ],
                          [
                            0.7777777777777778,
                            "#fb9f3a"
                          ],
                          [
                            0.8888888888888888,
                            "#fdca26"
                          ],
                          [
                            1,
                            "#f0f921"
                          ]
                        ],
                        "type": "heatmap"
                      }
                    ],
                    "heatmapgl": [
                      {
                        "colorbar": {
                          "outlinewidth": 0,
                          "ticks": ""
                        },
                        "colorscale": [
                          [
                            0,
                            "#0d0887"
                          ],
                          [
                            0.1111111111111111,
                            "#46039f"
                          ],
                          [
                            0.2222222222222222,
                            "#7201a8"
                          ],
                          [
                            0.3333333333333333,
                            "#9c179e"
                          ],
                          [
                            0.4444444444444444,
                            "#bd3786"
                          ],
                          [
                            0.5555555555555556,
                            "#d8576b"
                          ],
                          [
                            0.6666666666666666,
                            "#ed7953"
                          ],
                          [
                            0.7777777777777778,
                            "#fb9f3a"
                          ],
                          [
                            0.8888888888888888,
                            "#fdca26"
                          ],
                          [
                            1,
                            "#f0f921"
                          ]
                        ],
                        "type": "heatmapgl"
                      }
                    ],
                    "histogram": [
                      {
                        "marker": {
                          "pattern": {
                            "fillmode": "overlay",
                            "size": 10,
                            "solidity": 0.2
                          }
                        },
                        "type": "histogram"
                      }
                    ],
                    "histogram2d": [
                      {
                        "colorbar": {
                          "outlinewidth": 0,
                          "ticks": ""
                        },
                        "colorscale": [
                          [
                            0,
                            "#0d0887"
                          ],
                          [
                            0.1111111111111111,
                            "#46039f"
                          ],
                          [
                            0.2222222222222222,
                            "#7201a8"
                          ],
                          [
                            0.3333333333333333,
                            "#9c179e"
                          ],
                          [
                            0.4444444444444444,
                            "#bd3786"
                          ],
                          [
                            0.5555555555555556,
                            "#d8576b"
                          ],
                          [
                            0.6666666666666666,
                            "#ed7953"
                          ],
                          [
                            0.7777777777777778,
                            "#fb9f3a"
                          ],
                          [
                            0.8888888888888888,
                            "#fdca26"
                          ],
                          [
                            1,
                            "#f0f921"
                          ]
                        ],
                        "type": "histogram2d"
                      }
                    ],
                    "histogram2dcontour": [
                      {
                        "colorbar": {
                          "outlinewidth": 0,
                          "ticks": ""
                        },
                        "colorscale": [
                          [
                            0,
                            "#0d0887"
                          ],
                          [
                            0.1111111111111111,
                            "#46039f"
                          ],
                          [
                            0.2222222222222222,
                            "#7201a8"
                          ],
                          [
                            0.3333333333333333,
                            "#9c179e"
                          ],
                          [
                            0.4444444444444444,
                            "#bd3786"
                          ],
                          [
                            0.5555555555555556,
                            "#d8576b"
                          ],
                          [
                            0.6666666666666666,
                            "#ed7953"
                          ],
                          [
                            0.7777777777777778,
                            "#fb9f3a"
                          ],
                          [
                            0.8888888888888888,
                            "#fdca26"
                          ],
                          [
                            1,
                            "#f0f921"
                          ]
                        ],
                        "type": "histogram2dcontour"
                      }
                    ],
                    "mesh3d": [
                      {
                        "colorbar": {
                          "outlinewidth": 0,
                          "ticks": ""
                        },
                        "type": "mesh3d"
                      }
                    ],
                    "parcoords": [
                      {
                        "line": {
                          "colorbar": {
                            "outlinewidth": 0,
                            "ticks": ""
                          }
                        },
                        "type": "parcoords"
                      }
                    ],
                    "pie": [
                      {
                        "automargin": true,
                        "type": "pie"
                      }
                    ],
                    "scatter": [
                      {
                        "fillpattern": {
                          "fillmode": "overlay",
                          "size": 10,
                          "solidity": 0.2
                        },
                        "type": "scatter"
                      }
                    ],
                    "scatter3d": [
                      {
                        "line": {
                          "colorbar": {
                            "outlinewidth": 0,
                            "ticks": ""
                          }
                        },
                        "marker": {
                          "colorbar": {
                            "outlinewidth": 0,
                            "ticks": ""
                          }
                        },
                        "type": "scatter3d"
                      }
                    ],
                    "scattercarpet": [
                      {
                        "marker": {
                          "colorbar": {
                            "outlinewidth": 0,
                            "ticks": ""
                          }
                        },
                        "type": "scattercarpet"
                      }
                    ],
                    "scattergeo": [
                      {
                        "marker": {
                          "colorbar": {
                            "outlinewidth": 0,
                            "ticks": ""
                          }
                        },
                        "type": "scattergeo"
                      }
                    ],
                    "scattergl": [
                      {
                        "marker": {
                          "colorbar": {
                            "outlinewidth": 0,
                            "ticks": ""
                          }
                        },
                        "type": "scattergl"
                      }
                    ],
                    "scattermapbox": [
                      {
                        "marker": {
                          "colorbar": {
                            "outlinewidth": 0,
                            "ticks": ""
                          }
                        },
                        "type": "scattermapbox"
                      }
                    ],
                    "scatterpolar": [
                      {
                        "marker": {
                          "colorbar": {
                            "outlinewidth": 0,
                            "ticks": ""
                          }
                        },
                        "type": "scatterpolar"
                      }
                    ],
                    "scatterpolargl": [
                      {
                        "marker": {
                          "colorbar": {
                            "outlinewidth": 0,
                            "ticks": ""
                          }
                        },
                        "type": "scatterpolargl"
                      }
                    ],
                    "scatterternary": [
                      {
                        "marker": {
                          "colorbar": {
                            "outlinewidth": 0,
                            "ticks": ""
                          }
                        },
                        "type": "scatterternary"
                      }
                    ],
                    "surface": [
                      {
                        "colorbar": {
                          "outlinewidth": 0,
                          "ticks": ""
                        },
                        "colorscale": [
                          [
                            0,
                            "#0d0887"
                          ],
                          [
                            0.1111111111111111,
                            "#46039f"
                          ],
                          [
                            0.2222222222222222,
                            "#7201a8"
                          ],
                          [
                            0.3333333333333333,
                            "#9c179e"
                          ],
                          [
                            0.4444444444444444,
                            "#bd3786"
                          ],
                          [
                            0.5555555555555556,
                            "#d8576b"
                          ],
                          [
                            0.6666666666666666,
                            "#ed7953"
                          ],
                          [
                            0.7777777777777778,
                            "#fb9f3a"
                          ],
                          [
                            0.8888888888888888,
                            "#fdca26"
                          ],
                          [
                            1,
                            "#f0f921"
                          ]
                        ],
                        "type": "surface"
                      }
                    ],
                    "table": [
                      {
                        "cells": {
                          "fill": {
                            "color": "#EBF0F8"
                          },
                          "line": {
                            "color": "white"
                          }
                        },
                        "header": {
                          "fill": {
                            "color": "#C8D4E3"
                          },
                          "line": {
                            "color": "white"
                          }
                        },
                        "type": "table"
                      }
                    ]
                  },
                  "layout": {
                    "annotationdefaults": {
                      "arrowcolor": "#2a3f5f",
                      "arrowhead": 0,
                      "arrowwidth": 1
                    },
                    "autotypenumbers": "strict",
                    "coloraxis": {
                      "colorbar": {
                        "outlinewidth": 0,
                        "ticks": ""
                      }
                    },
                    "colorscale": {
                      "diverging": [
                        [
                          0,
                          "#8e0152"
                        ],
                        [
                          0.1,
                          "#c51b7d"
                        ],
                        [
                          0.2,
                          "#de77ae"
                        ],
                        [
                          0.3,
                          "#f1b6da"
                        ],
                        [
                          0.4,
                          "#fde0ef"
                        ],
                        [
                          0.5,
                          "#f7f7f7"
                        ],
                        [
                          0.6,
                          "#e6f5d0"
                        ],
                        [
                          0.7,
                          "#b8e186"
                        ],
                        [
                          0.8,
                          "#7fbc41"
                        ],
                        [
                          0.9,
                          "#4d9221"
                        ],
                        [
                          1,
                          "#276419"
                        ]
                      ],
                      "sequential": [
                        [
                          0,
                          "#0d0887"
                        ],
                        [
                          0.1111111111111111,
                          "#46039f"
                        ],
                        [
                          0.2222222222222222,
                          "#7201a8"
                        ],
                        [
                          0.3333333333333333,
                          "#9c179e"
                        ],
                        [
                          0.4444444444444444,
                          "#bd3786"
                        ],
                        [
                          0.5555555555555556,
                          "#d8576b"
                        ],
                        [
                          0.6666666666666666,
                          "#ed7953"
                        ],
                        [
                          0.7777777777777778,
                          "#fb9f3a"
                        ],
                        [
                          0.8888888888888888,
                          "#fdca26"
                        ],
                        [
                          1,
                          "#f0f921"
                        ]
                      ],
                      "sequentialminus": [
                        [
                          0,
                          "#0d0887"
                        ],
                        [
                          0.1111111111111111,
                          "#46039f"
                        ],
                        [
                          0.2222222222222222,
                          "#7201a8"
                        ],
                        [
                          0.3333333333333333,
                          "#9c179e"
                        ],
                        [
                          0.4444444444444444,
                          "#bd3786"
                        ],
                        [
                          0.5555555555555556,
                          "#d8576b"
                        ],
                        [
                          0.6666666666666666,
                          "#ed7953"
                        ],
                        [
                          0.7777777777777778,
                          "#fb9f3a"
                        ],
                        [
                          0.8888888888888888,
                          "#fdca26"
                        ],
                        [
                          1,
                          "#f0f921"
                        ]
                      ]
                    },
                    "colorway": [
                      "#636efa",
                      "#EF553B",
                      "#00cc96",
                      "#ab63fa",
                      "#FFA15A",
                      "#19d3f3",
                      "#FF6692",
                      "#B6E880",
                      "#FF97FF",
                      "#FECB52"
                    ],
                    "font": {
                      "color": "#2a3f5f"
                    },
                    "geo": {
                      "bgcolor": "white",
                      "lakecolor": "white",
                      "landcolor": "#E5ECF6",
                      "showlakes": true,
                      "showland": true,
                      "subunitcolor": "white"
                    },
                    "hoverlabel": {
                      "align": "left"
                    },
                    "hovermode": "closest",
                    "mapbox": {
                      "style": "light"
                    },
                    "paper_bgcolor": "white",
                    "plot_bgcolor": "#E5ECF6",
                    "polar": {
                      "angularaxis": {
                        "gridcolor": "white",
                        "linecolor": "white",
                        "ticks": ""
                      },
                      "bgcolor": "#E5ECF6",
                      "radialaxis": {
                        "gridcolor": "white",
                        "linecolor": "white",
                        "ticks": ""
                      }
                    },
                    "scene": {
                      "xaxis": {
                        "backgroundcolor": "#E5ECF6",
                        "gridcolor": "white",
                        "gridwidth": 2,
                        "linecolor": "white",
                        "showbackground": true,
                        "ticks": "",
                        "zerolinecolor": "white"
                      },
                      "yaxis": {
                        "backgroundcolor": "#E5ECF6",
                        "gridcolor": "white",
                        "gridwidth": 2,
                        "linecolor": "white",
                        "showbackground": true,
                        "ticks": "",
                        "zerolinecolor": "white"
                      },
                      "zaxis": {
                        "backgroundcolor": "#E5ECF6",
                        "gridcolor": "white",
                        "gridwidth": 2,
                        "linecolor": "white",
                        "showbackground": true,
                        "ticks": "",
                        "zerolinecolor": "white"
                      }
                    },
                    "shapedefaults": {
                      "line": {
                        "color": "#2a3f5f"
                      }
                    },
                    "ternary": {
                      "aaxis": {
                        "gridcolor": "white",
                        "linecolor": "white",
                        "ticks": ""
                      },
                      "baxis": {
                        "gridcolor": "white",
                        "linecolor": "white",
                        "ticks": ""
                      },
                      "bgcolor": "#E5ECF6",
                      "caxis": {
                        "gridcolor": "white",
                        "linecolor": "white",
                        "ticks": ""
                      }
                    },
                    "title": {
                      "x": 0.05
                    },
                    "xaxis": {
                      "automargin": true,
                      "gridcolor": "white",
                      "linecolor": "white",
                      "ticks": "",
                      "title": {
                        "standoff": 15
                      },
                      "zerolinecolor": "white",
                      "zerolinewidth": 2
                    },
                    "yaxis": {
                      "automargin": true,
                      "gridcolor": "white",
                      "linecolor": "white",
                      "ticks": "",
                      "title": {
                        "standoff": 15
                      },
                      "zerolinecolor": "white",
                      "zerolinewidth": 2
                    }
                  }
                },
                "title": {
                  "text": "Actual vs. Predicted Prices with Next 5 Days Predictions"
                },
                "xaxis": {
                  "title": {
                    "text": "Date"
                  }
                },
                "yaxis": {
                  "title": {
                    "text": "Price"
                  }
                }
              }
            }
          },
          "metadata": {},
          "output_type": "display_data"
        }
      ],
      "source": [
        "# Define a list of colors\n",
        "colors = ['red', 'green', 'blue', 'orange', 'purple']\n",
        "\n",
        "# Plotting actual and predicted prices\n",
        "actual_trace = go.Scatter(x=df.index[-len(y_test):], y=y_test.flatten(), mode='lines', name='Actual Price', line=dict(color='blue'))\n",
        "predicted_trace = go.Scatter(x=df.index[-len(predictions):], y=predictions.flatten(), mode='lines', name='Predicted Price', line=dict(color='orange'))\n",
        "\n",
        "# Calculate the next 5 dates after the last date in the dataset\n",
        "last_date = df.index[-1]\n",
        "next_5_days_index = pd.date_range(last_date + pd.Timedelta(days=1), periods=5)\n",
        "\n",
        "# Plotting prices for the next 5 days\n",
        "next_5_days_trace = []\n",
        "predict_price = predictions[-1][0]\n",
        "for i, price in enumerate(next_5_days_predictions, start=1):\n",
        "    next_day_trace = go.Scatter(x=[last_date, next_5_days_index[i-1]], y=[predict_price, price[0][0]], mode='lines', name=f'Next Day {i}', line=dict(color=colors[i-1]))\n",
        "    next_5_days_trace.append(next_day_trace)\n",
        "    last_date = next_5_days_index[i-1]\n",
        "    predict_price = price[0][0]\n",
        "\n",
        "# print(next_5_days_trace)\n",
        "# Combine all traces\n",
        "traces = [actual_trace, predicted_trace]+next_5_days_trace\n",
        "# Define layout\n",
        "layout = go.Layout(title='Actual vs. Predicted Prices with Next 5 Days Predictions',\n",
        "                   xaxis=dict(title='Date'),\n",
        "                   yaxis=dict(title='Price'),\n",
        "                   legend=dict(orientation='h'),\n",
        "                   showlegend=True)\n",
        "\n",
        "# Create figure\n",
        "fig = go.Figure(data=traces, layout=layout)\n",
        "\n",
        "# Show interactive plot\n",
        "fig.show()\n"
      ]
    },
    {
      "cell_type": "code",
      "execution_count": 14,
      "metadata": {
        "id": "Br-iRvEFu6Ui"
      },
      "outputs": [
        {
          "name": "stderr",
          "output_type": "stream",
          "text": [
            "WARNING:absl:Found untraced functions such as lstm_cell_layer_call_fn, lstm_cell_layer_call_and_return_conditional_losses, lstm_cell_1_layer_call_fn, lstm_cell_1_layer_call_and_return_conditional_losses while saving (showing 4 of 4). These functions will not be directly callable after loading.\n"
          ]
        },
        {
          "name": "stdout",
          "output_type": "stream",
          "text": [
            "INFO:tensorflow:Assets written to: C:\\Users\\aichr\\OneDrive\\Desktop\\ALL FOLDERS HERE\\Finance_DL_Project\\model\\assets\n"
          ]
        },
        {
          "name": "stderr",
          "output_type": "stream",
          "text": [
            "INFO:tensorflow:Assets written to: C:\\Users\\aichr\\OneDrive\\Desktop\\ALL FOLDERS HERE\\Finance_DL_Project\\model\\assets\n"
          ]
        }
      ],
      "source": [
        "model_path = r\"C:\\Users\\aichr\\OneDrive\\Desktop\\ALL FOLDERS HERE\\Finance_DL_Project\\model\"\n",
        "model.save(model_path)"
      ]
    },
    {
      "cell_type": "code",
      "execution_count": 105,
      "metadata": {
        "id": "B9bzzFt0vssU"
      },
      "outputs": [],
      "source": [
        "loaded_model = load_model(model_path)"
      ]
    },
    {
      "cell_type": "code",
      "execution_count": 110,
      "metadata": {
        "colab": {
          "base_uri": "https://localhost:8080/"
        },
        "id": "ufNiKMy8whap",
        "outputId": "9611c1da-3bc0-48e6-e520-38dcce41812f"
      },
      "outputs": [
        {
          "name": "stdout",
          "output_type": "stream",
          "text": [
            "8/8 [==============================] - 1s 20ms/step\n",
            "1/1 [==============================] - 0s 33ms/step\n",
            "1/1 [==============================] - 0s 30ms/step\n",
            "1/1 [==============================] - 0s 30ms/step\n",
            "1/1 [==============================] - 0s 32ms/step\n",
            "1/1 [==============================] - 0s 27ms/step\n"
          ]
        }
      ],
      "source": [
        "import streamlit as st\n",
        "import pandas as pd\n",
        "import numpy as np\n",
        "import plotly.graph_objs as go\n",
        "from sklearn.preprocessing import MinMaxScaler\n",
        "from tensorflow.keras.models import load_model\n",
        "\n",
        "# Function to load the data\n",
        "# @st.cache(hash_funcs={pd.DataFrame: lambda _: None})\n",
        "def load_data():\n",
        "    df = pd.read_csv(\"nifty50.csv\")\n",
        "    df['Date'] = pd.to_datetime(df['Date'], format='%d-%b-%y')\n",
        "    df.set_index('Date', inplace=True)\n",
        "    df.sort_index(inplace=True)\n",
        "    return df\n",
        "\n",
        "# Function to create time series dataset\n",
        "def create_dataset(dataset, time_step=1):\n",
        "    X, Y = [], []\n",
        "    for i in range(len(dataset) - time_step - 1):\n",
        "        a = dataset[i:(i + time_step), 0]\n",
        "        X.append(a)\n",
        "        Y.append(dataset[i + time_step, 0])\n",
        "    return np.array(X), np.array(Y)\n",
        "\n",
        "# Function to predict next 5 days\n",
        "def predict_next_5_days(model, last_sequence, scaler):\n",
        "    next_5_days_predictions = []\n",
        "    for _ in range(5):\n",
        "        prediction = model.predict(last_sequence)\n",
        "        next_5_days_predictions.append(scaler.inverse_transform(prediction))\n",
        "        last_sequence = np.concatenate([last_sequence[:, 1:, :], prediction.reshape(1, 1, 1)], axis=1)\n",
        "    return next_5_days_predictions\n",
        "\n",
        "# Main function to run the Streamlit app\n",
        "def main():\n",
        "    # Set title\n",
        "    st.title(\"Stock Price Prediction App\")\n",
        "\n",
        "    # Load the data\n",
        "    df = load_data()\n",
        "\n",
        "    # Load the pre-trained model\n",
        "    model = load_model(model_path)\n",
        "\n",
        "    # Selecting the feature and target columns\n",
        "    data = df[['Close']].values\n",
        "\n",
        "    # Normalize the data\n",
        "    scaler = MinMaxScaler(feature_range=(0, 1))\n",
        "    scaled_data = scaler.fit_transform(data)\n",
        "\n",
        "    # Split data into train and test sets\n",
        "    train_size = int(len(scaled_data) * 0.8)\n",
        "    train_data = scaled_data[:train_size]\n",
        "    test_data = scaled_data[train_size:]\n",
        "\n",
        "    # Create time series data\n",
        "    time_step = 60\n",
        "    X_train, y_train = create_dataset(train_data, time_step)\n",
        "    X_test, y_test = create_dataset(test_data, time_step)\n",
        "\n",
        "    # Reshape input to be [samples, time steps, features] required for LSTM\n",
        "    X_train = X_train.reshape(X_train.shape[0], X_train.shape[1], 1)\n",
        "    X_test = X_test.reshape(X_test.shape[0], X_test.shape[1], 1)\n",
        "\n",
        "    # Predicting on the test data\n",
        "    predictions = model.predict(X_test)\n",
        "    predictions = scaler.inverse_transform(predictions)\n",
        "\n",
        "    # Get the last sequence for predicting next 5 days\n",
        "    last_sequence = X_test[-1:, :, :]\n",
        "\n",
        "    # Predict next 5 days\n",
        "    next_5_days_predictions = predict_next_5_days(model, last_sequence, scaler)\n",
        "\n",
        "    # Plotting using Plotly\n",
        "    actual_trace = go.Scatter(x=df.index[-len(y_test):], y=y_test.flatten(), mode='lines', name='Actual Price', line=dict(color='blue'))\n",
        "    predicted_trace = go.Scatter(x=df.index[-len(predictions):], y=predictions.flatten(), mode='lines', name='Predicted Price', line=dict(color='orange'))\n",
        "\n",
        "    last_date = df.index[-1]\n",
        "    next_5_days_index = pd.date_range(last_date + pd.Timedelta(days=1), periods=5)\n",
        "\n",
        "    next_5_days_trace = []\n",
        "    predict_price = predictions[-1][0]\n",
        "    for i, price in enumerate(next_5_days_predictions, start=1):\n",
        "        next_day_trace = go.Scatter(x=[last_date, next_5_days_index[i-1]], y=[predict_price, price[0][0]], mode='lines', name=f'Next Day {i}', line=dict(color='green'))\n",
        "        next_5_days_trace.append(next_day_trace)\n",
        "        last_date = next_5_days_index[i-1]\n",
        "        predict_price = price[0][0]\n",
        "\n",
        "    traces = [actual_trace, predicted_trace] + next_5_days_trace\n",
        "    layout = go.Layout(title='Actual vs. Predicted Prices with Next 5 Days Predictions',\n",
        "                       xaxis=dict(title='Date'),\n",
        "                       yaxis=dict(title='Price'),\n",
        "                       legend=dict(orientation='h'),\n",
        "                       showlegend=True)\n",
        "\n",
        "    fig = go.Figure(data=traces, layout=layout)\n",
        "\n",
        "    # Display the plot\n",
        "    st.plotly_chart(fig)\n",
        "\n",
        "if __name__ == \"__main__\":\n",
        "    main()\n"
      ]
    },
    {
      "cell_type": "code",
      "execution_count": null,
      "metadata": {
        "id": "uVaDvnxpzb_N"
      },
      "outputs": [],
      "source": []
    }
  ],
  "metadata": {
    "colab": {
      "provenance": []
    },
    "kernelspec": {
      "display_name": "Python 3",
      "name": "python3"
    },
    "language_info": {
      "codemirror_mode": {
        "name": "ipython",
        "version": 3
      },
      "file_extension": ".py",
      "mimetype": "text/x-python",
      "name": "python",
      "nbconvert_exporter": "python",
      "pygments_lexer": "ipython3",
      "version": "3.10.5"
    }
  },
  "nbformat": 4,
  "nbformat_minor": 0
}
