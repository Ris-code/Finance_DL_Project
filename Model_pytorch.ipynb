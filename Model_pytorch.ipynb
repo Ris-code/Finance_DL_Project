{
 "cells": [
  {
   "cell_type": "markdown",
   "metadata": {},
   "source": [
    "# **Import Libraries**"
   ]
  },
  {
   "cell_type": "code",
   "execution_count": 11,
   "metadata": {},
   "outputs": [],
   "source": [
    "import pandas as pd\n",
    "import numpy as np\n",
    "import torch\n",
    "import torch.nn as nn\n",
    "import torch.optim as optim\n",
    "from sklearn.preprocessing import MinMaxScaler\n",
    "import matplotlib.pyplot as plt\n",
    "import plotly.graph_objs as go"
   ]
  },
  {
   "cell_type": "code",
   "execution_count": 12,
   "metadata": {},
   "outputs": [
    {
     "data": {
      "text/html": [
       "<div>\n",
       "<style scoped>\n",
       "    .dataframe tbody tr th:only-of-type {\n",
       "        vertical-align: middle;\n",
       "    }\n",
       "\n",
       "    .dataframe tbody tr th {\n",
       "        vertical-align: top;\n",
       "    }\n",
       "\n",
       "    .dataframe thead th {\n",
       "        text-align: right;\n",
       "    }\n",
       "</style>\n",
       "<table border=\"1\" class=\"dataframe\">\n",
       "  <thead>\n",
       "    <tr style=\"text-align: right;\">\n",
       "      <th></th>\n",
       "      <th>Date</th>\n",
       "      <th>Open</th>\n",
       "      <th>High</th>\n",
       "      <th>Low</th>\n",
       "      <th>Close</th>\n",
       "      <th>Shares Traded</th>\n",
       "      <th>Turnover(in cr)</th>\n",
       "    </tr>\n",
       "  </thead>\n",
       "  <tbody>\n",
       "    <tr>\n",
       "      <th>0</th>\n",
       "      <td>01-Jan-18</td>\n",
       "      <td>10531.70</td>\n",
       "      <td>10537.85</td>\n",
       "      <td>10423.10</td>\n",
       "      <td>10435.55</td>\n",
       "      <td>134532090.0</td>\n",
       "      <td>7546.56</td>\n",
       "    </tr>\n",
       "    <tr>\n",
       "      <th>1</th>\n",
       "      <td>02-Jan-18</td>\n",
       "      <td>10477.55</td>\n",
       "      <td>10495.20</td>\n",
       "      <td>10404.65</td>\n",
       "      <td>10442.20</td>\n",
       "      <td>158092430.0</td>\n",
       "      <td>8665.47</td>\n",
       "    </tr>\n",
       "    <tr>\n",
       "      <th>2</th>\n",
       "      <td>03-Jan-18</td>\n",
       "      <td>10482.65</td>\n",
       "      <td>10503.60</td>\n",
       "      <td>10429.55</td>\n",
       "      <td>10443.20</td>\n",
       "      <td>172516859.0</td>\n",
       "      <td>9541.60</td>\n",
       "    </tr>\n",
       "    <tr>\n",
       "      <th>3</th>\n",
       "      <td>04-Jan-18</td>\n",
       "      <td>10469.40</td>\n",
       "      <td>10513.00</td>\n",
       "      <td>10441.45</td>\n",
       "      <td>10504.80</td>\n",
       "      <td>180257392.0</td>\n",
       "      <td>9561.95</td>\n",
       "    </tr>\n",
       "    <tr>\n",
       "      <th>4</th>\n",
       "      <td>05-Jan-18</td>\n",
       "      <td>10534.25</td>\n",
       "      <td>10566.10</td>\n",
       "      <td>10520.10</td>\n",
       "      <td>10558.85</td>\n",
       "      <td>186469717.0</td>\n",
       "      <td>10306.22</td>\n",
       "    </tr>\n",
       "    <tr>\n",
       "      <th>...</th>\n",
       "      <td>...</td>\n",
       "      <td>...</td>\n",
       "      <td>...</td>\n",
       "      <td>...</td>\n",
       "      <td>...</td>\n",
       "      <td>...</td>\n",
       "      <td>...</td>\n",
       "    </tr>\n",
       "    <tr>\n",
       "      <th>1575</th>\n",
       "      <td>14-May-24</td>\n",
       "      <td>22112.90</td>\n",
       "      <td>22270.05</td>\n",
       "      <td>22081.25</td>\n",
       "      <td>22217.85</td>\n",
       "      <td>230238941.0</td>\n",
       "      <td>23741.66</td>\n",
       "    </tr>\n",
       "    <tr>\n",
       "      <th>1576</th>\n",
       "      <td>15-May-24</td>\n",
       "      <td>22255.60</td>\n",
       "      <td>22297.55</td>\n",
       "      <td>22151.75</td>\n",
       "      <td>22200.55</td>\n",
       "      <td>231935478.0</td>\n",
       "      <td>23815.79</td>\n",
       "    </tr>\n",
       "    <tr>\n",
       "      <th>1577</th>\n",
       "      <td>16-May-24</td>\n",
       "      <td>22319.20</td>\n",
       "      <td>22432.25</td>\n",
       "      <td>22054.55</td>\n",
       "      <td>22403.85</td>\n",
       "      <td>368945092.0</td>\n",
       "      <td>38836.11</td>\n",
       "    </tr>\n",
       "    <tr>\n",
       "      <th>1578</th>\n",
       "      <td>17-May-24</td>\n",
       "      <td>22415.25</td>\n",
       "      <td>22502.15</td>\n",
       "      <td>22345.65</td>\n",
       "      <td>22466.10</td>\n",
       "      <td>242654570.0</td>\n",
       "      <td>27388.67</td>\n",
       "    </tr>\n",
       "    <tr>\n",
       "      <th>1579</th>\n",
       "      <td>18-May-24</td>\n",
       "      <td>22512.85</td>\n",
       "      <td>22520.25</td>\n",
       "      <td>22470.05</td>\n",
       "      <td>22502.00</td>\n",
       "      <td>19064566.0</td>\n",
       "      <td>1572.77</td>\n",
       "    </tr>\n",
       "  </tbody>\n",
       "</table>\n",
       "<p>1580 rows × 7 columns</p>\n",
       "</div>"
      ],
      "text/plain": [
       "           Date      Open      High       Low     Close  Shares Traded  \\\n",
       "0     01-Jan-18  10531.70  10537.85  10423.10  10435.55    134532090.0   \n",
       "1     02-Jan-18  10477.55  10495.20  10404.65  10442.20    158092430.0   \n",
       "2     03-Jan-18  10482.65  10503.60  10429.55  10443.20    172516859.0   \n",
       "3     04-Jan-18  10469.40  10513.00  10441.45  10504.80    180257392.0   \n",
       "4     05-Jan-18  10534.25  10566.10  10520.10  10558.85    186469717.0   \n",
       "...         ...       ...       ...       ...       ...            ...   \n",
       "1575  14-May-24  22112.90  22270.05  22081.25  22217.85    230238941.0   \n",
       "1576  15-May-24  22255.60  22297.55  22151.75  22200.55    231935478.0   \n",
       "1577  16-May-24  22319.20  22432.25  22054.55  22403.85    368945092.0   \n",
       "1578  17-May-24  22415.25  22502.15  22345.65  22466.10    242654570.0   \n",
       "1579  18-May-24  22512.85  22520.25  22470.05  22502.00     19064566.0   \n",
       "\n",
       "      Turnover(in cr)  \n",
       "0             7546.56  \n",
       "1             8665.47  \n",
       "2             9541.60  \n",
       "3             9561.95  \n",
       "4            10306.22  \n",
       "...               ...  \n",
       "1575         23741.66  \n",
       "1576         23815.79  \n",
       "1577         38836.11  \n",
       "1578         27388.67  \n",
       "1579          1572.77  \n",
       "\n",
       "[1580 rows x 7 columns]"
      ]
     },
     "execution_count": 12,
     "metadata": {},
     "output_type": "execute_result"
    }
   ],
   "source": [
    "df = pd.read_csv(\"nifty50.csv\")\n",
    "df"
   ]
  },
  {
   "cell_type": "code",
   "execution_count": 13,
   "metadata": {},
   "outputs": [],
   "source": [
    "# Parse the Date column to datetime\n",
    "df['Date'] = pd.to_datetime(df['Date'], format='%d-%b-%y')\n",
    "\n",
    "# Set the Date column as the index\n",
    "df.set_index('Date', inplace=True)\n",
    "\n",
    "# Sort the data by date\n",
    "df.sort_index(inplace=True)\n",
    "\n",
    "# Selecting the feature and target columns\n",
    "data = df[['Close']].values\n",
    "\n",
    "# Normalize the data\n",
    "scaler = MinMaxScaler(feature_range=(0, 1))\n",
    "scaled_data = scaler.fit_transform(data)\n",
    "\n",
    "train_size = int(len(scaled_data) * 0.8)\n",
    "train_data = scaled_data[:train_size]\n",
    "test_data = scaled_data[train_size:]"
   ]
  },
  {
   "cell_type": "code",
   "execution_count": 14,
   "metadata": {},
   "outputs": [],
   "source": [
    "def create_dataset(dataset, time_step=1):\n",
    "    X, Y = [], []\n",
    "    for i in range(len(dataset) - time_step - 1):\n",
    "        a = dataset[i:(i + time_step), 0]\n",
    "        X.append(a)\n",
    "        Y.append(dataset[i + time_step, 0])\n",
    "    return np.array(X), np.array(Y)\n",
    "\n",
    "time_step = 60\n",
    "X_train, y_train = create_dataset(train_data, time_step)\n",
    "X_test, y_test = create_dataset(test_data, time_step)\n",
    "\n",
    "# Convert to PyTorch tensors\n",
    "X_train = torch.tensor(X_train, dtype=torch.float32).unsqueeze(2)\n",
    "y_train = torch.tensor(y_train, dtype=torch.float32).unsqueeze(1)\n",
    "X_test = torch.tensor(X_test, dtype=torch.float32).unsqueeze(2)\n",
    "y_test = torch.tensor(y_test, dtype=torch.float32).unsqueeze(1)"
   ]
  },
  {
   "cell_type": "markdown",
   "metadata": {},
   "source": [
    "# **Model Definition**"
   ]
  },
  {
   "cell_type": "code",
   "execution_count": 15,
   "metadata": {},
   "outputs": [],
   "source": [
    "class LSTMModel(nn.Module):\n",
    "    def __init__(self):\n",
    "        super(LSTMModel, self).__init__()\n",
    "        self.lstm1 = nn.LSTM(input_size=1, hidden_size=50, num_layers=1, batch_first=True)\n",
    "        self.lstm2 = nn.LSTM(input_size=50, hidden_size=50, num_layers=1, batch_first=True)\n",
    "        self.fc1 = nn.Linear(50, 25)\n",
    "        self.fc2 = nn.Linear(25, 1)\n",
    "        \n",
    "    def forward(self, x):\n",
    "        out, _ = self.lstm1(x)\n",
    "        out, _ = self.lstm2(out)\n",
    "        out = out[:, -1, :]  # Get the last output of the sequence\n",
    "        out = torch.relu(self.fc1(out))\n",
    "        out = self.fc2(out)\n",
    "        return out"
   ]
  },
  {
   "cell_type": "code",
   "execution_count": 16,
   "metadata": {},
   "outputs": [],
   "source": [
    "model = LSTMModel()\n",
    "criterion = nn.MSELoss()\n",
    "optimizer = optim.Adam(model.parameters(), lr=0.001)"
   ]
  },
  {
   "cell_type": "markdown",
   "metadata": {},
   "source": [
    "# **Training**"
   ]
  },
  {
   "cell_type": "code",
   "execution_count": 17,
   "metadata": {},
   "outputs": [
    {
     "name": "stdout",
     "output_type": "stream",
     "text": [
      "Epoch 1/100, Loss: 0.08428936451673508\n",
      "Epoch 2/100, Loss: 0.03413272276520729\n",
      "Epoch 3/100, Loss: 0.02932879514992237\n",
      "Epoch 4/100, Loss: 0.015269814990460873\n",
      "Epoch 5/100, Loss: 0.0016873115673661232\n",
      "Epoch 6/100, Loss: 0.0016204915009438992\n",
      "Epoch 7/100, Loss: 0.001348688267171383\n",
      "Epoch 8/100, Loss: 0.0010311421938240528\n",
      "Epoch 9/100, Loss: 0.0008721271879039705\n",
      "Epoch 10/100, Loss: 0.0009025650797411799\n",
      "Epoch 11/100, Loss: 0.000702537305187434\n",
      "Epoch 12/100, Loss: 0.000715673144441098\n",
      "Epoch 13/100, Loss: 0.0009288599831052125\n",
      "Epoch 14/100, Loss: 0.0014719670871272683\n",
      "Epoch 15/100, Loss: 0.0008617372368462384\n",
      "Epoch 16/100, Loss: 0.0005242800689302385\n",
      "Epoch 17/100, Loss: 0.000660122197587043\n",
      "Epoch 18/100, Loss: 0.001113884267397225\n",
      "Epoch 19/100, Loss: 0.0008067919407039881\n",
      "Epoch 20/100, Loss: 0.0005054828361608088\n",
      "Epoch 21/100, Loss: 0.0004502783704083413\n",
      "Epoch 22/100, Loss: 0.0006717979558743536\n",
      "Epoch 23/100, Loss: 0.0005356194451451302\n",
      "Epoch 24/100, Loss: 0.0006040361477062106\n",
      "Epoch 25/100, Loss: 0.0008304397924803197\n",
      "Epoch 26/100, Loss: 0.0011726375669240952\n",
      "Epoch 27/100, Loss: 0.00039869584725238383\n",
      "Epoch 28/100, Loss: 0.0006398448604159057\n",
      "Epoch 29/100, Loss: 0.0003678400826174766\n",
      "Epoch 30/100, Loss: 0.0004085342225152999\n",
      "Epoch 31/100, Loss: 0.00045121164293959737\n",
      "Epoch 32/100, Loss: 0.0006091700051911175\n",
      "Epoch 33/100, Loss: 0.00029483725666068494\n",
      "Epoch 34/100, Loss: 0.0005326647078618407\n",
      "Epoch 35/100, Loss: 0.00028666583239100873\n",
      "Epoch 36/100, Loss: 0.0004836053994949907\n",
      "Epoch 37/100, Loss: 0.0005970376078039408\n",
      "Epoch 38/100, Loss: 0.0004530757723841816\n",
      "Epoch 39/100, Loss: 0.0005888138548471034\n",
      "Epoch 40/100, Loss: 0.00021946265769656748\n",
      "Epoch 41/100, Loss: 0.00029993325006216764\n",
      "Epoch 42/100, Loss: 0.00036558095598593354\n",
      "Epoch 43/100, Loss: 0.0005743904039263725\n",
      "Epoch 44/100, Loss: 0.0006383689469657838\n",
      "Epoch 45/100, Loss: 0.00028090455452911556\n",
      "Epoch 46/100, Loss: 0.000411378889111802\n",
      "Epoch 47/100, Loss: 0.0002754309680312872\n",
      "Epoch 48/100, Loss: 0.0002784073876682669\n",
      "Epoch 49/100, Loss: 0.00022951998107600957\n",
      "Epoch 50/100, Loss: 0.0002079829719150439\n",
      "Epoch 51/100, Loss: 0.0003228139248676598\n",
      "Epoch 52/100, Loss: 0.00034690863685682416\n",
      "Epoch 53/100, Loss: 0.0004099324287381023\n",
      "Epoch 54/100, Loss: 0.0002927269379142672\n",
      "Epoch 55/100, Loss: 0.00021116829884704202\n",
      "Epoch 56/100, Loss: 0.0002443712146487087\n",
      "Epoch 57/100, Loss: 0.0003133039572276175\n",
      "Epoch 58/100, Loss: 0.00016813504043966532\n",
      "Epoch 59/100, Loss: 0.00022466439986601472\n",
      "Epoch 60/100, Loss: 0.00043831736547872424\n",
      "Epoch 61/100, Loss: 0.0003726881986949593\n",
      "Epoch 62/100, Loss: 0.00028992813895456493\n",
      "Epoch 63/100, Loss: 0.00023398756457027048\n",
      "Epoch 64/100, Loss: 0.0001562502875458449\n",
      "Epoch 65/100, Loss: 0.00028345882310532033\n",
      "Epoch 66/100, Loss: 0.000432991684647277\n",
      "Epoch 67/100, Loss: 0.00035672663943842053\n",
      "Epoch 68/100, Loss: 0.0001710971409920603\n",
      "Epoch 69/100, Loss: 0.0002471095940563828\n",
      "Epoch 70/100, Loss: 0.0003669649304356426\n",
      "Epoch 71/100, Loss: 0.00019297761900816113\n",
      "Epoch 72/100, Loss: 0.00016828598745632917\n",
      "Epoch 73/100, Loss: 0.0005000921082682908\n",
      "Epoch 74/100, Loss: 0.0001562324323458597\n",
      "Epoch 75/100, Loss: 0.00029015052132308483\n",
      "Epoch 76/100, Loss: 0.0003418377018533647\n",
      "Epoch 77/100, Loss: 0.00032668819767422974\n",
      "Epoch 78/100, Loss: 0.00025236967485398054\n",
      "Epoch 79/100, Loss: 0.00036705401726067066\n",
      "Epoch 80/100, Loss: 0.0002734772569965571\n",
      "Epoch 81/100, Loss: 0.00038196679088287055\n",
      "Epoch 82/100, Loss: 0.0002553907979745418\n",
      "Epoch 83/100, Loss: 0.00022925522353034467\n",
      "Epoch 84/100, Loss: 0.00025553529849275947\n",
      "Epoch 85/100, Loss: 0.00019601279927883297\n",
      "Epoch 86/100, Loss: 0.00025318103143945336\n",
      "Epoch 87/100, Loss: 0.00022477192396763712\n",
      "Epoch 88/100, Loss: 0.0005409106961451471\n",
      "Epoch 89/100, Loss: 0.00024971686070784926\n",
      "Epoch 90/100, Loss: 0.00019079181947745383\n",
      "Epoch 91/100, Loss: 0.0001740798179525882\n",
      "Epoch 92/100, Loss: 0.00011087136954301968\n",
      "Epoch 93/100, Loss: 0.00015706893464084715\n",
      "Epoch 94/100, Loss: 0.0002442349505145103\n",
      "Epoch 95/100, Loss: 0.000288970535621047\n",
      "Epoch 96/100, Loss: 0.00024407923046965152\n",
      "Epoch 97/100, Loss: 0.0006385651649907231\n",
      "Epoch 98/100, Loss: 0.00022906257072463632\n",
      "Epoch 99/100, Loss: 0.000326031818985939\n",
      "Epoch 100/100, Loss: 0.0002472312771715224\n"
     ]
    }
   ],
   "source": [
    "num_epochs = 100\n",
    "batch_size = 64\n",
    "\n",
    "train_loader = torch.utils.data.DataLoader(\n",
    "    torch.utils.data.TensorDataset(X_train, y_train), batch_size=batch_size, shuffle=True\n",
    ")\n",
    "\n",
    "for epoch in range(num_epochs):\n",
    "    for inputs, targets in train_loader:\n",
    "        model.train()\n",
    "        optimizer.zero_grad()\n",
    "        outputs = model(inputs)\n",
    "        loss = criterion(outputs, targets)\n",
    "        loss.backward()\n",
    "        optimizer.step()\n",
    "    print(f'Epoch {epoch+1}/{num_epochs}, Loss: {loss.item()}')"
   ]
  },
  {
   "cell_type": "markdown",
   "metadata": {},
   "source": [
    "# **Prediction and Evaluation**"
   ]
  },
  {
   "cell_type": "code",
   "execution_count": 18,
   "metadata": {},
   "outputs": [
    {
     "name": "stdout",
     "output_type": "stream",
     "text": [
      "Mean Squared Error: 336484.40625\n"
     ]
    }
   ],
   "source": [
    "model.eval()\n",
    "with torch.no_grad():\n",
    "    predictions = model(X_test).numpy()\n",
    "    predictions = scaler.inverse_transform(predictions)\n",
    "    y_test_scaled = scaler.inverse_transform(y_test.numpy())\n",
    "\n",
    "mse = np.mean((predictions - y_test_scaled) ** 2)\n",
    "print(f'Mean Squared Error: {mse}')"
   ]
  },
  {
   "cell_type": "code",
   "execution_count": 19,
   "metadata": {},
   "outputs": [
    {
     "data": {
      "image/png": "[encoded data removed]",
      "text/plain": [
       "<Figure size 864x432 with 1 Axes>"
      ]
     },
     "metadata": {
      "needs_background": "light"
     },
     "output_type": "display_data"
    }
   ],
   "source": [
    "# Plotting the results\n",
    "plt.figure(figsize=(12,6))\n",
    "plt.plot(y_test_scaled, label='Actual Price')\n",
    "plt.plot(predictions, label='Predicted Price')\n",
    "plt.title('Nifty 50 Price Prediction')\n",
    "plt.xlabel('Days')\n",
    "plt.ylabel('Price')\n",
    "plt.legend()\n",
    "plt.show()"
   ]
  },
  {
   "cell_type": "code",
   "execution_count": 20,
   "metadata": {},
   "outputs": [
    {
     "name": "stdout",
     "output_type": "stream",
     "text": [
      "[array([[21339.305]], dtype=float32), array([[21237.836]], dtype=float32), array([[21056.322]], dtype=float32), array([[20840.838]], dtype=float32), array([[20618.885]], dtype=float32)]\n"
     ]
    }
   ],
   "source": [
    "next_5_days_predictions = []\n",
    "last_sequence = X_test[-1:, :, :]\n",
    "\n",
    "for _ in range(5):\n",
    "    with torch.no_grad():\n",
    "        prediction = model(last_sequence)\n",
    "        next_5_days_predictions.append(scaler.inverse_transform(prediction.numpy()))\n",
    "        last_sequence = torch.cat([last_sequence[:, 1:, :], prediction.unsqueeze(2)], dim=1)\n",
    "\n",
    "print(next_5_days_predictions)"
   ]
  },
  {
   "cell_type": "code",
   "execution_count": 23,
   "metadata": {},
   "outputs": [
    {
     "data": {
      "application/vnd.plotly.v1+json": {
       "config": {
        "plotlyServerURL": "https://plot.ly"
       },
       "data": [
        {
         "line": {
          "color": "blue"
         },
         "mode": "lines",
         "name": "Actual Price",
         "type": "scatter",
         "x": [
          "2023-05-11T00:00:00",
          "2023-05-12T00:00:00",
          "2023-05-15T00:00:00",
          "2023-05-16T00:00:00",
          "2023-05-17T00:00:00",
          "2023-05-18T00:00:00",
          "2023-05-19T00:00:00",
          "2023-05-22T00:00:00",
          "2023-05-23T00:00:00",
          "2023-05-24T00:00:00",
          "2023-05-25T00:00:00",
          "2023-05-26T00:00:00",
          "2023-05-29T00:00:00",
          "2023-05-30T00:00:00",
          "2023-05-31T00:00:00",
          "2023-06-01T00:00:00",
          "2023-06-02T00:00:00",
          "2023-06-05T00:00:00",
          "2023-06-06T00:00:00",
          "2023-06-07T00:00:00",
          "2023-06-08T00:00:00",
          "2023-06-09T00:00:00",
          "2023-06-12T00:00:00",
          "2023-06-13T00:00:00",
          "2023-06-14T00:00:00",
          "2023-06-15T00:00:00",
          "2023-06-16T00:00:00",
          "2023-06-19T00:00:00",
          "2023-06-20T00:00:00",
          "2023-06-21T00:00:00",
          "2023-06-22T00:00:00",
          "2023-06-23T00:00:00",
          "2023-06-26T00:00:00",
          "2023-06-27T00:00:00",
          "2023-06-28T00:00:00",
          "2023-06-30T00:00:00",
          "2023-07-03T00:00:00",
          "2023-07-04T00:00:00",
          "2023-07-05T00:00:00",
          "2023-07-06T00:00:00",
          "2023-07-07T00:00:00",
          "2023-07-10T00:00:00",
          "2023-07-11T00:00:00",
          "2023-07-12T00:00:00",
          "2023-07-13T00:00:00",
          "2023-07-14T00:00:00",
          "2023-07-17T00:00:00",
          "2023-07-18T00:00:00",
          "2023-07-19T00:00:00",
          "2023-07-20T00:00:00",
          "2023-07-21T00:00:00",
          "2023-07-24T00:00:00",
          "2023-07-25T00:00:00",
          "2023-07-26T00:00:00",
          "2023-07-27T00:00:00",
          "2023-07-28T00:00:00",
          "2023-07-31T00:00:00",
          "2023-08-01T00:00:00",
          "2023-08-02T00:00:00",
          "2023-08-03T00:00:00",
          "2023-08-04T00:00:00",
          "2023-08-07T00:00:00",
          "2023-08-08T00:00:00",
          "2023-08-09T00:00:00",
          "2023-08-10T00:00:00",
          "2023-08-11T00:00:00",
          "2023-08-14T00:00:00",
          "2023-08-16T00:00:00",
          "2023-08-17T00:00:00",
          "2023-08-18T00:00:00",
          "2023-08-21T00:00:00",
          "2023-08-22T00:00:00",
          "2023-08-23T00:00:00",
          "2023-08-24T00:00:00",
          "2023-08-25T00:00:00",
          "2023-08-28T00:00:00",
          "2023-08-29T00:00:00",
          "2023-08-30T00:00:00",
          "2023-08-31T00:00:00",
          "2023-09-01T00:00:00",
          "2023-09-04T00:00:00",
          "2023-09-05T00:00:00",
          "2023-09-06T00:00:00",
          "2023-09-07T00:00:00",
          "2023-09-08T00:00:00",
          "2023-09-11T00:00:00",
          "2023-09-12T00:00:00",
          "2023-09-13T00:00:00",
          "2023-09-14T00:00:00",
          "2023-09-15T00:00:00",
          "2023-09-18T00:00:00",
          "2023-09-20T00:00:00",
          "2023-09-21T00:00:00",
          "2023-09-22T00:00:00",
          "2023-09-25T00:00:00",
          "2023-09-26T00:00:00",
          "2023-09-27T00:00:00",
          "2023-09-28T00:00:00",
          "2023-09-29T00:00:00",
          "2023-10-03T00:00:00",
          "2023-10-04T00:00:00",
          "2023-10-05T00:00:00",
          "2023-10-06T00:00:00",
          "2023-10-09T00:00:00",
          "2023-10-10T00:00:00",
          "2023-10-11T00:00:00",
          "2023-10-12T00:00:00",
          "2023-10-13T00:00:00",
          "2023-10-16T00:00:00",
          "2023-10-17T00:00:00",
          "2023-10-18T00:00:00",
          "2023-10-19T00:00:00",
          "2023-10-20T00:00:00",
          "2023-10-23T00:00:00",
          "2023-10-25T00:00:00",
          "2023-10-26T00:00:00",
          "2023-10-27T00:00:00",
          "2023-10-30T00:00:00",
          "2023-10-31T00:00:00",
          "2023-11-01T00:00:00",
          "2023-11-02T00:00:00",
          "2023-11-03T00:00:00",
          "2023-11-06T00:00:00",
          "2023-11-07T00:00:00",
          "2023-11-08T00:00:00",
          "2023-11-09T00:00:00",
          "2023-11-10T00:00:00",
          "2023-11-12T00:00:00",
          "2023-11-13T00:00:00",
          "2023-11-15T00:00:00",
          "2023-11-16T00:00:00",
          "2023-11-17T00:00:00",
          "2023-11-20T00:00:00",
          "2023-11-21T00:00:00",
          "2023-11-22T00:00:00",
          "2023-11-23T00:00:00",
          "2023-11-24T00:00:00",
          "2023-11-28T00:00:00",
          "2023-11-29T00:00:00",
          "2023-11-30T00:00:00",
          "2023-12-01T00:00:00",
          "2023-12-04T00:00:00",
          "2023-12-05T00:00:00",
          "2023-12-06T00:00:00",
          "2023-12-07T00:00:00",
          "2023-12-08T00:00:00",
          "2023-12-11T00:00:00",
          "2023-12-12T00:00:00",
          "2023-12-13T00:00:00",
          "2023-12-14T00:00:00",
          "2023-12-15T00:00:00",
          "2023-12-18T00:00:00",
          "2023-12-19T00:00:00",
          "2023-12-20T00:00:00",
          "2023-12-21T00:00:00",
          "2023-12-22T00:00:00",
          "2023-12-26T00:00:00",
          "2023-12-27T00:00:00",
          "2023-12-28T00:00:00",
          "2023-12-29T00:00:00",
          "2024-01-01T00:00:00",
          "2024-01-02T00:00:00",
          "2024-01-03T00:00:00",
          "2024-01-04T00:00:00",
          "2024-01-05T00:00:00",
          "2024-01-08T00:00:00",
          "2024-01-09T00:00:00",
          "2024-01-10T00:00:00",
          "2024-01-11T00:00:00",
          "2024-01-12T00:00:00",
          "2024-01-15T00:00:00",
          "2024-01-16T00:00:00",
          "2024-01-17T00:00:00",
          "2024-01-18T00:00:00",
          "2024-01-19T00:00:00",
          "2024-01-20T00:00:00",
          "2024-01-23T00:00:00",
          "2024-01-24T00:00:00",
          "2024-01-25T00:00:00",
          "2024-01-29T00:00:00",
          "2024-01-30T00:00:00",
          "2024-01-31T00:00:00",
          "2024-02-01T00:00:00",
          "2024-02-02T00:00:00",
          "2024-02-05T00:00:00",
          "2024-02-06T00:00:00",
          "2024-02-07T00:00:00",
          "2024-02-08T00:00:00",
          "2024-02-09T00:00:00",
          "2024-02-12T00:00:00",
          "2024-02-13T00:00:00",
          "2024-02-14T00:00:00",
          "2024-02-15T00:00:00",
          "2024-02-16T00:00:00",
          "2024-02-19T00:00:00",
          "2024-02-20T00:00:00",
          "2024-02-21T00:00:00",
          "2024-02-22T00:00:00",
          "2024-02-23T00:00:00",
          "2024-02-26T00:00:00",
          "2024-02-27T00:00:00",
          "2024-02-28T00:00:00",
          "2024-02-29T00:00:00",
          "2024-03-01T00:00:00",
          "2024-03-02T00:00:00",
          "2024-03-04T00:00:00",
          "2024-03-05T00:00:00",
          "2024-03-06T00:00:00",
          "2024-03-07T00:00:00",
          "2024-03-11T00:00:00",
          "2024-03-12T00:00:00",
          "2024-03-13T00:00:00",
          "2024-03-14T00:00:00",
          "2024-03-15T00:00:00",
          "2024-03-18T00:00:00",
          "2024-03-19T00:00:00",
          "2024-03-20T00:00:00",
          "2024-03-21T00:00:00",
          "2024-03-22T00:00:00",
          "2024-03-26T00:00:00",
          "2024-03-27T00:00:00",
          "2024-03-28T00:00:00",
          "2024-04-01T00:00:00",
          "2024-04-02T00:00:00",
          "2024-04-03T00:00:00",
          "2024-04-04T00:00:00",
          "2024-04-05T00:00:00",
          "2024-04-08T00:00:00",
          "2024-04-09T00:00:00",
          "2024-04-10T00:00:00",
          "2024-04-12T00:00:00",
          "2024-04-15T00:00:00",
          "2024-04-16T00:00:00",
          "2024-04-18T00:00:00",
          "2024-04-19T00:00:00",
          "2024-04-22T00:00:00",
          "2024-04-23T00:00:00",
          "2024-04-24T00:00:00",
          "2024-04-25T00:00:00",
          "2024-04-26T00:00:00",
          "2024-04-29T00:00:00",
          "2024-04-30T00:00:00",
          "2024-05-02T00:00:00",
          "2024-05-03T00:00:00",
          "2024-05-06T00:00:00",
          "2024-05-07T00:00:00",
          "2024-05-08T00:00:00",
          "2024-05-09T00:00:00",
          "2024-05-10T00:00:00",
          "2024-05-13T00:00:00",
          "2024-05-14T00:00:00",
          "2024-05-15T00:00:00",
          "2024-05-16T00:00:00",
          "2024-05-17T00:00:00",
          "2024-05-18T00:00:00"
         ],
         "y": [
          18315.1,
          18297,
          18314.799,
          18398.85,
          18286.5,
          18181.75,
          18129.95,
          18203.4,
          18314.398,
          18348,
          18285.4,
          18321.15,
          18499.352,
          18598.65,
          18633.85,
          18534.4,
          18487.75,
          18534.1,
          18593.85,
          18599,
          18726.398,
          18634.549,
          18563.398,
          18601.5,
          18716.15,
          18755.9,
          18688.102,
          18826,
          18755.45,
          18816.7,
          18856.85,
          18771.25,
          18665.5,
          18691.201,
          18817.4,
          18972.1,
          19189.05,
          19322.549,
          19389,
          19398.5,
          19497.299,
          19331.799,
          19355.898,
          19439.4,
          19384.299,
          19413.75,
          19564.5,
          19711.45,
          19749.25,
          19833.15,
          19979.15,
          19745,
          19672.35,
          19680.6,
          19778.299,
          19659.9,
          19646.05,
          19753.8,
          19733.549,
          19526.55,
          19381.65,
          19517,
          19597.299,
          19570.852,
          19632.55,
          19543.1,
          19428.299,
          19434.55,
          19465,
          19365.25,
          19310.15,
          19393.6,
          19396.451,
          19444,
          19386.701,
          19265.799,
          19306.049,
          19342.65,
          19347.45,
          19253.799,
          19435.299,
          19528.799,
          19574.9,
          19611.05,
          19727.05,
          19819.95,
          19996.35,
          19993.201,
          20070,
          20103.1,
          20192.35,
          20133.3,
          19901.4,
          19742.35,
          19674.25,
          19674.549,
          19664.701,
          19716.45,
          19523.549,
          19638.3,
          19528.75,
          19436.1,
          19545.75,
          19653.5,
          19512.35,
          19689.85,
          19811.35,
          19794,
          19751.049,
          19731.75,
          19811.5,
          19671.1,
          19624.7,
          19542.648,
          19281.75,
          19122.15,
          18857.25,
          19047.25,
          19140.898,
          19079.6,
          18989.15,
          19133.25,
          19230.6,
          19411.75,
          19406.7,
          19443.5,
          19395.299,
          19425.35,
          19525.549,
          19443.549,
          19675.451,
          19765.201,
          19731.799,
          19694,
          19783.398,
          19811.85,
          19802,
          19794.7,
          19889.7,
          20096.6,
          20133.15,
          20267.9,
          20686.799,
          20855.1,
          20937.701,
          20901.15,
          20969.398,
          20997.102,
          20906.4,
          20926.35,
          21182.701,
          21456.648,
          21418.65,
          21453.1,
          21150.15,
          21255.049,
          21349.398,
          21441.35,
          21654.75,
          21778.701,
          21731.4,
          21741.9,
          21665.8,
          21517.35,
          21658.6,
          21710.8,
          21513,
          21544.85,
          21618.7,
          21647.2,
          21894.549,
          22097.451,
          22032.3,
          21571.951,
          21462.25,
          21622.4,
          21571.799,
          21238.8,
          21453.951,
          21352.6,
          21737.602,
          21522.1,
          21725.701,
          21697.45,
          21853.799,
          21771.7,
          21929.4,
          21930.498,
          21717.951,
          21782.5,
          21616.049,
          21743.25,
          21840.05,
          21910.75,
          22040.701,
          22122.25,
          22196.951,
          22055.05,
          22217.45,
          22212.7,
          22122.05,
          22198.35,
          21951.148,
          21982.8,
          22338.75,
          22378.4,
          22405.6,
          22356.3,
          22474.049,
          22493.55,
          22332.65,
          22335.701,
          21997.7,
          22146.648,
          22023.35,
          22055.701,
          21817.451,
          21839.1,
          22011.95,
          22096.75,
          22004.701,
          22123.65,
          22326.9,
          22462,
          22453.3,
          22434.65,
          22514.65,
          22513.7,
          22666.299,
          22642.75,
          22753.8,
          22519.398,
          22272.5,
          22147.9,
          21995.85,
          22147,
          22336.398,
          22368,
          22402.398,
          22570.352,
          22419.95,
          22643.4,
          22604.85,
          22648.201,
          22475.85,
          22442.7,
          22302.5,
          22302.5,
          21957.5,
          22055.201,
          22104.05,
          22217.85,
          22200.55,
          22403.85,
          22466.1
         ]
        },
        {
         "line": {
          "color": "orange"
         },
         "mode": "lines",
         "name": "Predicted Price",
         "type": "scatter",
         "x": [
          "2023-05-11T00:00:00",
          "2023-05-12T00:00:00",
          "2023-05-15T00:00:00",
          "2023-05-16T00:00:00",
          "2023-05-17T00:00:00",
          "2023-05-18T00:00:00",
          "2023-05-19T00:00:00",
          "2023-05-22T00:00:00",
          "2023-05-23T00:00:00",
          "2023-05-24T00:00:00",
          "2023-05-25T00:00:00",
          "2023-05-26T00:00:00",
          "2023-05-29T00:00:00",
          "2023-05-30T00:00:00",
          "2023-05-31T00:00:00",
          "2023-06-01T00:00:00",
          "2023-06-02T00:00:00",
          "2023-06-05T00:00:00",
          "2023-06-06T00:00:00",
          "2023-06-07T00:00:00",
          "2023-06-08T00:00:00",
          "2023-06-09T00:00:00",
          "2023-06-12T00:00:00",
          "2023-06-13T00:00:00",
          "2023-06-14T00:00:00",
          "2023-06-15T00:00:00",
          "2023-06-16T00:00:00",
          "2023-06-19T00:00:00",
          "2023-06-20T00:00:00",
          "2023-06-21T00:00:00",
          "2023-06-22T00:00:00",
          "2023-06-23T00:00:00",
          "2023-06-26T00:00:00",
          "2023-06-27T00:00:00",
          "2023-06-28T00:00:00",
          "2023-06-30T00:00:00",
          "2023-07-03T00:00:00",
          "2023-07-04T00:00:00",
          "2023-07-05T00:00:00",
          "2023-07-06T00:00:00",
          "2023-07-07T00:00:00",
          "2023-07-10T00:00:00",
          "2023-07-11T00:00:00",
          "2023-07-12T00:00:00",
          "2023-07-13T00:00:00",
          "2023-07-14T00:00:00",
          "2023-07-17T00:00:00",
          "2023-07-18T00:00:00",
          "2023-07-19T00:00:00",
          "2023-07-20T00:00:00",
          "2023-07-21T00:00:00",
          "2023-07-24T00:00:00",
          "2023-07-25T00:00:00",
          "2023-07-26T00:00:00",
          "2023-07-27T00:00:00",
          "2023-07-28T00:00:00",
          "2023-07-31T00:00:00",
          "2023-08-01T00:00:00",
          "2023-08-02T00:00:00",
          "2023-08-03T00:00:00",
          "2023-08-04T00:00:00",
          "2023-08-07T00:00:00",
          "2023-08-08T00:00:00",
          "2023-08-09T00:00:00",
          "2023-08-10T00:00:00",
          "2023-08-11T00:00:00",
          "2023-08-14T00:00:00",
          "2023-08-16T00:00:00",
          "2023-08-17T00:00:00",
          "2023-08-18T00:00:00",
          "2023-08-21T00:00:00",
          "2023-08-22T00:00:00",
          "2023-08-23T00:00:00",
          "2023-08-24T00:00:00",
          "2023-08-25T00:00:00",
          "2023-08-28T00:00:00",
          "2023-08-29T00:00:00",
          "2023-08-30T00:00:00",
          "2023-08-31T00:00:00",
          "2023-09-01T00:00:00",
          "2023-09-04T00:00:00",
          "2023-09-05T00:00:00",
          "2023-09-06T00:00:00",
          "2023-09-07T00:00:00",
          "2023-09-08T00:00:00",
          "2023-09-11T00:00:00",
          "2023-09-12T00:00:00",
          "2023-09-13T00:00:00",
          "2023-09-14T00:00:00",
          "2023-09-15T00:00:00",
          "2023-09-18T00:00:00",
          "2023-09-20T00:00:00",
          "2023-09-21T00:00:00",
          "2023-09-22T00:00:00",
          "2023-09-25T00:00:00",
          "2023-09-26T00:00:00",
          "2023-09-27T00:00:00",
          "2023-09-28T00:00:00",
          "2023-09-29T00:00:00",
          "2023-10-03T00:00:00",
          "2023-10-04T00:00:00",
          "2023-10-05T00:00:00",
          "2023-10-06T00:00:00",
          "2023-10-09T00:00:00",
          "2023-10-10T00:00:00",
          "2023-10-11T00:00:00",
          "2023-10-12T00:00:00",
          "2023-10-13T00:00:00",
          "2023-10-16T00:00:00",
          "2023-10-17T00:00:00",
          "2023-10-18T00:00:00",
          "2023-10-19T00:00:00",
          "2023-10-20T00:00:00",
          "2023-10-23T00:00:00",
          "2023-10-25T00:00:00",
          "2023-10-26T00:00:00",
          "2023-10-27T00:00:00",
          "2023-10-30T00:00:00",
          "2023-10-31T00:00:00",
          "2023-11-01T00:00:00",
          "2023-11-02T00:00:00",
          "2023-11-03T00:00:00",
          "2023-11-06T00:00:00",
          "2023-11-07T00:00:00",
          "2023-11-08T00:00:00",
          "2023-11-09T00:00:00",
          "2023-11-10T00:00:00",
          "2023-11-12T00:00:00",
          "2023-11-13T00:00:00",
          "2023-11-15T00:00:00",
          "2023-11-16T00:00:00",
          "2023-11-17T00:00:00",
          "2023-11-20T00:00:00",
          "2023-11-21T00:00:00",
          "2023-11-22T00:00:00",
          "2023-11-23T00:00:00",
          "2023-11-24T00:00:00",
          "2023-11-28T00:00:00",
          "2023-11-29T00:00:00",
          "2023-11-30T00:00:00",
          "2023-12-01T00:00:00",
          "2023-12-04T00:00:00",
          "2023-12-05T00:00:00",
          "2023-12-06T00:00:00",
          "2023-12-07T00:00:00",
          "2023-12-08T00:00:00",
          "2023-12-11T00:00:00",
          "2023-12-12T00:00:00",
          "2023-12-13T00:00:00",
          "2023-12-14T00:00:00",
          "2023-12-15T00:00:00",
          "2023-12-18T00:00:00",
          "2023-12-19T00:00:00",
          "2023-12-20T00:00:00",
          "2023-12-21T00:00:00",
          "2023-12-22T00:00:00",
          "2023-12-26T00:00:00",
          "2023-12-27T00:00:00",
          "2023-12-28T00:00:00",
          "2023-12-29T00:00:00",
          "2024-01-01T00:00:00",
          "2024-01-02T00:00:00",
          "2024-01-03T00:00:00",
          "2024-01-04T00:00:00",
          "2024-01-05T00:00:00",
          "2024-01-08T00:00:00",
          "2024-01-09T00:00:00",
          "2024-01-10T00:00:00",
          "2024-01-11T00:00:00",
          "2024-01-12T00:00:00",
          "2024-01-15T00:00:00",
          "2024-01-16T00:00:00",
          "2024-01-17T00:00:00",
          "2024-01-18T00:00:00",
          "2024-01-19T00:00:00",
          "2024-01-20T00:00:00",
          "2024-01-23T00:00:00",
          "2024-01-24T00:00:00",
          "2024-01-25T00:00:00",
          "2024-01-29T00:00:00",
          "2024-01-30T00:00:00",
          "2024-01-31T00:00:00",
          "2024-02-01T00:00:00",
          "2024-02-02T00:00:00",
          "2024-02-05T00:00:00",
          "2024-02-06T00:00:00",
          "2024-02-07T00:00:00",
          "2024-02-08T00:00:00",
          "2024-02-09T00:00:00",
          "2024-02-12T00:00:00",
          "2024-02-13T00:00:00",
          "2024-02-14T00:00:00",
          "2024-02-15T00:00:00",
          "2024-02-16T00:00:00",
          "2024-02-19T00:00:00",
          "2024-02-20T00:00:00",
          "2024-02-21T00:00:00",
          "2024-02-22T00:00:00",
          "2024-02-23T00:00:00",
          "2024-02-26T00:00:00",
          "2024-02-27T00:00:00",
          "2024-02-28T00:00:00",
          "2024-02-29T00:00:00",
          "2024-03-01T00:00:00",
          "2024-03-02T00:00:00",
          "2024-03-04T00:00:00",
          "2024-03-05T00:00:00",
          "2024-03-06T00:00:00",
          "2024-03-07T00:00:00",
          "2024-03-11T00:00:00",
          "2024-03-12T00:00:00",
          "2024-03-13T00:00:00",
          "2024-03-14T00:00:00",
          "2024-03-15T00:00:00",
          "2024-03-18T00:00:00",
          "2024-03-19T00:00:00",
          "2024-03-20T00:00:00",
          "2024-03-21T00:00:00",
          "2024-03-22T00:00:00",
          "2024-03-26T00:00:00",
          "2024-03-27T00:00:00",
          "2024-03-28T00:00:00",
          "2024-04-01T00:00:00",
          "2024-04-02T00:00:00",
          "2024-04-03T00:00:00",
          "2024-04-04T00:00:00",
          "2024-04-05T00:00:00",
          "2024-04-08T00:00:00",
          "2024-04-09T00:00:00",
          "2024-04-10T00:00:00",
          "2024-04-12T00:00:00",
          "2024-04-15T00:00:00",
          "2024-04-16T00:00:00",
          "2024-04-18T00:00:00",
          "2024-04-19T00:00:00",
          "2024-04-22T00:00:00",
          "2024-04-23T00:00:00",
          "2024-04-24T00:00:00",
          "2024-04-25T00:00:00",
          "2024-04-26T00:00:00",
          "2024-04-29T00:00:00",
          "2024-04-30T00:00:00",
          "2024-05-02T00:00:00",
          "2024-05-03T00:00:00",
          "2024-05-06T00:00:00",
          "2024-05-07T00:00:00",
          "2024-05-08T00:00:00",
          "2024-05-09T00:00:00",
          "2024-05-10T00:00:00",
          "2024-05-13T00:00:00",
          "2024-05-14T00:00:00",
          "2024-05-15T00:00:00",
          "2024-05-16T00:00:00",
          "2024-05-17T00:00:00",
          "2024-05-18T00:00:00"
         ],
         "y": [
          18168.855,
          18200.11,
          18222.281,
          18237.486,
          18261.984,
          18263.23,
          18229.207,
          18171.773,
          18128.77,
          18126.184,
          18153.508,
          18177.838,
          18201.104,
          18254.477,
          18333.74,
          18417.549,
          18465.193,
          18472.604,
          18465.918,
          18466.111,
          18471.889,
          18505.176,
          18527.3,
          18522.861,
          18511.537,
          18522.248,
          18551.334,
          18570.264,
          18606.596,
          18630.145,
          18653.646,
          18680.123,
          18685.29,
          18655.924,
          18618.97,
          18611.951,
          18654.898,
          18759.752,
          18901.783,
          19045.076,
          19158.338,
          19249.855,
          19276.768,
          19267.916,
          19258.982,
          19241.428,
          19228.434,
          19250.064,
          19314.375,
          19394.098,
          19476,
          19562.865,
          19599.97,
          19589.041,
          19548.623,
          19520.924,
          19485.49,
          19450.281,
          19443.613,
          19449.234,
          19417.918,
          19343.352,
          19288.822,
          19274.441,
          19280.44,
          19308.19,
          19323.092,
          19304.248,
          19272.56,
          19247.91,
          19213.436,
          19170.371,
          19148.975,
          19144.979,
          19160.947,
          19172.459,
          19154.273,
          19131.875,
          19120.168,
          19118.654,
          19104.383,
          19122.686,
          19173.87,
          19241.07,
          19308.959,
          19385.154,
          19463.244,
          19554.727,
          19637.607,
          19711.195,
          19770.096,
          19823.66,
          19854.096,
          19827.459,
          19747.814,
          19624.795,
          19514.406,
          19433.965,
          19397.158,
          19352.152,
          19334.31,
          19312.691,
          19275.248,
          19259.889,
          19282.74,
          19293.861,
          19331.889,
          19400.99,
          19468.773,
          19511.38,
          19528.98,
          19544.08,
          19527.557,
          19488.42,
          19429.104,
          19319.355,
          19173.703,
          18986.7,
          18856.61,
          18805.975,
          18797.531,
          18794.178,
          18822.143,
          18881.146,
          18981.807,
          19083.055,
          19170.219,
          19221.408,
          19248.69,
          19278.268,
          19287.107,
          19329.4,
          19398.482,
          19459.15,
          19492.643,
          19521.105,
          19545.96,
          19562.455,
          19568.816,
          19585.656,
          19637.447,
          19704.838,
          19788.367,
          19931.354,
          20105.35,
          20273.137,
          20395.98,
          20479.488,
          20529.512,
          20537.375,
          20524.057,
          20543.031,
          20619.54,
          20704.52,
          20779.73,
          20784.146,
          20764.861,
          20752.258,
          20761.402,
          20814.377,
          20899.074,
          20974.617,
          21029.889,
          21050.297,
          21024.467,
          21001.719,
          20994.322,
          20965.646,
          20935.574,
          20922.092,
          20924.71,
          20974.238,
          21070.4,
          21160.744,
          21156.021,
          21083.309,
          21015.14,
          20957.373,
          20864.973,
          20806.133,
          20761.285,
          20794.146,
          20827.762,
          20885.93,
          20940.355,
          21006.316,
          21052.418,
          21103.559,
          21147.594,
          21145.688,
          21129.523,
          21083.113,
          21050.174,
          21046.668,
          21070.63,
          21123.988,
          21193.902,
          21269.064,
          21308.836,
          21346.664,
          21375.373,
          21379.62,
          21381.814,
          21343.932,
          21297.096,
          21310.633,
          21359.908,
          21421.39,
          21467.639,
          21513.705,
          21553.176,
          21556.396,
          21540.316,
          21465.125,
          21397.18,
          21328.184,
          21277.936,
          21210.314,
          21150.02,
          21133.053,
          21156.441,
          21182.012,
          21221.564,
          21292.209,
          21386.275,
          21472.076,
          21532.746,
          21580.062,
          21610.865,
          21650.438,
          21682.846,
          21721.42,
          21718.65,
          21655.994,
          21554.748,
          21430.184,
          21342.477,
          21322.188,
          21346.564,
          21393.775,
          21468.205,
          21517.928,
          21578.914,
          21627.95,
          21667.959,
          21668.865,
          21644.111,
          21589.506,
          21530.518,
          21427.799,
          21337.727,
          21280.486,
          21270.41,
          21284.42,
          21339.305
         ]
        },
        {
         "line": {
          "color": "red"
         },
         "mode": "lines",
         "name": "Next Day 1",
         "type": "scatter",
         "x": [
          "2024-05-18T00:00:00",
          "2024-05-19T00:00:00"
         ],
         "y": [
          21339.3046875,
          21339.3046875
         ]
        },
        {
         "line": {
          "color": "green"
         },
         "mode": "lines",
         "name": "Next Day 2",
         "type": "scatter",
         "x": [
          "2024-05-19T00:00:00",
          "2024-05-20T00:00:00"
         ],
         "y": [
          21339.3046875,
          21237.8359375
         ]
        },
        {
         "line": {
          "color": "blue"
         },
         "mode": "lines",
         "name": "Next Day 3",
         "type": "scatter",
         "x": [
          "2024-05-20T00:00:00",
          "2024-05-21T00:00:00"
         ],
         "y": [
          21237.8359375,
          21056.322265625
         ]
        },
        {
         "line": {
          "color": "orange"
         },
         "mode": "lines",
         "name": "Next Day 4",
         "type": "scatter",
         "x": [
          "2024-05-21T00:00:00",
          "2024-05-22T00:00:00"
         ],
         "y": [
          21056.322265625,
          20840.837890625
         ]
        },
        {
         "line": {
          "color": "purple"
         },
         "mode": "lines",
         "name": "Next Day 5",
         "type": "scatter",
         "x": [
          "2024-05-22T00:00:00",
          "2024-05-23T00:00:00"
         ],
         "y": [
          20840.837890625,
          20618.884765625
         ]
        }
       ],
       "layout": {
        "legend": {
         "orientation": "h"
        },
        "showlegend": true,
        "template": {
         "data": {
          "bar": [
           {
            "error_x": {
             "color": "#2a3f5f"
            },
            "error_y": {
             "color": "#2a3f5f"
            },
            "marker": {
             "line": {
              "color": "#E5ECF6",
              "width": 0.5
             },
             "pattern": {
              "fillmode": "overlay",
              "size": 10,
              "solidity": 0.2
             }
            },
            "type": "bar"
           }
          ],
          "barpolar": [
           {
            "marker": {
             "line": {
              "color": "#E5ECF6",
              "width": 0.5
             },
             "pattern": {
              "fillmode": "overlay",
              "size": 10,
              "solidity": 0.2
             }
            },
            "type": "barpolar"
           }
          ],
          "carpet": [
           {
            "aaxis": {
             "endlinecolor": "#2a3f5f",
             "gridcolor": "white",
             "linecolor": "white",
             "minorgridcolor": "white",
             "startlinecolor": "#2a3f5f"
            },
            "baxis": {
             "endlinecolor": "#2a3f5f",
             "gridcolor": "white",
             "linecolor": "white",
             "minorgridcolor": "white",
             "startlinecolor": "#2a3f5f"
            },
            "type": "carpet"
           }
          ],
          "choropleth": [
           {
            "colorbar": {
             "outlinewidth": 0,
             "ticks": ""
            },
            "type": "choropleth"
           }
          ],
          "contour": [
           {
            "colorbar": {
             "outlinewidth": 0,
             "ticks": ""
            },
            "colorscale": [
             [
              0,
              "#0d0887"
             ],
             [
              0.1111111111111111,
              "#46039f"
             ],
             [
              0.2222222222222222,
              "#7201a8"
             ],
             [
              0.3333333333333333,
              "#9c179e"
             ],
             [
              0.4444444444444444,
              "#bd3786"
             ],
             [
              0.5555555555555556,
              "#d8576b"
             ],
             [
              0.6666666666666666,
              "#ed7953"
             ],
             [
              0.7777777777777778,
              "#fb9f3a"
             ],
             [
              0.8888888888888888,
              "#fdca26"
             ],
             [
              1,
              "#f0f921"
             ]
            ],
            "type": "contour"
           }
          ],
          "contourcarpet": [
           {
            "colorbar": {
             "outlinewidth": 0,
             "ticks": ""
            },
            "type": "contourcarpet"
           }
          ],
          "heatmap": [
           {
            "colorbar": {
             "outlinewidth": 0,
             "ticks": ""
            },
            "colorscale": [
             [
              0,
              "#0d0887"
             ],
             [
              0.1111111111111111,
              "#46039f"
             ],
             [
              0.2222222222222222,
              "#7201a8"
             ],
             [
              0.3333333333333333,
              "#9c179e"
             ],
             [
              0.4444444444444444,
              "#bd3786"
             ],
             [
              0.5555555555555556,
              "#d8576b"
             ],
             [
              0.6666666666666666,
              "#ed7953"
             ],
             [
              0.7777777777777778,
              "#fb9f3a"
             ],
             [
              0.8888888888888888,
              "#fdca26"
             ],
             [
              1,
              "#f0f921"
             ]
            ],
            "type": "heatmap"
           }
          ],
          "heatmapgl": [
           {
            "colorbar": {
             "outlinewidth": 0,
             "ticks": ""
            },
            "colorscale": [
             [
              0,
              "#0d0887"
             ],
             [
              0.1111111111111111,
              "#46039f"
             ],
             [
              0.2222222222222222,
              "#7201a8"
             ],
             [
              0.3333333333333333,
              "#9c179e"
             ],
             [
              0.4444444444444444,
              "#bd3786"
             ],
             [
              0.5555555555555556,
              "#d8576b"
             ],
             [
              0.6666666666666666,
              "#ed7953"
             ],
             [
              0.7777777777777778,
              "#fb9f3a"
             ],
             [
              0.8888888888888888,
              "#fdca26"
             ],
             [
              1,
              "#f0f921"
             ]
            ],
            "type": "heatmapgl"
           }
          ],
          "histogram": [
           {
            "marker": {
             "pattern": {
              "fillmode": "overlay",
              "size": 10,
              "solidity": 0.2
             }
            },
            "type": "histogram"
           }
          ],
          "histogram2d": [
           {
            "colorbar": {
             "outlinewidth": 0,
             "ticks": ""
            },
            "colorscale": [
             [
              0,
              "#0d0887"
             ],
             [
              0.1111111111111111,
              "#46039f"
             ],
             [
              0.2222222222222222,
              "#7201a8"
             ],
             [
              0.3333333333333333,
              "#9c179e"
             ],
             [
              0.4444444444444444,
              "#bd3786"
             ],
             [
              0.5555555555555556,
              "#d8576b"
             ],
             [
              0.6666666666666666,
              "#ed7953"
             ],
             [
              0.7777777777777778,
              "#fb9f3a"
             ],
             [
              0.8888888888888888,
              "#fdca26"
             ],
             [
              1,
              "#f0f921"
             ]
            ],
            "type": "histogram2d"
           }
          ],
          "histogram2dcontour": [
           {
            "colorbar": {
             "outlinewidth": 0,
             "ticks": ""
            },
            "colorscale": [
             [
              0,
              "#0d0887"
             ],
             [
              0.1111111111111111,
              "#46039f"
             ],
             [
              0.2222222222222222,
              "#7201a8"
             ],
             [
              0.3333333333333333,
              "#9c179e"
             ],
             [
              0.4444444444444444,
              "#bd3786"
             ],
             [
              0.5555555555555556,
              "#d8576b"
             ],
             [
              0.6666666666666666,
              "#ed7953"
             ],
             [
              0.7777777777777778,
              "#fb9f3a"
             ],
             [
              0.8888888888888888,
              "#fdca26"
             ],
             [
              1,
              "#f0f921"
             ]
            ],
            "type": "histogram2dcontour"
           }
          ],
          "mesh3d": [
           {
            "colorbar": {
             "outlinewidth": 0,
             "ticks": ""
            },
            "type": "mesh3d"
           }
          ],
          "parcoords": [
           {
            "line": {
             "colorbar": {
              "outlinewidth": 0,
              "ticks": ""
             }
            },
            "type": "parcoords"
           }
          ],
          "pie": [
           {
            "automargin": true,
            "type": "pie"
           }
          ],
          "scatter": [
           {
            "fillpattern": {
             "fillmode": "overlay",
             "size": 10,
             "solidity": 0.2
            },
            "type": "scatter"
           }
          ],
          "scatter3d": [
           {
            "line": {
             "colorbar": {
              "outlinewidth": 0,
              "ticks": ""
             }
            },
            "marker": {
             "colorbar": {
              "outlinewidth": 0,
              "ticks": ""
             }
            },
            "type": "scatter3d"
           }
          ],
          "scattercarpet": [
           {
            "marker": {
             "colorbar": {
              "outlinewidth": 0,
              "ticks": ""
             }
            },
            "type": "scattercarpet"
           }
          ],
          "scattergeo": [
           {
            "marker": {
             "colorbar": {
              "outlinewidth": 0,
              "ticks": ""
             }
            },
            "type": "scattergeo"
           }
          ],
          "scattergl": [
           {
            "marker": {
             "colorbar": {
              "outlinewidth": 0,
              "ticks": ""
             }
            },
            "type": "scattergl"
           }
          ],
          "scattermapbox": [
           {
            "marker": {
             "colorbar": {
              "outlinewidth": 0,
              "ticks": ""
             }
            },
            "type": "scattermapbox"
           }
          ],
          "scatterpolar": [
           {
            "marker": {
             "colorbar": {
              "outlinewidth": 0,
              "ticks": ""
             }
            },
            "type": "scatterpolar"
           }
          ],
          "scatterpolargl": [
           {
            "marker": {
             "colorbar": {
              "outlinewidth": 0,
              "ticks": ""
             }
            },
            "type": "scatterpolargl"
           }
          ],
          "scatterternary": [
           {
            "marker": {
             "colorbar": {
              "outlinewidth": 0,
              "ticks": ""
             }
            },
            "type": "scatterternary"
           }
          ],
          "surface": [
           {
            "colorbar": {
             "outlinewidth": 0,
             "ticks": ""
            },
            "colorscale": [
             [
              0,
              "#0d0887"
             ],
             [
              0.1111111111111111,
              "#46039f"
             ],
             [
              0.2222222222222222,
              "#7201a8"
             ],
             [
              0.3333333333333333,
              "#9c179e"
             ],
             [
              0.4444444444444444,
              "#bd3786"
             ],
             [
              0.5555555555555556,
              "#d8576b"
             ],
             [
              0.6666666666666666,
              "#ed7953"
             ],
             [
              0.7777777777777778,
              "#fb9f3a"
             ],
             [
              0.8888888888888888,
              "#fdca26"
             ],
             [
              1,
              "#f0f921"
             ]
            ],
            "type": "surface"
           }
          ],
          "table": [
           {
            "cells": {
             "fill": {
              "color": "#EBF0F8"
             },
             "line": {
              "color": "white"
             }
            },
            "header": {
             "fill": {
              "color": "#C8D4E3"
             },
             "line": {
              "color": "white"
             }
            },
            "type": "table"
           }
          ]
         },
         "layout": {
          "annotationdefaults": {
           "arrowcolor": "#2a3f5f",
           "arrowhead": 0,
           "arrowwidth": 1
          },
          "autotypenumbers": "strict",
          "coloraxis": {
           "colorbar": {
            "outlinewidth": 0,
            "ticks": ""
           }
          },
          "colorscale": {
           "diverging": [
            [
             0,
             "#8e0152"
            ],
            [
             0.1,
             "#c51b7d"
            ],
            [
             0.2,
             "#de77ae"
            ],
            [
             0.3,
             "#f1b6da"
            ],
            [
             0.4,
             "#fde0ef"
            ],
            [
             0.5,
             "#f7f7f7"
            ],
            [
             0.6,
             "#e6f5d0"
            ],
            [
             0.7,
             "#b8e186"
            ],
            [
             0.8,
             "#7fbc41"
            ],
            [
             0.9,
             "#4d9221"
            ],
            [
             1,
             "#276419"
            ]
           ],
           "sequential": [
            [
             0,
             "#0d0887"
            ],
            [
             0.1111111111111111,
             "#46039f"
            ],
            [
             0.2222222222222222,
             "#7201a8"
            ],
            [
             0.3333333333333333,
             "#9c179e"
            ],
            [
             0.4444444444444444,
             "#bd3786"
            ],
            [
             0.5555555555555556,
             "#d8576b"
            ],
            [
             0.6666666666666666,
             "#ed7953"
            ],
            [
             0.7777777777777778,
             "#fb9f3a"
            ],
            [
             0.8888888888888888,
             "#fdca26"
            ],
            [
             1,
             "#f0f921"
            ]
           ],
           "sequentialminus": [
            [
             0,
             "#0d0887"
            ],
            [
             0.1111111111111111,
             "#46039f"
            ],
            [
             0.2222222222222222,
             "#7201a8"
            ],
            [
             0.3333333333333333,
             "#9c179e"
            ],
            [
             0.4444444444444444,
             "#bd3786"
            ],
            [
             0.5555555555555556,
             "#d8576b"
            ],
            [
             0.6666666666666666,
             "#ed7953"
            ],
            [
             0.7777777777777778,
             "#fb9f3a"
            ],
            [
             0.8888888888888888,
             "#fdca26"
            ],
            [
             1,
             "#f0f921"
            ]
           ]
          },
          "colorway": [
           "#636efa",
           "#EF553B",
           "#00cc96",
           "#ab63fa",
           "#FFA15A",
           "#19d3f3",
           "#FF6692",
           "#B6E880",
           "#FF97FF",
           "#FECB52"
          ],
          "font": {
           "color": "#2a3f5f"
          },
          "geo": {
           "bgcolor": "white",
           "lakecolor": "white",
           "landcolor": "#E5ECF6",
           "showlakes": true,
           "showland": true,
           "subunitcolor": "white"
          },
          "hoverlabel": {
           "align": "left"
          },
          "hovermode": "closest",
          "mapbox": {
           "style": "light"
          },
          "paper_bgcolor": "white",
          "plot_bgcolor": "#E5ECF6",
          "polar": {
           "angularaxis": {
            "gridcolor": "white",
            "linecolor": "white",
            "ticks": ""
           },
           "bgcolor": "#E5ECF6",
           "radialaxis": {
            "gridcolor": "white",
            "linecolor": "white",
            "ticks": ""
           }
          },
          "scene": {
           "xaxis": {
            "backgroundcolor": "#E5ECF6",
            "gridcolor": "white",
            "gridwidth": 2,
            "linecolor": "white",
            "showbackground": true,
            "ticks": "",
            "zerolinecolor": "white"
           },
           "yaxis": {
            "backgroundcolor": "#E5ECF6",
            "gridcolor": "white",
            "gridwidth": 2,
            "linecolor": "white",
            "showbackground": true,
            "ticks": "",
            "zerolinecolor": "white"
           },
           "zaxis": {
            "backgroundcolor": "#E5ECF6",
            "gridcolor": "white",
            "gridwidth": 2,
            "linecolor": "white",
            "showbackground": true,
            "ticks": "",
            "zerolinecolor": "white"
           }
          },
          "shapedefaults": {
           "line": {
            "color": "#2a3f5f"
           }
          },
          "ternary": {
           "aaxis": {
            "gridcolor": "white",
            "linecolor": "white",
            "ticks": ""
           },
           "baxis": {
            "gridcolor": "white",
            "linecolor": "white",
            "ticks": ""
           },
           "bgcolor": "#E5ECF6",
           "caxis": {
            "gridcolor": "white",
            "linecolor": "white",
            "ticks": ""
           }
          },
          "title": {
           "x": 0.05
          },
          "xaxis": {
           "automargin": true,
           "gridcolor": "white",
           "linecolor": "white",
           "ticks": "",
           "title": {
            "standoff": 15
           },
           "zerolinecolor": "white",
           "zerolinewidth": 2
          },
          "yaxis": {
           "automargin": true,
           "gridcolor": "white",
           "linecolor": "white",
           "ticks": "",
           "title": {
            "standoff": 15
           },
           "zerolinecolor": "white",
           "zerolinewidth": 2
          }
         }
        },
        "title": {
         "text": "Actual vs. Predicted Prices with Next 5 Days Predictions"
        },
        "xaxis": {
         "title": {
          "text": "Date"
         }
        },
        "yaxis": {
         "title": {
          "text": "Price"
         }
        }
       }
      }
     },
     "metadata": {},
     "output_type": "display_data"
    }
   ],
   "source": [
    "# Plotting actual and predicted prices\n",
    "colors = ['red', 'green', 'blue', 'orange', 'purple']\n",
    "\n",
    "actual_trace = go.Scatter(x=df.index[-len(y_test):], y=y_test_scaled.flatten(), mode='lines', name='Actual Price', line=dict(color='blue'))\n",
    "predicted_trace = go.Scatter(x=df.index[-len(predictions):], y=predictions.flatten(), mode='lines', name='Predicted Price', line=dict(color='orange'))\n",
    "\n",
    "# Calculate the next 5 dates after the last date in the dataset\n",
    "last_date = df.index[-1]\n",
    "next_5_days_index = pd.date_range(last_date + pd.Timedelta(days=1), periods=5)\n",
    "\n",
    "# Plotting prices for the next 5 days\n",
    "next_5_days_trace = []\n",
    "predict_price = predictions[-1][0]\n",
    "for i, price in enumerate(next_5_days_predictions, start=1):\n",
    "    next_day_trace = go.Scatter(x=[last_date, next_5_days_index[i-1]], y=[predict_price, price[0][0]], mode='lines', name=f'Next Day {i}', line=dict(color=colors[i-1]))\n",
    "    next_5_days_trace.append(next_day_trace)\n",
    "    last_date = next_5_days_index[i-1]\n",
    "    predict_price = price[0][0]\n",
    "\n",
    "# Combine all traces\n",
    "traces = [actual_trace, predicted_trace] + next_5_days_trace\n",
    "\n",
    "# Define layout\n",
    "layout = go.Layout(title='Actual vs. Predicted Prices with Next 5 Days Predictions',\n",
    "                   xaxis=dict(title='Date'),\n",
    "                   yaxis=dict(title='Price'),\n",
    "                   legend=dict(orientation='h'),\n",
    "                   showlegend=True)\n",
    "\n",
    "# Create figure\n",
    "fig = go.Figure(data=traces, layout=layout)\n",
    "\n",
    "# Show interactive plot\n",
    "fig.show()\n"
   ]
  },
  {
   "cell_type": "markdown",
   "metadata": {},
   "source": [
    "# **Save Model**"
   ]
  },
  {
   "cell_type": "code",
   "execution_count": 22,
   "metadata": {},
   "outputs": [],
   "source": [
    "# Save the model\n",
    "torch.save(model.state_dict(), \"model.pth\")"
   ]
  }
 ],
 "metadata": {
  "kernelspec": {
   "display_name": "Python 3",
   "language": "python",
   "name": "python3"
  },
  "language_info": {
   "codemirror_mode": {
    "name": "ipython",
    "version": 3
   },
   "file_extension": ".py",
   "mimetype": "text/x-python",
   "name": "python",
   "nbconvert_exporter": "python",
   "pygments_lexer": "ipython3",
   "version": "3.10.5"
  }
 },
 "nbformat": 4,
 "nbformat_minor": 2
}
